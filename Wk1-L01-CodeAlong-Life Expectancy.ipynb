{
 "cells": [
  {
   "cell_type": "markdown",
   "id": "0eba0efa",
   "metadata": {},
   "source": [
    "# Week 17, Lecture 01 CodeAlong\n",
    "- Coefficients & Feature Importance"
   ]
  },
  {
   "cell_type": "markdown",
   "id": "0fc21da5",
   "metadata": {},
   "source": [
    "## Lesson Objectives"
   ]
  },
  {
   "cell_type": "markdown",
   "id": "23a92cad",
   "metadata": {},
   "source": [
    "- By the end of this lesson, students will be able to:\n",
    "    - Extract feature names from sklearn v1.1 objects\n",
    "    - Extract and visualize coefficients\n",
    "    - Save models to a joblib file\n"
   ]
  },
  {
   "cell_type": "markdown",
   "id": "dc5c874e",
   "metadata": {},
   "source": [
    "### The Data\n",
    "\n",
    "Data comes from the World Health Organization.  It describes demographic, health, and economic data from countries around the world between 2000 and 2015. \n",
    "\n",
    "Each row is one country during one year."
   ]
  },
  {
   "cell_type": "markdown",
   "id": "031af932",
   "metadata": {},
   "source": [
    "> Task Inspired by: https://medium.com/@shanzehhaji/using-a-linear-regression-model-to-predict-life-expectancy-de3aef66ac21\n",
    "\n",
    "- Kaggle Dataset on Life Expectancy:\n",
    "    - https://www.kaggle.com/datasets/kumarajarshi/life-expectancy-who"
   ]
  },
  {
   "cell_type": "code",
   "execution_count": null,
   "id": "94a13e42",
   "metadata": {
    "ExecuteTime": {
     "end_time": "2023-07-26T02:11:38.574132Z",
     "start_time": "2023-07-26T02:11:36.843714Z"
    }
   },
   "outputs": [],
   "source": [
    "## Our standard imports\n",
    "import pandas as pd\n",
    "import numpy as np\n",
    "import matplotlib.pyplot as plt\n",
    "import seaborn as sns\n",
    "import missingno as miss\n",
    "\n",
    "## Preprocessing tools\n",
    "from sklearn.model_selection import train_test_split\n",
    "from sklearn.compose import make_column_transformer, make_column_selector\n",
    "from sklearn.pipeline import make_pipeline\n",
    "from sklearn.preprocessing import OneHotEncoder, StandardScaler\n",
    "from sklearn.impute import SimpleImputer\n",
    "\n",
    "## Models & evaluation metrics\n",
    "from sklearn import metrics\n",
    "from sklearn.linear_model import LinearRegression\n",
    "from sklearn.tree import DecisionTreeRegressor\n",
    "from sklearn.ensemble import RandomForestRegressor\n",
    "import joblib\n",
    "\n",
    "## setting random state for reproducibility\n",
    "SEED = 321\n",
    "np.random.seed(SEED)\n",
    "## Matplotlib style\n",
    "fav_style = ('ggplot','tableau-colorblind10')\n",
    "fav_context  ={'context':'notebook', 'font_scale':1.1}\n",
    "plt.style.use(fav_style)\n",
    "sns.set_context(**fav_context)\n",
    "plt.rcParams['savefig.transparent'] = False\n",
    "plt.rcParams['savefig.bbox'] = 'tight'"
   ]
  },
  {
   "cell_type": "code",
   "execution_count": null,
   "id": "d9919101",
   "metadata": {
    "ExecuteTime": {
     "end_time": "2023-07-26T02:11:39.038321Z",
     "start_time": "2023-07-26T02:11:38.576127Z"
    },
    "scrolled": true
   },
   "outputs": [],
   "source": [
    "## Importing Custom Functions\n",
    "%load_ext autoreload\n",
    "%autoreload 2\n",
    "from CODE import data_enrichment as de"
   ]
  },
  {
   "cell_type": "code",
   "execution_count": null,
   "id": "8ae06358",
   "metadata": {
    "ExecuteTime": {
     "end_time": "2023-07-26T02:11:39.146140Z",
     "start_time": "2023-07-26T02:11:39.039238Z"
    }
   },
   "outputs": [],
   "source": [
    "import pandas as pd\n",
    "df = pd.read_csv(\"../Data/Life Expectancy Data.csv\")\n",
    "df.info()\n",
    "df.head(3)"
   ]
  },
  {
   "cell_type": "code",
   "execution_count": null,
   "id": "ab78e1d4",
   "metadata": {
    "ExecuteTime": {
     "end_time": "2023-07-26T02:11:39.254690Z",
     "start_time": "2023-07-26T02:11:39.148025Z"
    }
   },
   "outputs": [],
   "source": [
    "# clean extra spaces\n",
    "df.columns = df.columns.str.strip()\n",
    "df"
   ]
  },
  {
   "cell_type": "code",
   "execution_count": null,
   "id": "91551518",
   "metadata": {
    "ExecuteTime": {
     "end_time": "2023-07-26T02:11:39.365124Z",
     "start_time": "2023-07-26T02:11:39.256197Z"
    }
   },
   "outputs": [],
   "source": [
    "pd.set_option('display.max_columns',0)\n",
    "df"
   ]
  },
  {
   "cell_type": "markdown",
   "id": "285bb58e",
   "metadata": {},
   "source": [
    "## EDA"
   ]
  },
  {
   "cell_type": "code",
   "execution_count": null,
   "id": "9971df12",
   "metadata": {
    "ExecuteTime": {
     "end_time": "2023-07-26T02:11:39.443657Z",
     "start_time": "2023-07-26T02:11:39.366122Z"
    }
   },
   "outputs": [],
   "source": [
    "df.isna().sum()"
   ]
  },
  {
   "cell_type": "code",
   "execution_count": null,
   "id": "2e43c48c",
   "metadata": {
    "ExecuteTime": {
     "end_time": "2023-07-26T02:11:40.153064Z",
     "start_time": "2023-07-26T02:11:39.444655Z"
    }
   },
   "outputs": [],
   "source": [
    "miss.matrix(df)"
   ]
  },
  {
   "cell_type": "markdown",
   "id": "c213c8ea",
   "metadata": {},
   "source": [
    "> Can't have null values for the target!"
   ]
  },
  {
   "cell_type": "code",
   "execution_count": null,
   "id": "66143982",
   "metadata": {
    "ExecuteTime": {
     "end_time": "2023-07-26T02:11:40.231044Z",
     "start_time": "2023-07-26T02:11:40.154060Z"
    }
   },
   "outputs": [],
   "source": [
    "# drop null values ONLY FROM TARGET\n",
    "df = df.dropna(subset=['Life expectancy'])"
   ]
  },
  {
   "cell_type": "code",
   "execution_count": null,
   "id": "e8118b61",
   "metadata": {
    "ExecuteTime": {
     "end_time": "2023-07-26T02:11:40.359021Z",
     "start_time": "2023-07-26T02:11:40.232041Z"
    }
   },
   "outputs": [],
   "source": [
    "df.describe()"
   ]
  },
  {
   "cell_type": "code",
   "execution_count": null,
   "id": "684f02f8",
   "metadata": {
    "ExecuteTime": {
     "end_time": "2023-07-26T02:11:40.748044Z",
     "start_time": "2023-07-26T02:11:40.362013Z"
    }
   },
   "outputs": [],
   "source": [
    "target = 'Life expectancy'\n",
    "\n",
    "grid_spec = {'height_ratios':[0.8,0.2]}\n",
    "fig, axes = plt.subplots(nrows=2, figsize=(6,5), gridspec_kw=grid_spec)\n",
    "\n",
    "sns.histplot(data=df, x=target,ax=axes[0])\n",
    "sns.boxplot(data=df, x=target, ax=axes[1]);"
   ]
  },
  {
   "cell_type": "markdown",
   "id": "150ae49f",
   "metadata": {},
   "source": [
    "## Preprocessing (with Sklearn v1.1+)"
   ]
  },
  {
   "cell_type": "code",
   "execution_count": null,
   "id": "2d000e2d",
   "metadata": {
    "ExecuteTime": {
     "end_time": "2023-07-26T02:11:40.874890Z",
     "start_time": "2023-07-26T02:11:40.749041Z"
    }
   },
   "outputs": [],
   "source": [
    "# Run the following command on your local computer to check the version of sklearn\n",
    "import sklearn\n",
    "!python --version\n",
    "print(f\"sklearn version: {sklearn.__version__}\")"
   ]
  },
  {
   "cell_type": "code",
   "execution_count": null,
   "id": "a36a872a",
   "metadata": {
    "ExecuteTime": {
     "end_time": "2023-07-26T02:11:41.016053Z",
     "start_time": "2023-07-26T02:11:40.877179Z"
    }
   },
   "outputs": [],
   "source": [
    "# ### Train Test Split\n",
    "## Make x and y variables\n",
    "target = \"Life expectancy\"\n",
    "\n",
    "## drop country feature.  There are too many and it's not something that can be changed\n",
    "drop_feats = ['Country']\n",
    "\n",
    "y = df[target].copy()\n",
    "X = df.drop(columns=[target, *drop_feats]).copy()\n",
    "\n",
    "## train-test-split with random state for reproducibility\n",
    "X_train, X_test, y_train, y_test = train_test_split(X,y, random_state=SEED)\n",
    "X_train.head(3)"
   ]
  },
  {
   "cell_type": "code",
   "execution_count": null,
   "id": "f77d893c",
   "metadata": {
    "ExecuteTime": {
     "end_time": "2023-07-26T02:11:41.096119Z",
     "start_time": "2023-07-26T02:11:41.017110Z"
    },
    "scrolled": true
   },
   "outputs": [],
   "source": [
    "## Make numeric preprocessing pipeline\n",
    "num_sel = make_column_selector(dtype_include='number')\n",
    "num_pipe = make_pipeline(SimpleImputer(strategy='mean'))\n",
    "num_pipe"
   ]
  },
  {
   "cell_type": "markdown",
   "id": "d700672e",
   "metadata": {},
   "source": [
    "<center> <font color='red' size=5>Notice We Are Not Scaling!!! </font>\n",
    "    \n",
    "   **<center> Q: Why not? </center>**"
   ]
  },
  {
   "cell_type": "code",
   "execution_count": null,
   "id": "6c7bffdd",
   "metadata": {
    "ExecuteTime": {
     "end_time": "2023-07-26T02:11:41.174132Z",
     "start_time": "2023-07-26T02:11:41.097199Z"
    }
   },
   "outputs": [],
   "source": [
    "## Make categorical preprocessing pipeline\n",
    "## Drop one of the binary columns after OHE to reduce multicollinearity\n",
    "cat_sel = make_column_selector(dtype_include='object')\n",
    "cat_pipe = make_pipeline(SimpleImputer(strategy='constant',\n",
    "                                       fill_value='MISSING'),\n",
    "                         OneHotEncoder(handle_unknown='ignore', sparse_output=False,\n",
    "                                      drop='if_binary'))"
   ]
  },
  {
   "cell_type": "code",
   "execution_count": null,
   "id": "a4df81e7",
   "metadata": {
    "ExecuteTime": {
     "end_time": "2023-07-26T02:11:41.267981Z",
     "start_time": "2023-07-26T02:11:41.176127Z"
    }
   },
   "outputs": [],
   "source": [
    "## make the preprocessing column transformer\n",
    "preprocessor = make_column_transformer((num_pipe, num_sel),\n",
    "                                       (cat_pipe,cat_sel),)\n",
    "preprocessor"
   ]
  },
  {
   "cell_type": "markdown",
   "id": "6b1941e8",
   "metadata": {},
   "source": [
    "### Get Features Names + Verbose Feature Names Out"
   ]
  },
  {
   "cell_type": "code",
   "execution_count": null,
   "id": "26bdb1a4",
   "metadata": {
    "ExecuteTime": {
     "end_time": "2023-07-26T02:11:41.407000Z",
     "start_time": "2023-07-26T02:11:41.268978Z"
    }
   },
   "outputs": [],
   "source": [
    "## make the preprocessing column transformer WITH CORRECT ARGS!\n",
    "preprocessor = make_column_transformer((num_pipe, num_sel),\n",
    "                                       (cat_pipe,cat_sel),\n",
    "                                      verbose_feature_names_out=False)\n",
    "preprocessor.fit(X_train)\n",
    "X_train_df = pd.DataFrame(preprocessor.transform(X_train),\n",
    "                          columns=preprocessor.get_feature_names_out(),\n",
    "                         index=X_train.index)\n",
    "X_test_df = pd.DataFrame(preprocessor.transform(X_test),\n",
    "                          columns=preprocessor.get_feature_names_out(),\n",
    "                         index=X_test.index)\n",
    "display(X_train_df)\n"
   ]
  },
  {
   "cell_type": "markdown",
   "id": "3afce3de",
   "metadata": {},
   "source": [
    "## Let's make a <span style=\"color:red\"> SCALED </span> version as well to see how the coefficients are different."
   ]
  },
  {
   "cell_type": "code",
   "execution_count": null,
   "id": "8ed26de5",
   "metadata": {
    "ExecuteTime": {
     "end_time": "2023-07-26T02:11:41.547479Z",
     "start_time": "2023-07-26T02:11:41.407998Z"
    }
   },
   "outputs": [],
   "source": [
    "## make the preprocessing column transformer WITH CORRECT ARGS!\n",
    "scaling_preprocessor = make_pipeline(preprocessor, StandardScaler())\n",
    "scaling_preprocessor.fit(X_train)\n",
    "X_train_scaled_df = pd.DataFrame(scaling_preprocessor.transform(X_train),\n",
    "                          columns=scaling_preprocessor.get_feature_names_out(),\n",
    "                         index=X_train.index)\n",
    "X_test_scaled_df = pd.DataFrame(scaling_preprocessor.transform(X_test),\n",
    "                          columns=scaling_preprocessor.get_feature_names_out(),\n",
    "                         index=X_test.index)\n",
    "display(X_train_scaled_df)"
   ]
  },
  {
   "cell_type": "markdown",
   "id": "4f7809a0",
   "metadata": {},
   "source": [
    "# Modeling - Linear Regression"
   ]
  },
  {
   "cell_type": "code",
   "execution_count": null,
   "id": "e06edec8",
   "metadata": {
    "ExecuteTime": {
     "end_time": "2023-07-26T02:11:41.627026Z",
     "start_time": "2023-07-26T02:11:41.549476Z"
    }
   },
   "outputs": [],
   "source": [
    "def evaluate_regression(model, X_train,y_train, X_test, y_test,for_slides=True): \n",
    "    \"\"\"Evaluates a scikit learn regression model using r-squared and RMSE\n",
    "    FOR SLIDES VERS DOES MULTIPLE PRINT STATEMENTS FOR VERTICAL DISPLAY OF INFO\"\"\"\n",
    "    \n",
    "    ## Training Data\n",
    "    y_pred_train = model.predict(X_train)\n",
    "    r2_train = metrics.r2_score(y_train, y_pred_train)\n",
    "    rmse_train = metrics.mean_squared_error(y_train, y_pred_train, \n",
    "                                            squared=False)\n",
    "    mae_train = metrics.mean_absolute_error(y_train, y_pred_train)\n",
    "    \n",
    "\n",
    "    ## Test Data\n",
    "    y_pred_test = model.predict(X_test)\n",
    "    r2_test = metrics.r2_score(y_test, y_pred_test)\n",
    "    rmse_test = metrics.mean_squared_error(y_test, y_pred_test, \n",
    "                                            squared=False)\n",
    "    mae_test = metrics.mean_absolute_error(y_test, y_pred_test)\n",
    "    \n",
    "    if for_slides:\n",
    "        df_version =[['Split','R^2','MAE','RMSE']]\n",
    "        df_version.append(['Train',r2_train, mae_train, rmse_train])\n",
    "        df_version.append(['Test',r2_test, mae_test, rmse_test])\n",
    "        df_results = pd.DataFrame(df_version[1:], columns=df_version[0])\n",
    "        df_results = df_results.round(2)\n",
    "        display(df_results.style.hide(axis='index').format(precision=2, thousands=','))\n",
    "        \n",
    "    else: \n",
    "        print(f\"Training Data:\\tR^2 = {r2_train:,.2f}\\tRMSE = {rmse_train:,.2f}\\tMAE = {mae_train:,.2f}\")\n",
    "        print(f\"Test Data:\\tR^2 = {r2_test:,.2f}\\tRMSE = {rmse_test:,.2f}\\tMAE = {mae_test:,.2f}\")\n",
    "\n"
   ]
  },
  {
   "cell_type": "markdown",
   "id": "1b2fa28b",
   "metadata": {},
   "source": [
    "### Linear Model Assumptions\n",
    "\n",
    "**Linearity:**\n",
    "That the input features have a linear relationship with the target.\n",
    "\n",
    "**Independence of Features:** (AKA Little-to-No Multicollinearity)\n",
    "That the features are not strongly related to other features.\n",
    "\n",
    "**Normality:**\n",
    "The model's residuals are approximately normally distributed.\n",
    "\n",
    "**Homoscedasticity:**\n",
    "The model residuals have equal variance across all predictions."
   ]
  },
  {
   "cell_type": "markdown",
   "id": "2354dcaa",
   "metadata": {},
   "source": [
    "## Model 1: Linear Regression"
   ]
  },
  {
   "cell_type": "code",
   "execution_count": null,
   "id": "98d32377",
   "metadata": {
    "ExecuteTime": {
     "end_time": "2023-07-26T02:11:41.800015Z",
     "start_time": "2023-07-26T02:11:41.628023Z"
    }
   },
   "outputs": [],
   "source": [
    "from sklearn.linear_model import LinearRegression\n",
    "lin_reg= LinearRegression()\n",
    "lin_reg.fit(X_train_df,y_train)\n",
    "evaluate_regression(lin_reg, X_train_df, y_train, \n",
    "                    X_test_df, y_test)"
   ]
  },
  {
   "cell_type": "code",
   "execution_count": null,
   "id": "7a4e89f2",
   "metadata": {
    "ExecuteTime": {
     "end_time": "2023-07-26T02:11:42.219044Z",
     "start_time": "2023-07-26T02:11:41.802009Z"
    }
   },
   "outputs": [],
   "source": [
    "de.plot_residuals(lin_reg, X_test_df,y_test)"
   ]
  },
  {
   "cell_type": "markdown",
   "id": "3cabe320",
   "metadata": {},
   "source": [
    "### Extracting and Visualizing Coefficients"
   ]
  },
  {
   "cell_type": "markdown",
   "id": "c4d32bf5",
   "metadata": {},
   "source": [
    "#### Extracting Coefficients"
   ]
  },
  {
   "cell_type": "code",
   "execution_count": null,
   "id": "6448751f",
   "metadata": {
    "ExecuteTime": {
     "end_time": "2023-07-26T02:11:42.296957Z",
     "start_time": "2023-07-26T02:11:42.220040Z"
    },
    "scrolled": true
   },
   "outputs": [],
   "source": [
    "# access the .coef_ \n"
   ]
  },
  {
   "cell_type": "code",
   "execution_count": null,
   "id": "b6cde4b6",
   "metadata": {
    "ExecuteTime": {
     "end_time": "2023-07-26T02:11:42.374507Z",
     "start_time": "2023-07-26T02:11:42.297954Z"
    }
   },
   "outputs": [],
   "source": [
    "# Intercept\n"
   ]
  },
  {
   "cell_type": "code",
   "execution_count": null,
   "id": "beaa5a79",
   "metadata": {
    "ExecuteTime": {
     "end_time": "2023-07-26T02:11:42.464965Z",
     "start_time": "2023-07-26T02:11:42.376014Z"
    },
    "scrolled": false
   },
   "outputs": [],
   "source": [
    "## Saving the coefficients\n"
   ]
  },
  {
   "cell_type": "markdown",
   "id": "948f56da",
   "metadata": {},
   "source": [
    "### def `get_coefficients`"
   ]
  },
  {
   "cell_type": "code",
   "execution_count": null,
   "id": "d9942674",
   "metadata": {
    "ExecuteTime": {
     "end_time": "2023-07-26T02:11:42.543452Z",
     "start_time": "2023-07-26T02:11:42.465962Z"
    }
   },
   "outputs": [],
   "source": [
    "## formatting numbers to not use , thousands sep, and 4 digits floats\n",
    "pd.set_option('display.float_format', lambda x: f\"{x:,.4f}\")\n"
   ]
  },
  {
   "cell_type": "code",
   "execution_count": null,
   "id": "74c07d8d",
   "metadata": {
    "ExecuteTime": {
     "end_time": "2023-07-26T02:11:42.635957Z",
     "start_time": "2023-07-26T02:11:42.544448Z"
    }
   },
   "outputs": [],
   "source": [
    "# Define get_coefficients function to extract LinReg coefficients\n"
   ]
  },
  {
   "cell_type": "markdown",
   "id": "e26c9a62",
   "metadata": {},
   "source": [
    "## Scaled vs Unscaled Data\n",
    "\n",
    "* **Scaled**: absolute value of coefficients show importance of features, or change in target due to change in one standard deviation of feature\n",
    "\n",
    "\n",
    "* **Unscaled**: show impact of change of one unit for each feature on target.\n",
    "\n",
    "\n",
    "### Let's see what coefficients look like for <span style=\"color:red\"> SCALED </SPAN> data."
   ]
  },
  {
   "cell_type": "code",
   "execution_count": null,
   "id": "d78ca674",
   "metadata": {
    "ExecuteTime": {
     "end_time": "2023-07-26T02:11:42.729170Z",
     "start_time": "2023-07-26T02:11:42.637018Z"
    }
   },
   "outputs": [],
   "source": [
    "# Fit a new model on a scaled version of the data\n",
    "lin_reg_scaled = LinearRegression().fit(X_train_scaled_df, y_train)\n",
    "\n",
    "# Examine new coefficients\n"
   ]
  },
  {
   "cell_type": "markdown",
   "id": "95b37bf5",
   "metadata": {},
   "source": [
    "### Now lets try <span style=\"color:blue\"> UNSCALED </span> data coefficients"
   ]
  },
  {
   "cell_type": "code",
   "execution_count": null,
   "id": "7ade0069",
   "metadata": {
    "ExecuteTime": {
     "end_time": "2023-07-26T02:11:42.837388Z",
     "start_time": "2023-07-26T02:11:42.731164Z"
    }
   },
   "outputs": [],
   "source": []
  },
  {
   "cell_type": "markdown",
   "id": "fbeee9ca",
   "metadata": {},
   "source": [
    "## Visualizing Coefficients"
   ]
  },
  {
   "cell_type": "code",
   "execution_count": null,
   "id": "04eed4f0",
   "metadata": {
    "ExecuteTime": {
     "end_time": "2023-07-26T02:11:42.946005Z",
     "start_time": "2023-07-26T02:11:42.844369Z"
    }
   },
   "outputs": [],
   "source": [
    "def plot_coefficients(coefs, figsize=(6,10)):\n",
    "    ax = coefs.plot(kind='barh')\n",
    "    ax.axvline(0, color='k')\n",
    "    ax.set(xlabel='Life Expectancy', title=\"Coefficients\")\n",
    "    return ax;"
   ]
  },
  {
   "cell_type": "code",
   "execution_count": null,
   "id": "548f94f7",
   "metadata": {
    "ExecuteTime": {
     "end_time": "2023-07-26T02:19:08.393528Z",
     "start_time": "2023-07-26T02:19:07.464197Z"
    }
   },
   "outputs": [],
   "source": [
    "# Plot Coefficients (unscaled)\n"
   ]
  },
  {
   "cell_type": "code",
   "execution_count": null,
   "id": "7415d459",
   "metadata": {
    "ExecuteTime": {
     "end_time": "2023-07-26T02:11:43.336970Z",
     "start_time": "2023-07-26T02:11:42.947081Z"
    }
   },
   "outputs": [],
   "source": [
    "## Plot with out intercept\n"
   ]
  },
  {
   "cell_type": "markdown",
   "id": "e3164045",
   "metadata": {},
   "source": [
    "## Interpreting Coefficients\n",
    "\n",
    "> Q: What does this coefficient tell us?\n",
    "\n",
    "> **Target**: National Life expectancy\n",
    "\n",
    "> **Coefficient**: Status_Developing = -1.48\n",
    "\n",
    "> <font color='green' size=3>**What does this coefficient tell us about the relationship between the feature and the target?**"
   ]
  },
  {
   "cell_type": "markdown",
   "id": "9b534b3f",
   "metadata": {},
   "source": [
    "Why does GDP per Capita seem to have no effect on Life Expectancy?"
   ]
  },
  {
   "cell_type": "code",
   "execution_count": null,
   "id": "d51572ba",
   "metadata": {},
   "outputs": [],
   "source": [
    "## Check GDP coefficient\n"
   ]
  },
  {
   "cell_type": "code",
   "execution_count": null,
   "id": "a298abb9",
   "metadata": {
    "ExecuteTime": {
     "end_time": "2023-07-26T02:11:43.430169Z",
     "start_time": "2023-07-26T02:11:43.337968Z"
    }
   },
   "outputs": [],
   "source": [
    "## Check GDP Statistics\n",
    "\n"
   ]
  },
  {
   "cell_type": "markdown",
   "id": "31370cab",
   "metadata": {},
   "source": [
    "The median GDP per Capita in the dataset is $3,184 US."
   ]
  },
  {
   "cell_type": "markdown",
   "id": "7f704b78",
   "metadata": {},
   "source": [
    "GDP per Capita adds 1 year of life for every 44,500 US Dollars of GDP per Capita.  "
   ]
  },
  {
   "cell_type": "code",
   "execution_count": null,
   "id": "85d3eb33",
   "metadata": {
    "ExecuteTime": {
     "end_time": "2023-07-26T02:11:43.681434Z",
     "start_time": "2023-07-26T02:11:43.588954Z"
    }
   },
   "outputs": [],
   "source": [
    "## Coefficient for GDP * Median GDP\n"
   ]
  },
  {
   "cell_type": "markdown",
   "id": "3e9fcd63",
   "metadata": {},
   "source": [
    "Countries with the median average GDP per Capita add about 2 months of expected life from this feature."
   ]
  },
  {
   "cell_type": "code",
   "execution_count": null,
   "id": "aa67f80d",
   "metadata": {
    "ExecuteTime": {
     "end_time": "2023-07-26T02:11:43.866054Z",
     "start_time": "2023-07-26T02:11:43.776029Z"
    }
   },
   "outputs": [],
   "source": [
    "## Coefficient for GDP * max GDP\n"
   ]
  },
  {
   "cell_type": "markdown",
   "id": "d6136cd0",
   "metadata": {},
   "source": [
    "The country with the highest GDP per Capita adds 5 years to life expectancy with this feature."
   ]
  },
  {
   "cell_type": "markdown",
   "id": "af11d73f",
   "metadata": {},
   "source": [
    "What about Population?"
   ]
  },
  {
   "cell_type": "code",
   "execution_count": null,
   "id": "80e91222",
   "metadata": {},
   "outputs": [],
   "source": [
    "## Stats for Population\n"
   ]
  },
  {
   "cell_type": "code",
   "execution_count": null,
   "id": "65d65e02",
   "metadata": {
    "ExecuteTime": {
     "end_time": "2023-07-26T02:11:43.945143Z",
     "start_time": "2023-07-26T02:11:43.867111Z"
    }
   },
   "outputs": [],
   "source": [
    "## Coefficient for Population\n"
   ]
  },
  {
   "cell_type": "code",
   "execution_count": null,
   "id": "47963d30",
   "metadata": {
    "ExecuteTime": {
     "end_time": "2023-07-26T02:11:44.101915Z",
     "start_time": "2023-07-26T02:11:44.025078Z"
    }
   },
   "outputs": [],
   "source": [
    "## Median Population * coefficient for population\n"
   ]
  },
  {
   "cell_type": "markdown",
   "id": "106ab043",
   "metadata": {},
   "source": [
    "The countries with a median average population add less than a day to their life expectancy.\n",
    "\n",
    "However..."
   ]
  },
  {
   "cell_type": "code",
   "execution_count": null,
   "id": "f1d01fd7",
   "metadata": {
    "ExecuteTime": {
     "end_time": "2023-07-26T02:11:44.274005Z",
     "start_time": "2023-07-26T02:11:44.180956Z"
    }
   },
   "outputs": [],
   "source": [
    "## Max population * coefficient for population\n"
   ]
  },
  {
   "cell_type": "markdown",
   "id": "c3a25cf2",
   "metadata": {},
   "source": [
    "The country with the highest population adds 5 years as a result of the population size!"
   ]
  },
  {
   "cell_type": "markdown",
   "id": "9373cbf6",
   "metadata": {},
   "source": [
    "## Feature Importance\n",
    "\n",
    "**Feature importance does <span style=\"color:red\"> NOT </span> describe the relationship between features targets.**\n",
    "\n",
    "**It only describes what the model is focusing on to make its predictions.**\n",
    "\n",
    "**Think of the results as percentage weights on the features for how important they are.**"
   ]
  },
  {
   "cell_type": "code",
   "execution_count": null,
   "id": "d0d79dde",
   "metadata": {
    "ExecuteTime": {
     "end_time": "2023-07-26T02:11:44.366006Z",
     "start_time": "2023-07-26T02:11:44.275003Z"
    }
   },
   "outputs": [],
   "source": [
    "from sklearn.ensemble import RandomForestRegressor"
   ]
  },
  {
   "cell_type": "code",
   "execution_count": null,
   "id": "7a1b02eb",
   "metadata": {
    "ExecuteTime": {
     "end_time": "2023-07-26T02:11:50.681789Z",
     "start_time": "2023-07-26T02:11:44.367063Z"
    }
   },
   "outputs": [],
   "source": [
    "rf_reg = RandomForestRegressor()\n",
    "rf_reg.fit(X_train_df, y_train)\n",
    "evaluate_regression(rf_reg, X_train_df, y_train, \n",
    "                    X_test_df, y_test)"
   ]
  },
  {
   "cell_type": "markdown",
   "id": "418ccf35",
   "metadata": {},
   "source": [
    "> Using the models .feature_names_in_"
   ]
  },
  {
   "cell_type": "code",
   "execution_count": null,
   "id": "7e0a3f05",
   "metadata": {
    "ExecuteTime": {
     "end_time": "2023-07-26T02:11:50.775758Z",
     "start_time": "2023-07-26T02:11:50.682725Z"
    }
   },
   "outputs": [],
   "source": [
    "# Extract Feature Importances into series\n",
    "\n"
   ]
  },
  {
   "cell_type": "code",
   "execution_count": null,
   "id": "41adc56a",
   "metadata": {
    "ExecuteTime": {
     "end_time": "2023-07-26T02:11:50.867927Z",
     "start_time": "2023-07-26T02:11:50.777820Z"
    }
   },
   "outputs": [],
   "source": [
    "# create a function to extract importances\n"
   ]
  },
  {
   "cell_type": "code",
   "execution_count": null,
   "id": "0d9530a1",
   "metadata": {
    "ExecuteTime": {
     "end_time": "2023-07-26T02:11:51.240883Z",
     "start_time": "2023-07-26T02:11:50.868925Z"
    }
   },
   "outputs": [],
   "source": [
    "# Plot Importances\n",
    "\n"
   ]
  },
  {
   "cell_type": "markdown",
   "id": "6c7ad884",
   "metadata": {},
   "source": [
    "> **Q1:** What do these numbers mean?\n",
    "\n",
    "> **Q2:** What are the top 5 most important features?"
   ]
  },
  {
   "cell_type": "markdown",
   "id": "d7f18209",
   "metadata": {},
   "source": [
    "## Using joblib to Save our Model, Data, and Objects"
   ]
  },
  {
   "cell_type": "code",
   "execution_count": null,
   "id": "ca1b9a8f",
   "metadata": {
    "ExecuteTime": {
     "end_time": "2023-07-26T02:18:13.203967Z",
     "start_time": "2023-07-26T02:18:13.060341Z"
    }
   },
   "outputs": [],
   "source": [
    "import joblib, os\n",
    "\n",
    "## creating a dictionary of all of the variables to save for later\n"
   ]
  },
  {
   "cell_type": "code",
   "execution_count": null,
   "id": "096c3ff6",
   "metadata": {
    "ExecuteTime": {
     "end_time": "2023-07-26T02:18:16.601007Z",
     "start_time": "2023-07-26T02:18:16.502547Z"
    }
   },
   "outputs": [],
   "source": [
    "# Create the folder to save it in\n"
   ]
  },
  {
   "cell_type": "code",
   "execution_count": null,
   "id": "192af338",
   "metadata": {
    "ExecuteTime": {
     "end_time": "2023-07-26T02:18:17.038164Z",
     "start_time": "2023-07-26T02:18:16.810886Z"
    }
   },
   "outputs": [],
   "source": [
    "# Save the models, data, and preprocessor\n"
   ]
  },
  {
   "cell_type": "code",
   "execution_count": null,
   "id": "d8bd7f5c",
   "metadata": {
    "ExecuteTime": {
     "end_time": "2023-07-26T02:18:17.508683Z",
     "start_time": "2023-07-26T02:18:17.186626Z"
    }
   },
   "outputs": [],
   "source": [
    "# try Loading again to make sure it works.\n",
    "\n"
   ]
  },
  {
   "cell_type": "markdown",
   "id": "ca53faa7",
   "metadata": {},
   "source": [
    "> We will continue working with this task and these models next class!"
   ]
  },
  {
   "cell_type": "markdown",
   "id": "895d1c9c",
   "metadata": {
    "ExecuteTime": {
     "end_time": "2023-01-13T19:13:59.215605Z",
     "start_time": "2023-01-13T19:13:59.172852Z"
    }
   },
   "source": [
    "# *Teaser* Shap (For Regression)"
   ]
  },
  {
   "cell_type": "code",
   "execution_count": null,
   "id": "2ec89e9d",
   "metadata": {
    "ExecuteTime": {
     "end_time": "2023-07-26T02:18:23.103038Z",
     "start_time": "2023-07-26T02:18:21.858507Z"
    }
   },
   "outputs": [],
   "source": [
    "# Import and init shap\n",
    "import shap\n",
    "shap.initjs()"
   ]
  },
  {
   "cell_type": "code",
   "execution_count": null,
   "id": "396f1dcc",
   "metadata": {
    "ExecuteTime": {
     "end_time": "2023-07-26T02:19:04.937813Z",
     "start_time": "2023-07-26T02:18:23.107027Z"
    }
   },
   "outputs": [],
   "source": [
    "# Take a sample of the training data\n",
    "X_shap = shap.sample(X_train_df,nsamples = 500,random_state=SEED)\n",
    "y_shap = y_train.loc[X_shap.index]\n",
    "\n",
    "# Instantiate a Model Explainer with the model\n",
    "explainer = shap.Explainer(rf_reg)\n",
    "\n",
    "## Get shap values form the explainer\n",
    "shap_values = explainer(X_shap,y_shap)"
   ]
  },
  {
   "cell_type": "code",
   "execution_count": null,
   "id": "0a6d21ed",
   "metadata": {
    "ExecuteTime": {
     "end_time": "2023-07-26T02:19:07.002429Z",
     "start_time": "2023-07-26T02:19:04.940328Z"
    }
   },
   "outputs": [],
   "source": [
    "shap.summary_plot(shap_values, features = X_shap)"
   ]
  },
  {
   "cell_type": "code",
   "execution_count": null,
   "id": "9f133eab",
   "metadata": {},
   "outputs": [],
   "source": []
  },
  {
   "cell_type": "code",
   "execution_count": null,
   "id": "6b1a36df",
   "metadata": {},
   "outputs": [],
   "source": []
  }
 ],
 "metadata": {
  "kernelspec": {
   "display_name": "Python (dojo-env)",
   "language": "python",
   "name": "dojo-env"
  },
  "language_info": {
   "codemirror_mode": {
    "name": "ipython",
    "version": 3
   },
   "file_extension": ".py",
   "mimetype": "text/x-python",
   "name": "python",
   "nbconvert_exporter": "python",
   "pygments_lexer": "ipython3",
   "version": "3.9.15"
  },
  "toc": {
   "base_numbering": 1,
   "nav_menu": {},
   "number_sections": false,
   "sideBar": true,
   "skip_h1_title": false,
   "title_cell": "Table of Contents",
   "title_sidebar": "Contents",
   "toc_cell": false,
   "toc_position": {
    "height": "calc(100% - 180px)",
    "left": "10px",
    "top": "150px",
    "width": "303.016px"
   },
   "toc_section_display": true,
   "toc_window_display": true
  }
 },
 "nbformat": 4,
 "nbformat_minor": 5
}
