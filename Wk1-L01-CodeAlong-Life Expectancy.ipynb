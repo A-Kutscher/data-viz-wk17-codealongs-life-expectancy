{
 "cells": [
  {
   "cell_type": "markdown",
   "id": "0eba0efa",
   "metadata": {},
   "source": [
    "# Week 17, Lecture 01 CodeAlong\n",
    "- Coefficients & Feature Importance"
   ]
  },
  {
   "cell_type": "markdown",
   "id": "0fc21da5",
   "metadata": {},
   "source": [
    "## Lesson Objectives"
   ]
  },
  {
   "cell_type": "markdown",
   "id": "23a92cad",
   "metadata": {},
   "source": [
    "- By the end of this lesson, students will be able to:\n",
    "    - Extract feature names from sklearn v1.1 objects\n",
    "    - Extract and visualize coefficients\n",
    "    - Save models to a joblib file\n"
   ]
  },
  {
   "cell_type": "markdown",
   "id": "dc5c874e",
   "metadata": {},
   "source": [
    "### The Data\n",
    "\n",
    "Data comes from the World Health Organization.  It describes demographic, health, and economic data from countries around the world between 2000 and 2015. \n",
    "\n",
    "Each row is one country during one year."
   ]
  },
  {
   "cell_type": "markdown",
   "id": "031af932",
   "metadata": {},
   "source": [
    "> Task Inspired by: https://medium.com/@shanzehhaji/using-a-linear-regression-model-to-predict-life-expectancy-de3aef66ac21\n",
    "\n",
    "- Kaggle Dataset on Life Expectancy:\n",
    "    - https://www.kaggle.com/datasets/kumarajarshi/life-expectancy-who"
   ]
  },
  {
   "cell_type": "code",
   "execution_count": null,
   "id": "94a13e42",
   "metadata": {
    "ExecuteTime": {
     "end_time": "2023-07-11T21:07:29.524283Z",
     "start_time": "2023-07-11T21:07:27.958917Z"
    }
   },
   "outputs": [],
   "source": [
    "## Our standard imports\n",
    "import pandas as pd\n",
    "import numpy as np\n",
    "import matplotlib.pyplot as plt\n",
    "import seaborn as sns\n",
    "import missingno as miss\n",
    "\n",
    "## Preprocessing tools\n",
    "from sklearn.model_selection import train_test_split\n",
    "from sklearn.compose import make_column_transformer, make_column_selector\n",
    "from sklearn.pipeline import make_pipeline\n",
    "from sklearn.preprocessing import OneHotEncoder, StandardScaler\n",
    "from sklearn.impute import SimpleImputer\n",
    "\n",
    "## Models & evaluation metrics\n",
    "from sklearn import metrics\n",
    "from sklearn.linear_model import LinearRegression\n",
    "from sklearn.tree import DecisionTreeRegressor\n",
    "from sklearn.ensemble import RandomForestRegressor\n",
    "import joblib\n",
    "\n",
    "## setting random state for reproducibility\n",
    "SEED = 321\n",
    "np.random.seed(SEED)\n",
    "## Matplotlib style\n",
    "fav_style = ('ggplot','tableau-colorblind10')\n",
    "fav_context  ={'context':'notebook', 'font_scale':1.1}\n",
    "plt.style.use(fav_style)\n",
    "sns.set_context(**fav_context)\n",
    "plt.rcParams['savefig.transparent'] = False\n",
    "plt.rcParams['savefig.bbox'] = 'tight'"
   ]
  },
  {
   "cell_type": "code",
   "execution_count": null,
   "id": "d9919101",
   "metadata": {
    "ExecuteTime": {
     "end_time": "2023-07-11T21:07:29.878671Z",
     "start_time": "2023-07-11T21:07:29.525285Z"
    },
    "scrolled": true
   },
   "outputs": [],
   "source": [
    "## Importing Custom Functions\n",
    "%load_ext autoreload\n",
    "%autoreload 2\n",
    "from CODE import data_enrichment as de"
   ]
  },
  {
   "cell_type": "code",
   "execution_count": null,
   "id": "8ae06358",
   "metadata": {
    "ExecuteTime": {
     "end_time": "2023-07-11T21:07:30.045678Z",
     "start_time": "2023-07-11T21:07:29.879669Z"
    }
   },
   "outputs": [],
   "source": [
    "import pandas as pd\n",
    "df = pd.read_csv(\"Data/Life Expectancy Data.csv\")\n",
    "df.info()\n",
    "df.head(3)"
   ]
  },
  {
   "cell_type": "code",
   "execution_count": null,
   "id": "ab78e1d4",
   "metadata": {
    "ExecuteTime": {
     "end_time": "2023-07-11T21:07:30.137857Z",
     "start_time": "2023-07-11T21:07:30.047677Z"
    }
   },
   "outputs": [],
   "source": [
    "# clean extra spaces\n",
    "df.columns = df.columns.str.strip()\n",
    "df"
   ]
  },
  {
   "cell_type": "code",
   "execution_count": null,
   "id": "91551518",
   "metadata": {
    "ExecuteTime": {
     "end_time": "2023-07-11T21:07:30.249530Z",
     "start_time": "2023-07-11T21:07:30.138825Z"
    }
   },
   "outputs": [],
   "source": [
    "pd.set_option('display.max_columns',0)\n",
    "df"
   ]
  },
  {
   "cell_type": "markdown",
   "id": "285bb58e",
   "metadata": {},
   "source": [
    "## EDA"
   ]
  },
  {
   "cell_type": "code",
   "execution_count": null,
   "id": "9971df12",
   "metadata": {
    "ExecuteTime": {
     "end_time": "2023-07-11T21:07:30.327959Z",
     "start_time": "2023-07-11T21:07:30.251526Z"
    }
   },
   "outputs": [],
   "source": [
    "df.isna().sum()"
   ]
  },
  {
   "cell_type": "code",
   "execution_count": null,
   "id": "2e43c48c",
   "metadata": {
    "ExecuteTime": {
     "end_time": "2023-07-11T21:07:31.013998Z",
     "start_time": "2023-07-11T21:07:30.328741Z"
    }
   },
   "outputs": [],
   "source": [
    "miss.matrix(df)"
   ]
  },
  {
   "cell_type": "markdown",
   "id": "c213c8ea",
   "metadata": {},
   "source": [
    "> Can't have null values for the target!"
   ]
  },
  {
   "cell_type": "code",
   "execution_count": null,
   "id": "66143982",
   "metadata": {
    "ExecuteTime": {
     "end_time": "2023-07-11T21:07:31.090849Z",
     "start_time": "2023-07-11T21:07:31.015992Z"
    }
   },
   "outputs": [],
   "source": [
    "# drop null values ONLY FROM TARGET\n",
    "df = df.dropna(subset=['Life expectancy'])"
   ]
  },
  {
   "cell_type": "code",
   "execution_count": null,
   "id": "e8118b61",
   "metadata": {
    "ExecuteTime": {
     "end_time": "2023-07-11T21:07:31.229942Z",
     "start_time": "2023-07-11T21:07:31.091872Z"
    }
   },
   "outputs": [],
   "source": [
    "df.describe()"
   ]
  },
  {
   "cell_type": "code",
   "execution_count": null,
   "id": "684f02f8",
   "metadata": {
    "ExecuteTime": {
     "end_time": "2023-07-11T21:07:31.569100Z",
     "start_time": "2023-07-11T21:07:31.232938Z"
    }
   },
   "outputs": [],
   "source": [
    "target = 'Life expectancy'\n",
    "\n",
    "grid_spec = {'height_ratios':[0.8,0.2]}\n",
    "fig, axes = plt.subplots(nrows=2, figsize=(6,5), gridspec_kw=grid_spec)\n",
    "\n",
    "sns.histplot(data=df, x=target,ax=axes[0])\n",
    "sns.boxplot(data=df, x=target, ax=axes[1]);"
   ]
  },
  {
   "cell_type": "markdown",
   "id": "150ae49f",
   "metadata": {},
   "source": [
    "## Preprocessing (with Sklearn v1.1+)"
   ]
  },
  {
   "cell_type": "code",
   "execution_count": null,
   "id": "2d000e2d",
   "metadata": {
    "ExecuteTime": {
     "end_time": "2023-07-11T21:07:31.679061Z",
     "start_time": "2023-07-11T21:07:31.570139Z"
    }
   },
   "outputs": [],
   "source": [
    "# Run the following command on your local computer to check the version of sklearn\n",
    "import sklearn\n",
    "!python --version\n",
    "print(f\"sklearn version: {sklearn.__version__}\")"
   ]
  },
  {
   "cell_type": "code",
   "execution_count": null,
   "id": "a36a872a",
   "metadata": {
    "ExecuteTime": {
     "end_time": "2023-07-11T21:07:31.789249Z",
     "start_time": "2023-07-11T21:07:31.680058Z"
    }
   },
   "outputs": [],
   "source": [
    "# ### Train Test Split\n",
    "## Make x and y variables\n",
    "target = \"Life expectancy\"\n",
    "drop_feats = []\n",
    "\n",
    "y = df[target].copy()\n",
    "X = df.drop(columns=[target, *drop_feats]).copy()\n",
    "\n",
    "## train-test-split with random state for reproducibility\n",
    "X_train, X_test, y_train, y_test = train_test_split(X,y, random_state=SEED)\n",
    "X_train.head(3)"
   ]
  },
  {
   "cell_type": "markdown",
   "id": "d700672e",
   "metadata": {},
   "source": [
    "<center> <font color='red' size=5>Notice We Are Not Scaling!!! </font>\n",
    "    \n",
    "   **<center> Q: Why not? </center>**"
   ]
  },
  {
   "cell_type": "code",
   "execution_count": null,
   "id": "f77d893c",
   "metadata": {
    "ExecuteTime": {
     "end_time": "2023-07-11T21:07:31.865890Z",
     "start_time": "2023-07-11T21:07:31.790109Z"
    },
    "scrolled": true
   },
   "outputs": [],
   "source": [
    "## Make numeric preprocessing pipeline\n",
    "num_sel = make_column_selector(dtype_include='number')\n",
    "num_pipe = make_pipeline(SimpleImputer(strategy='mean'))\n",
    "num_pipe"
   ]
  },
  {
   "cell_type": "markdown",
   "id": "2d81fbf5",
   "metadata": {},
   "source": [
    "Notice we are setting `drop='if_binary'` in our OneHotEncoder.  This helps reduce **multicollinearity**"
   ]
  },
  {
   "cell_type": "code",
   "execution_count": null,
   "id": "6c7bffdd",
   "metadata": {
    "ExecuteTime": {
     "end_time": "2023-07-11T21:07:31.948026Z",
     "start_time": "2023-07-11T21:07:31.866858Z"
    }
   },
   "outputs": [],
   "source": [
    "## Make categorical preprocessing pipeline\n",
    "## Drop one of the binary columns after OHE to reduce multicollinearity\n",
    "cat_sel = make_column_selector(dtype_include='object')\n",
    "cat_pipe = make_pipeline(SimpleImputer(strategy='constant',\n",
    "                                       fill_value='MISSING'),\n",
    "                         OneHotEncoder(handle_unknown='ignore', sparse=False,\n",
    "                                      drop='if_binary'))"
   ]
  },
  {
   "cell_type": "code",
   "execution_count": null,
   "id": "a4df81e7",
   "metadata": {
    "ExecuteTime": {
     "end_time": "2023-07-11T21:07:32.038437Z",
     "start_time": "2023-07-11T21:07:31.949073Z"
    }
   },
   "outputs": [],
   "source": [
    "## make the preprocessing column transformer\n",
    "preprocessor = make_column_transformer((num_pipe, num_sel),\n",
    "                                       (cat_pipe,cat_sel),)\n",
    "preprocessor"
   ]
  },
  {
   "cell_type": "markdown",
   "id": "3afce3de",
   "metadata": {},
   "source": [
    "## Make X_train_df and X_test_df, dataframe verisons of processed X_train/X_test."
   ]
  },
  {
   "cell_type": "markdown",
   "id": "6b1941e8",
   "metadata": {},
   "source": [
    "### Get Features Names + Verbose Feature Names Out"
   ]
  },
  {
   "cell_type": "code",
   "execution_count": null,
   "id": "26bdb1a4",
   "metadata": {
    "ExecuteTime": {
     "end_time": "2023-07-11T21:07:32.323943Z",
     "start_time": "2023-07-11T21:07:32.039449Z"
    }
   },
   "outputs": [],
   "source": [
    "## make the preprocessing column transformer WITH CORRECT ARGS!\n",
    "preprocessor = make_column_transformer((num_pipe, num_sel),\n",
    "                                       (cat_pipe,cat_sel),\n",
    "                                      verbose_feature_names_out=False)\n",
    "preprocessor.fit(X_train)\n",
    "X_train_df = pd.DataFrame(preprocessor.transform(X_train),\n",
    "                          columns=preprocessor.get_feature_names_out(),\n",
    "                         index=X_train.index)\n",
    "X_test_df = pd.DataFrame(preprocessor.transform(X_test),\n",
    "                          columns=preprocessor.get_feature_names_out(),\n",
    "                         index=X_test.index)\n",
    "display(X_train_df)\n"
   ]
  },
  {
   "cell_type": "markdown",
   "id": "4f7809a0",
   "metadata": {},
   "source": [
    "# Modeling - Linear Regression"
   ]
  },
  {
   "cell_type": "code",
   "execution_count": null,
   "id": "e06edec8",
   "metadata": {
    "ExecuteTime": {
     "end_time": "2023-07-11T21:07:32.400672Z",
     "start_time": "2023-07-11T21:07:32.324914Z"
    }
   },
   "outputs": [],
   "source": [
    "def evaluate_regression(model, X_train,y_train, X_test, y_test,for_slides=True): \n",
    "    \"\"\"Evaluates a scikit learn regression model using r-squared and RMSE\n",
    "    FOR SLIDES VERS DOES MULTIPLE PRINT STATEMENTS FOR VERTICAL DISPLAY OF INFO\"\"\"\n",
    "    \n",
    "    ## Training Data\n",
    "    y_pred_train = model.predict(X_train)\n",
    "    r2_train = metrics.r2_score(y_train, y_pred_train)\n",
    "    rmse_train = metrics.mean_squared_error(y_train, y_pred_train, \n",
    "                                            squared=False)\n",
    "    mae_train = metrics.mean_absolute_error(y_train, y_pred_train)\n",
    "    \n",
    "\n",
    "    ## Test Data\n",
    "    y_pred_test = model.predict(X_test)\n",
    "    r2_test = metrics.r2_score(y_test, y_pred_test)\n",
    "    rmse_test = metrics.mean_squared_error(y_test, y_pred_test, \n",
    "                                            squared=False)\n",
    "    mae_test = metrics.mean_absolute_error(y_test, y_pred_test)\n",
    "    \n",
    "    if for_slides:\n",
    "        df_version =[['Split','R^2','MAE','RMSE']]\n",
    "        df_version.append(['Train',r2_train, mae_train, rmse_train])\n",
    "        df_version.append(['Test',r2_test, mae_test, rmse_test])\n",
    "        df_results = pd.DataFrame(df_version[1:], columns=df_version[0])\n",
    "        df_results = df_results.round(2)\n",
    "        display(df_results.style.hide(axis='index').format(precision=2, thousands=','))\n",
    "        \n",
    "    else: \n",
    "        print(f\"Training Data:\\tR^2 = {r2_train:,.2f}\\tRMSE = {rmse_train:,.2f}\\tMAE = {mae_train:,.2f}\")\n",
    "        print(f\"Test Data:\\tR^2 = {r2_test:,.2f}\\tRMSE = {rmse_test:,.2f}\\tMAE = {mae_test:,.2f}\")\n",
    "\n"
   ]
  },
  {
   "cell_type": "markdown",
   "id": "1b2fa28b",
   "metadata": {},
   "source": [
    "### Linear Model Assumptions\n",
    "\n",
    "**Linearity:**\n",
    "That the input features have a linear relationship with the target.\n",
    "\n",
    "**Independence of Features:** (AKA Little-to-No Multicollinearity)\n",
    "That the features are not strongly related to other features.\n",
    "\n",
    "**Normality:**\n",
    "The model's residuals are approximately normally distributed.\n",
    "\n",
    "**Homoscedasticity:**\n",
    "The model residuals have equal variance across all predictions."
   ]
  },
  {
   "cell_type": "markdown",
   "id": "2354dcaa",
   "metadata": {},
   "source": [
    "## Model 1: Baseline LinReg"
   ]
  },
  {
   "cell_type": "code",
   "execution_count": null,
   "id": "98d32377",
   "metadata": {
    "ExecuteTime": {
     "end_time": "2023-07-11T21:07:32.561480Z",
     "start_time": "2023-07-11T21:07:32.402590Z"
    }
   },
   "outputs": [],
   "source": [
    "from sklearn.linear_model import LinearRegression\n",
    "lin_reg= LinearRegression()\n",
    "lin_reg.fit(X_train_df,y_train)\n",
    "evaluate_regression(lin_reg, X_train_df, y_train, \n",
    "                    X_test_df, y_test)"
   ]
  },
  {
   "cell_type": "code",
   "execution_count": null,
   "id": "7a4e89f2",
   "metadata": {
    "ExecuteTime": {
     "end_time": "2023-07-11T21:07:32.954309Z",
     "start_time": "2023-07-11T21:07:32.562446Z"
    }
   },
   "outputs": [],
   "source": [
    "de.plot_residuals(lin_reg, X_test_df,y_test)"
   ]
  },
  {
   "cell_type": "markdown",
   "id": "3cabe320",
   "metadata": {},
   "source": [
    "### Extracting and Visualizing Coefficients"
   ]
  },
  {
   "cell_type": "markdown",
   "id": "c4d32bf5",
   "metadata": {},
   "source": [
    "#### Extracting Coefficients"
   ]
  },
  {
   "cell_type": "code",
   "execution_count": null,
   "id": "6448751f",
   "metadata": {
    "ExecuteTime": {
     "end_time": "2023-07-11T21:07:33.032494Z",
     "start_time": "2023-07-11T21:07:32.955015Z"
    },
    "scrolled": true
   },
   "outputs": [],
   "source": [
    "# access the .coef_ \n"
   ]
  },
  {
   "cell_type": "code",
   "execution_count": null,
   "id": "b6cde4b6",
   "metadata": {
    "ExecuteTime": {
     "end_time": "2023-07-11T21:07:33.105627Z",
     "start_time": "2023-07-11T21:07:33.033521Z"
    }
   },
   "outputs": [],
   "source": [
    "# Intercept\n"
   ]
  },
  {
   "cell_type": "code",
   "execution_count": null,
   "id": "beaa5a79",
   "metadata": {
    "ExecuteTime": {
     "end_time": "2023-07-11T21:07:33.180118Z",
     "start_time": "2023-07-11T21:07:33.106626Z"
    },
    "scrolled": true
   },
   "outputs": [],
   "source": [
    "## Saving the coefficients as a Series\n"
   ]
  },
  {
   "cell_type": "markdown",
   "id": "948f56da",
   "metadata": {},
   "source": [
    "### def `get_coefficients`"
   ]
  },
  {
   "cell_type": "code",
   "execution_count": null,
   "id": "74c07d8d",
   "metadata": {
    "ExecuteTime": {
     "end_time": "2023-07-11T21:07:33.254062Z",
     "start_time": "2023-07-11T21:07:33.182115Z"
    }
   },
   "outputs": [],
   "source": [
    "# Define get_coefficients function to extract LinReg coefficients\n",
    "def get_coefficients(lin_reg):\n",
    "    coefs = lin_reg.coef_\n",
    "    coefs = pd.Series(coefs, index=lin_reg.feature_names_in_)\n",
    "    return coefs\n",
    "\n",
    "get_coefficients(lin_reg)"
   ]
  },
  {
   "cell_type": "markdown",
   "id": "e26c9a62",
   "metadata": {},
   "source": [
    "## Scaled vs Unscaled Data\n",
    "\n",
    "* **Scaled**: absolute value of coefficients show importance of features\n",
    "\n",
    "\n",
    "* **Unscaled**: show impact of change on each feature on target."
   ]
  },
  {
   "cell_type": "code",
   "execution_count": null,
   "id": "d9942674",
   "metadata": {
    "ExecuteTime": {
     "end_time": "2023-07-11T21:07:33.333978Z",
     "start_time": "2023-07-11T21:07:33.255061Z"
    }
   },
   "outputs": [],
   "source": [
    "## formatting numbers to not use , thousands sep, and 4 digits floats\n",
    "pd.set_option('display.float_format', lambda x: f\"{x:,.4f}\")\n"
   ]
  },
  {
   "cell_type": "code",
   "execution_count": null,
   "id": "6c29910c",
   "metadata": {
    "ExecuteTime": {
     "end_time": "2023-07-11T21:07:33.416059Z",
     "start_time": "2023-07-11T21:07:33.334931Z"
    },
    "scrolled": true
   },
   "outputs": [],
   "source": [
    "#Show sorted coefficients\n"
   ]
  },
  {
   "cell_type": "markdown",
   "id": "e3164045",
   "metadata": {},
   "source": [
    "## Interpreting Coefficients\n",
    "\n",
    "> Q: What does this coefficient tell us?\n",
    "\n",
    "> **Target**: National Life expectancy\n",
    "\n",
    "> **Coefficient**: Status_Developed = 5.3071\n",
    "\n",
    "> <font color='green' size=3>**What does this coefficient tell us about the relationship between the feature and the target?**"
   ]
  },
  {
   "cell_type": "markdown",
   "id": "fbeee9ca",
   "metadata": {},
   "source": [
    "## Visualizing Coefficients"
   ]
  },
  {
   "cell_type": "markdown",
   "id": "4953ddf0",
   "metadata": {},
   "source": [
    "#### **Q: How can we handle this many coefficients in our viz?**\n",
    "\n",
    "- Some options include:\n",
    "    - Only plot most the N most positive and N most negative.\n",
    "    - Separate out OHE countries into a separate graph.\n",
    "    \n",
    "    \n",
    "- Let's try the second option: separating the OHE countries."
   ]
  },
  {
   "cell_type": "code",
   "execution_count": null,
   "id": "2c675c40",
   "metadata": {
    "ExecuteTime": {
     "end_time": "2023-07-11T21:07:33.495098Z",
     "start_time": "2023-07-11T21:07:33.417056Z"
    }
   },
   "outputs": [],
   "source": [
    "## Get a list of all of the Country columns\n"
   ]
  },
  {
   "cell_type": "code",
   "execution_count": null,
   "id": "99c48dd5",
   "metadata": {
    "ExecuteTime": {
     "end_time": "2023-07-11T21:07:33.565600Z",
     "start_time": "2023-07-11T21:07:33.496110Z"
    }
   },
   "outputs": [],
   "source": [
    "## Plot country ceoffs\n"
   ]
  },
  {
   "cell_type": "code",
   "execution_count": null,
   "id": "4f990f1b",
   "metadata": {
    "ExecuteTime": {
     "end_time": "2023-07-11T21:07:33.647520Z",
     "start_time": "2023-07-11T21:07:33.570559Z"
    },
    "scrolled": false
   },
   "outputs": [],
   "source": [
    "## Plot everything but countries\n"
   ]
  },
  {
   "cell_type": "markdown",
   "id": "74d86f33",
   "metadata": {},
   "source": [
    "> ***Q1: What do we notice about our non-country coefficients? Is there anything odd that would be difficult to a stakeholder?***\n",
    "\n",
    "> ***Q2: What does that intercept represent?***\n",
    "\n",
    "> ***Q3: What would it mean if we did not use an intercept? (fit_intercept=False)***"
   ]
  },
  {
   "cell_type": "markdown",
   "id": "13cbaf79",
   "metadata": {},
   "source": [
    "## Other things to try to meet assumptions or get better coefficients.\n",
    "\n",
    "1. Remove some multicollinear columns, like countries.\n",
    "2. No intercept `LinearRegression(fit_intercept=False)`\n",
    "3. Remove redundant categories with OneHotEncoder `OneHotEncoder(drop='first')` or `OneHotEncoder(drop='if_binary)`.\n",
    "\n",
    "Let's try these:"
   ]
  },
  {
   "cell_type": "code",
   "execution_count": null,
   "id": "4ddadbb1",
   "metadata": {
    "ExecuteTime": {
     "end_time": "2023-07-11T21:07:33.731154Z",
     "start_time": "2023-07-11T21:07:33.648519Z"
    },
    "scrolled": true
   },
   "outputs": [],
   "source": [
    "#Fit Linear regression lin_reg_drop on data without country names\n"
   ]
  },
  {
   "cell_type": "code",
   "execution_count": null,
   "id": "536e7482",
   "metadata": {
    "ExecuteTime": {
     "end_time": "2023-07-11T21:07:34.678922Z",
     "start_time": "2023-07-11T21:07:33.732157Z"
    }
   },
   "outputs": [],
   "source": [
    "# evaluate new model\n",
    "evaluate_regression(lin_reg_drop, X_train_df, y_train, X_test_df, y_test)"
   ]
  },
  {
   "cell_type": "code",
   "execution_count": null,
   "id": "8f96da45",
   "metadata": {
    "ExecuteTime": {
     "end_time": "2023-07-11T21:07:34.685877Z",
     "start_time": "2023-07-11T21:07:34.685877Z"
    }
   },
   "outputs": [],
   "source": [
    "# Check assumptions of linear residuals and homoscedasticity\n",
    "de.plot_residuals(lin_reg_drop, X_test_df,y_test)"
   ]
  },
  {
   "cell_type": "code",
   "execution_count": null,
   "id": "23c1582c",
   "metadata": {
    "ExecuteTime": {
     "end_time": "2023-07-11T21:07:34.686872Z",
     "start_time": "2023-07-11T21:07:34.686872Z"
    }
   },
   "outputs": [],
   "source": [
    "## Extract and inspect coefficients\n"
   ]
  },
  {
   "cell_type": "code",
   "execution_count": null,
   "id": "1e110efb",
   "metadata": {
    "ExecuteTime": {
     "end_time": "2023-07-11T21:07:34.688867Z",
     "start_time": "2023-07-11T21:07:34.688867Z"
    }
   },
   "outputs": [],
   "source": [
    "## Plot the coefficients\n"
   ]
  },
  {
   "cell_type": "markdown",
   "id": "9b534b3f",
   "metadata": {},
   "source": [
    "### 🤔 Why does GDP Per Capita seem to have no effect on Life Expectancy?"
   ]
  },
  {
   "cell_type": "code",
   "execution_count": null,
   "id": "5113fe4e",
   "metadata": {
    "ExecuteTime": {
     "end_time": "2023-07-11T21:07:34.689864Z",
     "start_time": "2023-07-11T21:07:34.689864Z"
    }
   },
   "outputs": [],
   "source": [
    "## Check median GDP\n"
   ]
  },
  {
   "cell_type": "markdown",
   "id": "31370cab",
   "metadata": {},
   "source": [
    "The median GDP per Capita in the dataset is $3,184 US."
   ]
  },
  {
   "cell_type": "code",
   "execution_count": null,
   "id": "0eb11ca3",
   "metadata": {
    "ExecuteTime": {
     "end_time": "2023-07-11T21:07:34.691859Z",
     "start_time": "2023-07-11T21:07:34.691859Z"
    }
   },
   "outputs": [],
   "source": [
    "## Check the coefficient for GDP\n"
   ]
  },
  {
   "cell_type": "markdown",
   "id": "7f704b78",
   "metadata": {},
   "source": [
    "GDP per Capita adds 1 year of life for every 44,500 US Dollars of GDP per Capita.  "
   ]
  },
  {
   "cell_type": "code",
   "execution_count": null,
   "id": "85d3eb33",
   "metadata": {
    "ExecuteTime": {
     "end_time": "2023-07-11T21:07:34.693854Z",
     "start_time": "2023-07-11T21:07:34.693854Z"
    }
   },
   "outputs": [],
   "source": [
    "## How much does the median GPD Per Capita add to life expectancy, \n",
    "## according to the model?\n"
   ]
  },
  {
   "cell_type": "markdown",
   "id": "3e9fcd63",
   "metadata": {},
   "source": [
    "Countries with the median average GDP per Capita add about 2 months of expected life from this feature."
   ]
  },
  {
   "cell_type": "code",
   "execution_count": null,
   "id": "fddd23d6",
   "metadata": {
    "ExecuteTime": {
     "end_time": "2023-07-11T21:07:34.694851Z",
     "start_time": "2023-07-11T21:07:34.694851Z"
    }
   },
   "outputs": [],
   "source": [
    "# What about the dataset max GDP?\n"
   ]
  },
  {
   "cell_type": "code",
   "execution_count": null,
   "id": "aa67f80d",
   "metadata": {
    "ExecuteTime": {
     "end_time": "2023-07-11T21:07:34.696846Z",
     "start_time": "2023-07-11T21:07:34.696846Z"
    }
   },
   "outputs": [],
   "source": [
    "# How much does the model predict this will add to life expectancy?\n"
   ]
  },
  {
   "cell_type": "markdown",
   "id": "d6136cd0",
   "metadata": {},
   "source": [
    "The country with the highest GDP per Capita adds 5 years to life expectancy with this feature."
   ]
  },
  {
   "cell_type": "markdown",
   "id": "9373cbf6",
   "metadata": {},
   "source": [
    "## Feature Importance"
   ]
  },
  {
   "cell_type": "code",
   "execution_count": null,
   "id": "d0d79dde",
   "metadata": {
    "ExecuteTime": {
     "end_time": "2023-07-11T21:07:34.698842Z",
     "start_time": "2023-07-11T21:07:34.698842Z"
    }
   },
   "outputs": [],
   "source": [
    "from sklearn.ensemble import RandomForestRegressor"
   ]
  },
  {
   "cell_type": "code",
   "execution_count": null,
   "id": "7a1b02eb",
   "metadata": {
    "ExecuteTime": {
     "end_time": "2023-07-11T21:07:34.699840Z",
     "start_time": "2023-07-11T21:07:34.699840Z"
    }
   },
   "outputs": [],
   "source": [
    "rf_reg = RandomForestRegressor()\n",
    "rf_reg.fit(X_train_df,y_train)\n",
    "evaluate_regression(rf_reg, X_train_df, y_train, \n",
    "                    X_test_df, y_test)"
   ]
  },
  {
   "cell_type": "markdown",
   "id": "418ccf35",
   "metadata": {},
   "source": [
    "> Using the models .feature_names_in_"
   ]
  },
  {
   "cell_type": "code",
   "execution_count": null,
   "id": "7e0a3f05",
   "metadata": {
    "ExecuteTime": {
     "end_time": "2023-07-11T21:07:34.701834Z",
     "start_time": "2023-07-11T21:07:34.701834Z"
    }
   },
   "outputs": [],
   "source": [
    "# Extract Feature Importances as a Series and inspect them\n"
   ]
  },
  {
   "cell_type": "code",
   "execution_count": null,
   "id": "41adc56a",
   "metadata": {
    "ExecuteTime": {
     "end_time": "2023-07-11T21:07:34.703829Z",
     "start_time": "2023-07-11T21:07:34.703829Z"
    }
   },
   "outputs": [],
   "source": [
    "# create a function to extract importances\n",
    "def get_importances(rf_reg):\n",
    "    importances = pd.Series(rf_reg.feature_importances_, index=rf_reg.feature_names_in_)\n",
    "    return importances\n",
    "get_importances(rf_reg)"
   ]
  },
  {
   "cell_type": "code",
   "execution_count": null,
   "id": "0d9530a1",
   "metadata": {
    "ExecuteTime": {
     "end_time": "2023-07-11T21:07:34.704826Z",
     "start_time": "2023-07-11T21:07:34.704826Z"
    }
   },
   "outputs": [],
   "source": [
    "# Plot Importances\n",
    "\n"
   ]
  },
  {
   "cell_type": "markdown",
   "id": "6c7ad884",
   "metadata": {},
   "source": [
    "> **Q1:** What do these numbers mean?\n",
    "\n",
    "> **Q2:** What are the top 5 most important features?"
   ]
  },
  {
   "cell_type": "markdown",
   "id": "d7f18209",
   "metadata": {},
   "source": [
    "## Using joblib to Save our Model, Data, and Objects"
   ]
  },
  {
   "cell_type": "code",
   "execution_count": null,
   "id": "41442354",
   "metadata": {
    "ExecuteTime": {
     "end_time": "2023-07-11T21:07:34.705824Z",
     "start_time": "2023-07-11T21:07:34.705824Z"
    }
   },
   "outputs": [],
   "source": [
    "# Import joblib to save objects and os to create a folder\n",
    "import joblib, os"
   ]
  },
  {
   "cell_type": "code",
   "execution_count": null,
   "id": "af9a0bc6",
   "metadata": {
    "ExecuteTime": {
     "end_time": "2023-07-11T21:07:34.706821Z",
     "start_time": "2023-07-11T21:07:34.706821Z"
    }
   },
   "outputs": [],
   "source": [
    "# Check X_train head\n"
   ]
  },
  {
   "cell_type": "code",
   "execution_count": null,
   "id": "ca1b9a8f",
   "metadata": {
    "ExecuteTime": {
     "end_time": "2023-07-11T21:07:34.707819Z",
     "start_time": "2023-07-11T21:07:34.707819Z"
    }
   },
   "outputs": [],
   "source": [
    "## creating a dictionary of all of the variables to save for later\n"
   ]
  },
  {
   "cell_type": "code",
   "execution_count": null,
   "id": "096c3ff6",
   "metadata": {
    "ExecuteTime": {
     "end_time": "2023-07-11T21:07:34.708814Z",
     "start_time": "2023-07-11T21:07:34.708814Z"
    }
   },
   "outputs": [],
   "source": [
    "## Create the folder to save it in\n"
   ]
  },
  {
   "cell_type": "code",
   "execution_count": null,
   "id": "192af338",
   "metadata": {
    "ExecuteTime": {
     "end_time": "2023-07-11T21:07:34.709813Z",
     "start_time": "2023-07-11T21:07:34.709813Z"
    }
   },
   "outputs": [],
   "source": [
    "## Save the models, data, and preprocessor\n"
   ]
  },
  {
   "cell_type": "code",
   "execution_count": null,
   "id": "d8bd7f5c",
   "metadata": {
    "ExecuteTime": {
     "end_time": "2023-07-11T21:07:34.711808Z",
     "start_time": "2023-07-11T21:07:34.711808Z"
    }
   },
   "outputs": [],
   "source": [
    "## try Loading again to make sure it works.\n",
    "\n"
   ]
  },
  {
   "cell_type": "markdown",
   "id": "ca53faa7",
   "metadata": {},
   "source": [
    "> We will continue working with this task and these models next class!"
   ]
  },
  {
   "cell_type": "markdown",
   "id": "895d1c9c",
   "metadata": {
    "ExecuteTime": {
     "end_time": "2023-01-13T19:13:59.215605Z",
     "start_time": "2023-01-13T19:13:59.172852Z"
    }
   },
   "source": [
    "# *Teaser* Shap (For Regression)"
   ]
  },
  {
   "cell_type": "code",
   "execution_count": null,
   "id": "2ec89e9d",
   "metadata": {
    "ExecuteTime": {
     "end_time": "2023-07-11T21:07:34.712803Z",
     "start_time": "2023-07-11T21:07:34.712803Z"
    }
   },
   "outputs": [],
   "source": [
    "# Import and init shap\n",
    "import shap\n",
    "shap.initjs()"
   ]
  },
  {
   "cell_type": "code",
   "execution_count": null,
   "id": "396f1dcc",
   "metadata": {
    "ExecuteTime": {
     "end_time": "2023-07-11T21:07:34.713801Z",
     "start_time": "2023-07-11T21:07:34.713801Z"
    }
   },
   "outputs": [],
   "source": [
    "# Take a sample of the training data\n",
    "X_shap = shap.sample(X_train_df,nsamples = 500,random_state=SEED)\n",
    "y_shap = y_train.loc[X_shap.index]\n",
    "\n",
    "# Instantiate a Model Explainer with the model\n",
    "explainer = shap.Explainer(rf_reg)\n",
    "\n",
    "## Get shap values form the explainer\n",
    "shap_values = explainer(X_shap,y_shap)"
   ]
  },
  {
   "cell_type": "code",
   "execution_count": null,
   "id": "0a6d21ed",
   "metadata": {
    "ExecuteTime": {
     "end_time": "2023-07-11T21:07:34.715796Z",
     "start_time": "2023-07-11T21:07:34.715796Z"
    }
   },
   "outputs": [],
   "source": [
    "shap.summary_plot(shap_values, features = X_shap)"
   ]
  },
  {
   "cell_type": "code",
   "execution_count": null,
   "id": "9f133eab",
   "metadata": {},
   "outputs": [],
   "source": []
  }
 ],
 "metadata": {
  "kernelspec": {
   "display_name": "Python (dojo-env)",
   "language": "python",
   "name": "dojo-env"
  },
  "language_info": {
   "codemirror_mode": {
    "name": "ipython",
    "version": 3
   },
   "file_extension": ".py",
   "mimetype": "text/x-python",
   "name": "python",
   "nbconvert_exporter": "python",
   "pygments_lexer": "ipython3",
   "version": "3.9.15"
  },
  "toc": {
   "base_numbering": 1,
   "nav_menu": {},
   "number_sections": false,
   "sideBar": true,
   "skip_h1_title": false,
   "title_cell": "Table of Contents",
   "title_sidebar": "Contents",
   "toc_cell": false,
   "toc_position": {
    "height": "calc(100% - 180px)",
    "left": "10px",
    "top": "150px",
    "width": "303.016px"
   },
   "toc_section_display": true,
   "toc_window_display": true
  }
 },
 "nbformat": 4,
 "nbformat_minor": 5
}
