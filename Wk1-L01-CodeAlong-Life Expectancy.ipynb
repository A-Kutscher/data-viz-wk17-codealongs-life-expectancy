{
 "cells": [
  {
   "cell_type": "markdown",
   "id": "0eba0efa",
   "metadata": {},
   "source": [
    "# Week 17, Lecture 01 CodeAlong\n",
    "- Coefficients & Feature Importance"
   ]
  },
  {
   "cell_type": "markdown",
   "id": "0fc21da5",
   "metadata": {},
   "source": [
    "## Lesson Objectives"
   ]
  },
  {
   "cell_type": "markdown",
   "id": "23a92cad",
   "metadata": {},
   "source": [
    "- By the end of this lesson, students will be able to:\n",
    "    - Extract feature names from sklearn v1.1 objects\n",
    "    - Extract and visualize coefficients\n",
    "    - Save models to a joblib file\n"
   ]
  },
  {
   "cell_type": "markdown",
   "id": "dc5c874e",
   "metadata": {},
   "source": [
    "### The Data\n",
    "\n",
    "Data comes from the World Health Organization.  It describes demographic, health, and economic data from countries around the world between 2000 and 2015. \n",
    "\n",
    "Each row is one country during one year."
   ]
  },
  {
   "cell_type": "markdown",
   "id": "031af932",
   "metadata": {},
   "source": [
    "> Task Inspired by: https://medium.com/@shanzehhaji/using-a-linear-regression-model-to-predict-life-expectancy-de3aef66ac21\n",
    "\n",
    "- Kaggle Dataset on Life Expectancy:\n",
    "    - https://www.kaggle.com/datasets/kumarajarshi/life-expectancy-who"
   ]
  },
  {
   "cell_type": "code",
   "execution_count": null,
   "id": "94a13e42",
   "metadata": {
    "ExecuteTime": {
     "end_time": "2023-07-24T21:37:20.584663Z",
     "start_time": "2023-07-24T21:37:20.489918Z"
    }
   },
   "outputs": [],
   "source": [
    "## Our standard imports\n",
    "import pandas as pd\n",
    "import numpy as np\n",
    "import matplotlib.pyplot as plt\n",
    "import seaborn as sns\n",
    "import missingno as miss\n",
    "\n",
    "## Preprocessing tools\n",
    "from sklearn.model_selection import train_test_split\n",
    "from sklearn.compose import make_column_transformer, make_column_selector\n",
    "from sklearn.pipeline import make_pipeline\n",
    "from sklearn.preprocessing import OneHotEncoder, StandardScaler\n",
    "from sklearn.impute import SimpleImputer\n",
    "\n",
    "## Models & evaluation metrics\n",
    "from sklearn import metrics\n",
    "from sklearn.linear_model import LinearRegression\n",
    "from sklearn.tree import DecisionTreeRegressor\n",
    "from sklearn.ensemble import RandomForestRegressor\n",
    "import joblib\n",
    "\n",
    "## setting random state for reproducibility\n",
    "SEED = 321\n",
    "np.random.seed(SEED)\n",
    "## Matplotlib style\n",
    "fav_style = ('ggplot','tableau-colorblind10')\n",
    "fav_context  ={'context':'notebook', 'font_scale':1.1}\n",
    "plt.style.use(fav_style)\n",
    "sns.set_context(**fav_context)\n",
    "plt.rcParams['savefig.transparent'] = False\n",
    "plt.rcParams['savefig.bbox'] = 'tight'"
   ]
  },
  {
   "cell_type": "code",
   "execution_count": null,
   "id": "d9919101",
   "metadata": {
    "ExecuteTime": {
     "end_time": "2023-07-24T21:37:20.680437Z",
     "start_time": "2023-07-24T21:37:20.586658Z"
    },
    "scrolled": true
   },
   "outputs": [],
   "source": [
    "## Importing Custom Functions\n",
    "%load_ext autoreload\n",
    "%autoreload 2\n",
    "from CODE import data_enrichment as de"
   ]
  },
  {
   "cell_type": "code",
   "execution_count": null,
   "id": "8ae06358",
   "metadata": {
    "ExecuteTime": {
     "end_time": "2023-07-24T21:37:20.807891Z",
     "start_time": "2023-07-24T21:37:20.681405Z"
    }
   },
   "outputs": [],
   "source": [
    "import pandas as pd\n",
    "df = pd.read_csv(\"../Data/Life Expectancy Data.csv\")\n",
    "df.info()\n",
    "df.head(3)"
   ]
  },
  {
   "cell_type": "code",
   "execution_count": null,
   "id": "ab78e1d4",
   "metadata": {
    "ExecuteTime": {
     "end_time": "2023-07-24T21:37:20.935044Z",
     "start_time": "2023-07-24T21:37:20.809857Z"
    }
   },
   "outputs": [],
   "source": [
    "# clean extra spaces\n",
    "df.columns = df.columns.str.strip()\n",
    "df"
   ]
  },
  {
   "cell_type": "code",
   "execution_count": null,
   "id": "91551518",
   "metadata": {
    "ExecuteTime": {
     "end_time": "2023-07-24T21:37:21.062703Z",
     "start_time": "2023-07-24T21:37:20.936074Z"
    }
   },
   "outputs": [],
   "source": [
    "pd.set_option('display.max_columns',0)\n",
    "df"
   ]
  },
  {
   "cell_type": "markdown",
   "id": "285bb58e",
   "metadata": {},
   "source": [
    "## EDA"
   ]
  },
  {
   "cell_type": "code",
   "execution_count": null,
   "id": "9971df12",
   "metadata": {
    "ExecuteTime": {
     "end_time": "2023-07-24T21:37:21.156071Z",
     "start_time": "2023-07-24T21:37:21.063728Z"
    }
   },
   "outputs": [],
   "source": [
    "df.isna().sum()"
   ]
  },
  {
   "cell_type": "code",
   "execution_count": null,
   "id": "2e43c48c",
   "metadata": {
    "ExecuteTime": {
     "end_time": "2023-07-24T21:37:21.834123Z",
     "start_time": "2023-07-24T21:37:21.157068Z"
    }
   },
   "outputs": [],
   "source": [
    "miss.matrix(df)"
   ]
  },
  {
   "cell_type": "markdown",
   "id": "c213c8ea",
   "metadata": {},
   "source": [
    "> Can't have null values for the target!"
   ]
  },
  {
   "cell_type": "code",
   "execution_count": null,
   "id": "66143982",
   "metadata": {
    "ExecuteTime": {
     "end_time": "2023-07-24T21:37:21.927775Z",
     "start_time": "2023-07-24T21:37:21.835088Z"
    }
   },
   "outputs": [],
   "source": [
    "# drop null values ONLY FROM TARGET\n",
    "df = df.dropna(subset=['Life expectancy'])"
   ]
  },
  {
   "cell_type": "code",
   "execution_count": null,
   "id": "e8118b61",
   "metadata": {
    "ExecuteTime": {
     "end_time": "2023-07-24T21:37:22.069363Z",
     "start_time": "2023-07-24T21:37:21.928775Z"
    }
   },
   "outputs": [],
   "source": [
    "df.describe()"
   ]
  },
  {
   "cell_type": "code",
   "execution_count": null,
   "id": "684f02f8",
   "metadata": {
    "ExecuteTime": {
     "end_time": "2023-07-24T21:37:22.420035Z",
     "start_time": "2023-07-24T21:37:22.073324Z"
    }
   },
   "outputs": [],
   "source": [
    "target = 'Life expectancy'\n",
    "\n",
    "grid_spec = {'height_ratios':[0.8,0.2]}\n",
    "fig, axes = plt.subplots(nrows=2, figsize=(6,5), gridspec_kw=grid_spec)\n",
    "\n",
    "sns.histplot(data=df, x=target,ax=axes[0])\n",
    "sns.boxplot(data=df, x=target, ax=axes[1]);"
   ]
  },
  {
   "cell_type": "markdown",
   "id": "150ae49f",
   "metadata": {},
   "source": [
    "## Preprocessing (with Sklearn v1.1+)"
   ]
  },
  {
   "cell_type": "code",
   "execution_count": null,
   "id": "2d000e2d",
   "metadata": {
    "ExecuteTime": {
     "end_time": "2023-07-24T21:37:22.546543Z",
     "start_time": "2023-07-24T21:37:22.421075Z"
    }
   },
   "outputs": [],
   "source": [
    "# Run the following command on your local computer to check the version of sklearn\n",
    "import sklearn\n",
    "!python --version\n",
    "print(f\"sklearn version: {sklearn.__version__}\")"
   ]
  },
  {
   "cell_type": "code",
   "execution_count": null,
   "id": "a36a872a",
   "metadata": {
    "ExecuteTime": {
     "end_time": "2023-07-24T21:37:22.653526Z",
     "start_time": "2023-07-24T21:37:22.548510Z"
    }
   },
   "outputs": [],
   "source": [
    "# ### Train Test Split\n",
    "## Make x and y variables\n",
    "target = \"Life expectancy\"\n",
    "drop_feats = []\n",
    "\n",
    "y = df[target].copy()\n",
    "X = df.drop(columns=[target, *drop_feats]).copy()\n",
    "\n",
    "## train-test-split with random state for reproducibility\n",
    "X_train, X_test, y_train, y_test = train_test_split(X,y, random_state=SEED)\n",
    "X_train.head(3)"
   ]
  },
  {
   "cell_type": "code",
   "execution_count": null,
   "id": "f77d893c",
   "metadata": {
    "ExecuteTime": {
     "end_time": "2023-07-24T21:37:22.748040Z",
     "start_time": "2023-07-24T21:37:22.655494Z"
    },
    "scrolled": true
   },
   "outputs": [],
   "source": [
    "## Make numeric preprocessing pipeline\n",
    "num_sel = make_column_selector(dtype_include='number')\n",
    "num_pipe = make_pipeline(SimpleImputer(strategy='mean'))\n",
    "num_pipe"
   ]
  },
  {
   "cell_type": "markdown",
   "id": "d700672e",
   "metadata": {},
   "source": [
    "<center> <font color='red' size=5>Notice We Are Not Scaling!!! </font>\n",
    "    \n",
    "   **<center> Q: Why not? </center>**"
   ]
  },
  {
   "cell_type": "code",
   "execution_count": null,
   "id": "6c7bffdd",
   "metadata": {
    "ExecuteTime": {
     "end_time": "2023-07-24T21:37:22.841884Z",
     "start_time": "2023-07-24T21:37:22.748992Z"
    }
   },
   "outputs": [],
   "source": [
    "## Make categorical preprocessing pipeline\n",
    "## Drop one of the binary columns after OHE to reduce multicollinearity\n",
    "cat_sel = make_column_selector(dtype_include='object')\n",
    "cat_pipe = make_pipeline(SimpleImputer(strategy='constant',\n",
    "                                       fill_value='MISSING'),\n",
    "                         OneHotEncoder(handle_unknown='ignore', sparse=False,\n",
    "                                      drop='if_binary'))"
   ]
  },
  {
   "cell_type": "code",
   "execution_count": null,
   "id": "a4df81e7",
   "metadata": {
    "ExecuteTime": {
     "end_time": "2023-07-24T21:37:22.951615Z",
     "start_time": "2023-07-24T21:37:22.842878Z"
    }
   },
   "outputs": [],
   "source": [
    "## make the preprocessing column transformer\n",
    "preprocessor = make_column_transformer((num_pipe, num_sel),\n",
    "                                       (cat_pipe,cat_sel),)\n",
    "preprocessor"
   ]
  },
  {
   "cell_type": "markdown",
   "id": "6b1941e8",
   "metadata": {},
   "source": [
    "### Get Features Names + Verbose Feature Names Out"
   ]
  },
  {
   "cell_type": "code",
   "execution_count": null,
   "id": "26bdb1a4",
   "metadata": {
    "ExecuteTime": {
     "end_time": "2023-07-24T21:37:23.172566Z",
     "start_time": "2023-07-24T21:37:22.953581Z"
    }
   },
   "outputs": [],
   "source": [
    "## make the preprocessing column transformer WITH CORRECT ARGS!\n",
    "preprocessor = make_column_transformer((num_pipe, num_sel),\n",
    "                                       (cat_pipe,cat_sel),\n",
    "                                      verbose_feature_names_out=False)\n",
    "preprocessor.fit(X_train)\n",
    "X_train_df = pd.DataFrame(preprocessor.transform(X_train),\n",
    "                          columns=preprocessor.get_feature_names_out(),\n",
    "                         index=X_train.index)\n",
    "X_test_df = pd.DataFrame(preprocessor.transform(X_test),\n",
    "                          columns=preprocessor.get_feature_names_out(),\n",
    "                         index=X_test.index)\n",
    "display(X_train_df)\n"
   ]
  },
  {
   "cell_type": "markdown",
   "id": "3afce3de",
   "metadata": {},
   "source": [
    "## Let's make a <span style=\"color:red\"> SCALED </span> version as well to see how the coefficients are different."
   ]
  },
  {
   "cell_type": "code",
   "execution_count": null,
   "id": "21c79017",
   "metadata": {
    "ExecuteTime": {
     "end_time": "2023-07-24T21:37:23.405373Z",
     "start_time": "2023-07-24T21:37:23.173537Z"
    }
   },
   "outputs": [],
   "source": [
    "## make the preprocessing column transformer WITH CORRECT ARGS!\n",
    "scaling_preprocessor = make_pipeline(preprocessor, StandardScaler())\n",
    "scaling_preprocessor.fit(X_train)\n",
    "X_train_scaled_df = pd.DataFrame(scaling_preprocessor.transform(X_train),\n",
    "                          columns=scaling_preprocessor.get_feature_names_out(),\n",
    "                         index=X_train.index)\n",
    "X_test_scaled_df = pd.DataFrame(scaling_preprocessor.transform(X_test),\n",
    "                          columns=scaling_preprocessor.get_feature_names_out(),\n",
    "                         index=X_test.index)\n",
    "display(X_train_scaled_df)"
   ]
  },
  {
   "cell_type": "markdown",
   "id": "4f7809a0",
   "metadata": {},
   "source": [
    "# Modeling - Linear Regression"
   ]
  },
  {
   "cell_type": "code",
   "execution_count": null,
   "id": "e06edec8",
   "metadata": {
    "ExecuteTime": {
     "end_time": "2023-07-24T21:37:23.501601Z",
     "start_time": "2023-07-24T21:37:23.407368Z"
    }
   },
   "outputs": [],
   "source": [
    "def evaluate_regression(model, X_train,y_train, X_test, y_test,for_slides=True): \n",
    "    \"\"\"Evaluates a scikit learn regression model using r-squared and RMSE\n",
    "    FOR SLIDES VERS DOES MULTIPLE PRINT STATEMENTS FOR VERTICAL DISPLAY OF INFO\"\"\"\n",
    "    \n",
    "    ## Training Data\n",
    "    y_pred_train = model.predict(X_train)\n",
    "    r2_train = metrics.r2_score(y_train, y_pred_train)\n",
    "    rmse_train = metrics.mean_squared_error(y_train, y_pred_train, \n",
    "                                            squared=False)\n",
    "    mae_train = metrics.mean_absolute_error(y_train, y_pred_train)\n",
    "    \n",
    "\n",
    "    ## Test Data\n",
    "    y_pred_test = model.predict(X_test)\n",
    "    r2_test = metrics.r2_score(y_test, y_pred_test)\n",
    "    rmse_test = metrics.mean_squared_error(y_test, y_pred_test, \n",
    "                                            squared=False)\n",
    "    mae_test = metrics.mean_absolute_error(y_test, y_pred_test)\n",
    "    \n",
    "    if for_slides:\n",
    "        df_version =[['Split','R^2','MAE','RMSE']]\n",
    "        df_version.append(['Train',r2_train, mae_train, rmse_train])\n",
    "        df_version.append(['Test',r2_test, mae_test, rmse_test])\n",
    "        df_results = pd.DataFrame(df_version[1:], columns=df_version[0])\n",
    "        df_results = df_results.round(2)\n",
    "        display(df_results.style.hide(axis='index').format(precision=2, thousands=','))\n",
    "        \n",
    "    else: \n",
    "        print(f\"Training Data:\\tR^2 = {r2_train:,.2f}\\tRMSE = {rmse_train:,.2f}\\tMAE = {mae_train:,.2f}\")\n",
    "        print(f\"Test Data:\\tR^2 = {r2_test:,.2f}\\tRMSE = {rmse_test:,.2f}\\tMAE = {mae_test:,.2f}\")\n",
    "\n"
   ]
  },
  {
   "cell_type": "markdown",
   "id": "1b2fa28b",
   "metadata": {},
   "source": [
    "### Linear Model Assumptions\n",
    "\n",
    "**Linearity:**\n",
    "That the input features have a linear relationship with the target.\n",
    "\n",
    "**Independence of Features:** (AKA Little-to-No Multicollinearity)\n",
    "That the features are not strongly related to other features.\n",
    "\n",
    "**Normality:**\n",
    "The model's residuals are approximately normally distributed.\n",
    "\n",
    "**Homoscedasticity:**\n",
    "The model residuals have equal variance across all predictions."
   ]
  },
  {
   "cell_type": "markdown",
   "id": "2354dcaa",
   "metadata": {},
   "source": [
    "## Model 1: Baseline LinReg"
   ]
  },
  {
   "cell_type": "code",
   "execution_count": null,
   "id": "98d32377",
   "metadata": {
    "ExecuteTime": {
     "end_time": "2023-07-24T21:37:23.617989Z",
     "start_time": "2023-07-24T21:37:23.502602Z"
    }
   },
   "outputs": [],
   "source": [
    "from sklearn.linear_model import LinearRegression\n",
    "lin_reg= LinearRegression()\n",
    "lin_reg.fit(X_train_df,y_train)\n",
    "evaluate_regression(lin_reg, X_train_df, y_train, \n",
    "                    X_test_df, y_test)"
   ]
  },
  {
   "cell_type": "code",
   "execution_count": null,
   "id": "7a4e89f2",
   "metadata": {
    "ExecuteTime": {
     "end_time": "2023-07-24T21:37:24.037574Z",
     "start_time": "2023-07-24T21:37:23.618987Z"
    }
   },
   "outputs": [],
   "source": [
    "de.plot_residuals(lin_reg, X_test_df,y_test)"
   ]
  },
  {
   "cell_type": "markdown",
   "id": "3cabe320",
   "metadata": {},
   "source": [
    "### Extracting and Visualizing Coefficients"
   ]
  },
  {
   "cell_type": "markdown",
   "id": "c4d32bf5",
   "metadata": {},
   "source": [
    "#### Extracting Coefficients"
   ]
  },
  {
   "cell_type": "code",
   "execution_count": null,
   "id": "6448751f",
   "metadata": {
    "ExecuteTime": {
     "end_time": "2023-07-24T21:37:24.131518Z",
     "start_time": "2023-07-24T21:37:24.039586Z"
    },
    "scrolled": true
   },
   "outputs": [],
   "source": [
    "# access the .coef_ \n",
    "\n"
   ]
  },
  {
   "cell_type": "code",
   "execution_count": null,
   "id": "b6cde4b6",
   "metadata": {
    "ExecuteTime": {
     "end_time": "2023-07-24T21:37:24.225735Z",
     "start_time": "2023-07-24T21:37:24.131518Z"
    }
   },
   "outputs": [],
   "source": [
    "# Intercept\n",
    "\n"
   ]
  },
  {
   "cell_type": "code",
   "execution_count": null,
   "id": "beaa5a79",
   "metadata": {
    "ExecuteTime": {
     "end_time": "2023-07-24T21:37:24.311123Z",
     "start_time": "2023-07-24T21:37:24.226731Z"
    },
    "scrolled": true
   },
   "outputs": [],
   "source": [
    "## Saving the coefficients\n",
    "\n"
   ]
  },
  {
   "cell_type": "markdown",
   "id": "948f56da",
   "metadata": {},
   "source": [
    "### def `get_coefficients`"
   ]
  },
  {
   "cell_type": "code",
   "execution_count": null,
   "id": "d9942674",
   "metadata": {
    "ExecuteTime": {
     "end_time": "2023-07-24T21:37:24.391973Z",
     "start_time": "2023-07-24T21:37:24.312281Z"
    }
   },
   "outputs": [],
   "source": [
    "## formatting numbers to not use , thousands sep, and 4 digits floats\n",
    "pd.set_option('display.float_format', lambda x: f\"{x:,.4f}\")\n"
   ]
  },
  {
   "cell_type": "code",
   "execution_count": null,
   "id": "74c07d8d",
   "metadata": {
    "ExecuteTime": {
     "end_time": "2023-07-24T21:37:24.486970Z",
     "start_time": "2023-07-24T21:37:24.392969Z"
    }
   },
   "outputs": [],
   "source": [
    "# Define get_coefficients function to extract LinReg coefficients\n",
    "def get_coefficients(lin_reg):\n",
    "    coefs = lin_reg.coef_\n",
    "    coefs = pd.Series(coefs, index=lin_reg.feature_names_in_)\n",
    "    return coefs"
   ]
  },
  {
   "cell_type": "markdown",
   "id": "e26c9a62",
   "metadata": {},
   "source": [
    "## Scaled vs Unscaled Data\n",
    "\n",
    "* **Scaled**: absolute value of coefficients show importance of features, or change in target due to change in one standard deviation of feature\n",
    "\n",
    "\n",
    "* **Unscaled**: show impact of change of one unit for each feature on target.\n",
    "\n",
    "\n",
    "### Let's see what coefficients look like for <span style=\"color:red\"> SCALED </SPAN> data."
   ]
  },
  {
   "cell_type": "code",
   "execution_count": null,
   "id": "e83ba614",
   "metadata": {
    "ExecuteTime": {
     "end_time": "2023-07-24T21:37:24.588289Z",
     "start_time": "2023-07-24T21:37:24.488028Z"
    }
   },
   "outputs": [],
   "source": [
    "# Fit a new model on a scaled version of the data\n",
    "lin_reg_scaled = LinearRegression().fit(X_train_scaled_df, y_train)\n",
    "\n",
    "# Examine new coefficients\n",
    "get_coefficients(lin_reg_scaled).sort_values(ascending=False)"
   ]
  },
  {
   "cell_type": "markdown",
   "id": "a1d95a66",
   "metadata": {},
   "source": [
    "### Now lets try <span style=\"color:blue\"> UNSCALED </span> data coefficients"
   ]
  },
  {
   "cell_type": "code",
   "execution_count": null,
   "id": "747b9dca",
   "metadata": {
    "ExecuteTime": {
     "end_time": "2023-07-24T21:37:24.692251Z",
     "start_time": "2023-07-24T21:37:24.589287Z"
    }
   },
   "outputs": [],
   "source": [
    "get_coefficients(lin_reg)"
   ]
  },
  {
   "cell_type": "markdown",
   "id": "e3164045",
   "metadata": {},
   "source": [
    "## Interpreting Coefficients\n",
    "\n",
    "> Q: What does this coefficient tell us?\n",
    "\n",
    "> **Target**: National Life expectancy\n",
    "\n",
    "> **Coefficient**: Status_Developing = -10.4206\n",
    "\n",
    "> <font color='green' size=3>**What does this coefficient tell us about the relationship between the feature and the target?**"
   ]
  },
  {
   "cell_type": "markdown",
   "id": "fbeee9ca",
   "metadata": {},
   "source": [
    "## Visualizing Coefficients"
   ]
  },
  {
   "cell_type": "markdown",
   "id": "4953ddf0",
   "metadata": {},
   "source": [
    "#### **Q: How can we handle this many coefficients in our viz?**\n",
    "\n",
    "- Some options include:\n",
    "    - Only plot most the N most positive and N most negative.\n",
    "    - Separate out OHE countries into a separate graph.\n",
    "    \n",
    "    \n",
    "- Let's try the second option: separating the OHE countries."
   ]
  },
  {
   "cell_type": "code",
   "execution_count": null,
   "id": "07a3fcfa",
   "metadata": {
    "ExecuteTime": {
     "end_time": "2023-07-24T21:37:26.767690Z",
     "start_time": "2023-07-24T21:37:24.697072Z"
    }
   },
   "outputs": [],
   "source": [
    "## Plot Coefficients\n",
    "\n"
   ]
  },
  {
   "cell_type": "code",
   "execution_count": null,
   "id": "2b2984c4",
   "metadata": {
    "ExecuteTime": {
     "end_time": "2023-07-24T21:54:18.807628Z",
     "start_time": "2023-07-24T21:54:18.796710Z"
    }
   },
   "outputs": [],
   "source": [
    "## Plot country ceoffs\n",
    "\n",
    "def plot_coefficients(coefs):\n",
    "    ax = coefs.sort_values().plot(kind='barh', figsize=(8,26))\n",
    "    ax.axvline(0, color='k')\n",
    "    ax.set(xlabel='Life Expectancy', title=\"Coefficients - Countries\")\n",
    "    plt.show();"
   ]
  },
  {
   "cell_type": "code",
   "execution_count": null,
   "id": "2c675c40",
   "metadata": {
    "ExecuteTime": {
     "end_time": "2023-07-24T21:37:26.867164Z",
     "start_time": "2023-07-24T21:37:26.769657Z"
    }
   },
   "outputs": [],
   "source": [
    "## Get a list of all of the Country columns\n",
    "\n"
   ]
  },
  {
   "cell_type": "code",
   "execution_count": null,
   "id": "99c48dd5",
   "metadata": {
    "ExecuteTime": {
     "end_time": "2023-07-24T21:37:28.701152Z",
     "start_time": "2023-07-24T21:37:26.867164Z"
    }
   },
   "outputs": [],
   "source": [
    "## Plot country ceoffs\n",
    "\n"
   ]
  },
  {
   "cell_type": "code",
   "execution_count": null,
   "id": "53339687",
   "metadata": {
    "ExecuteTime": {
     "end_time": "2023-07-24T21:52:51.920623Z",
     "start_time": "2023-07-24T21:52:51.343172Z"
    },
    "scrolled": true
   },
   "outputs": [],
   "source": [
    "## Examine coeffients that are not countries\n",
    "\n"
   ]
  },
  {
   "cell_type": "code",
   "execution_count": null,
   "id": "23a4b1c5",
   "metadata": {
    "ExecuteTime": {
     "end_time": "2023-07-24T21:37:28.934568Z",
     "start_time": "2023-07-24T21:37:28.795970Z"
    }
   },
   "outputs": [],
   "source": [
    "# Check stats of features (not countries) to compare to coefficients\n",
    "\n"
   ]
  },
  {
   "cell_type": "code",
   "execution_count": null,
   "id": "4f990f1b",
   "metadata": {
    "ExecuteTime": {
     "end_time": "2023-07-24T21:37:29.293186Z",
     "start_time": "2023-07-24T21:37:28.935537Z"
    },
    "scrolled": false
   },
   "outputs": [],
   "source": [
    "## Plot everything but countries\n"
   ]
  },
  {
   "cell_type": "markdown",
   "id": "74d86f33",
   "metadata": {},
   "source": [
    "> ***Q1: What do we notice about our non-country coefficients? Is there anything odd that would be difficult to a stakeholder?***\n",
    "\n",
    "> ***Q2: What does that intercept represent?***\n",
    "\n",
    "> ***Q3: What would it mean if we did not use an intercept? (fit_intercept=False)***"
   ]
  },
  {
   "cell_type": "markdown",
   "id": "13cbaf79",
   "metadata": {},
   "source": [
    "## Other things to try to meet assumptions or get better coefficients.\n",
    "\n",
    "1. Remove some multicollinear columns, like countries.\n",
    "2. No intercept `LinearRegression(fit_intercept=False)`\n",
    "3. Remove redundant categories with OneHotEncoder `OneHotEncoder(drop='first')` _(we already did this!)_ or `OneHotEncoder(drop='if_binary)`.\n",
    "\n",
    "Let's try dropping countries:"
   ]
  },
  {
   "cell_type": "code",
   "execution_count": null,
   "id": "4ddadbb1",
   "metadata": {
    "ExecuteTime": {
     "end_time": "2023-07-24T21:37:29.388241Z",
     "start_time": "2023-07-24T21:37:29.294184Z"
    }
   },
   "outputs": [],
   "source": [
    "lin_reg_drop = LinearRegression()\n",
    "X_train_df = X_train_df.drop(columns=country_feats)\n",
    "X_test_df = X_test_df.drop(columns=country_feats)\n",
    "\n",
    "lin_reg_drop.fit(X_train_df, y_train)\n"
   ]
  },
  {
   "cell_type": "code",
   "execution_count": null,
   "id": "536e7482",
   "metadata": {
    "ExecuteTime": {
     "end_time": "2023-07-24T21:37:29.491139Z",
     "start_time": "2023-07-24T21:37:29.389239Z"
    }
   },
   "outputs": [],
   "source": [
    "evaluate_regression(lin_reg_drop, X_train_df, y_train, X_test_df, y_test)"
   ]
  },
  {
   "cell_type": "code",
   "execution_count": null,
   "id": "8f96da45",
   "metadata": {
    "ExecuteTime": {
     "end_time": "2023-07-24T21:37:29.901159Z",
     "start_time": "2023-07-24T21:37:29.493134Z"
    }
   },
   "outputs": [],
   "source": [
    "de.plot_residuals(lin_reg_drop, X_test_df,y_test)"
   ]
  },
  {
   "cell_type": "markdown",
   "id": "8380879c",
   "metadata": {},
   "source": [
    "### Explore new coefficients"
   ]
  },
  {
   "cell_type": "code",
   "execution_count": null,
   "id": "23c1582c",
   "metadata": {
    "ExecuteTime": {
     "end_time": "2023-07-24T21:43:18.182460Z",
     "start_time": "2023-07-24T21:43:18.093608Z"
    }
   },
   "outputs": [],
   "source": [
    "#Save and display new coefficients (after dropping countries)\n"
   ]
  },
  {
   "cell_type": "code",
   "execution_count": null,
   "id": "e7629dbd",
   "metadata": {
    "ExecuteTime": {
     "end_time": "2023-07-24T21:37:30.132570Z",
     "start_time": "2023-07-24T21:37:29.988934Z"
    }
   },
   "outputs": [],
   "source": [
    "# describe new DF to compare coefficients\n",
    "X_train_df.describe()"
   ]
  },
  {
   "cell_type": "code",
   "execution_count": null,
   "id": "1e110efb",
   "metadata": {
    "ExecuteTime": {
     "end_time": "2023-07-24T21:37:30.454101Z",
     "start_time": "2023-07-24T21:37:30.133568Z"
    }
   },
   "outputs": [],
   "source": []
  },
  {
   "cell_type": "markdown",
   "id": "9b534b3f",
   "metadata": {},
   "source": [
    "Why does GDP per Capita seem to have no effect on Life Expectancy?"
   ]
  },
  {
   "cell_type": "code",
   "execution_count": null,
   "id": "5113fe4e",
   "metadata": {
    "ExecuteTime": {
     "end_time": "2023-07-24T21:37:30.537953Z",
     "start_time": "2023-07-24T21:37:30.456101Z"
    }
   },
   "outputs": [],
   "source": [
    "# Median GDP\n",
    "\n"
   ]
  },
  {
   "cell_type": "markdown",
   "id": "31370cab",
   "metadata": {},
   "source": [
    "The median GDP per Capita in the dataset is $3,184 US."
   ]
  },
  {
   "cell_type": "code",
   "execution_count": null,
   "id": "0eb11ca3",
   "metadata": {
    "ExecuteTime": {
     "end_time": "2023-07-24T21:37:30.620685Z",
     "start_time": "2023-07-24T21:37:30.539948Z"
    }
   },
   "outputs": [],
   "source": [
    "# GDP Coefficient\n",
    "\n"
   ]
  },
  {
   "cell_type": "markdown",
   "id": "7f704b78",
   "metadata": {},
   "source": [
    "GDP per Capita adds 1 year of life for every 44,500 US Dollars of GDP per Capita.  "
   ]
  },
  {
   "cell_type": "code",
   "execution_count": null,
   "id": "85d3eb33",
   "metadata": {
    "ExecuteTime": {
     "end_time": "2023-07-24T21:37:30.704948Z",
     "start_time": "2023-07-24T21:37:30.621683Z"
    }
   },
   "outputs": [],
   "source": [
    "## Effect of median GDP on target\n",
    "\n"
   ]
  },
  {
   "cell_type": "markdown",
   "id": "3e9fcd63",
   "metadata": {},
   "source": [
    "Countries with the median average GDP per Capita add about 2 months of expected life from this feature."
   ]
  },
  {
   "cell_type": "code",
   "execution_count": null,
   "id": "fddd23d6",
   "metadata": {
    "ExecuteTime": {
     "end_time": "2023-07-24T21:37:30.794418Z",
     "start_time": "2023-07-24T21:37:30.705973Z"
    }
   },
   "outputs": [],
   "source": [
    "## Max GDP\n",
    "\n"
   ]
  },
  {
   "cell_type": "code",
   "execution_count": null,
   "id": "aa67f80d",
   "metadata": {
    "ExecuteTime": {
     "end_time": "2023-07-24T21:37:30.885529Z",
     "start_time": "2023-07-24T21:37:30.794418Z"
    }
   },
   "outputs": [],
   "source": [
    "# Effect: Max GDP times coefficient\n",
    "\n"
   ]
  },
  {
   "cell_type": "markdown",
   "id": "d6136cd0",
   "metadata": {},
   "source": [
    "The country with the highest GDP per Capita adds 5 years to life expectancy with this feature."
   ]
  },
  {
   "cell_type": "markdown",
   "id": "4153fe69",
   "metadata": {},
   "source": [
    "What about Population?"
   ]
  },
  {
   "cell_type": "code",
   "execution_count": null,
   "id": "72a925a0",
   "metadata": {
    "ExecuteTime": {
     "end_time": "2023-07-24T21:39:29.472521Z",
     "start_time": "2023-07-24T21:39:29.388909Z"
    }
   },
   "outputs": [],
   "source": [
    "# Population coefficient\n",
    "\n"
   ]
  },
  {
   "cell_type": "code",
   "execution_count": null,
   "id": "7e1c769e",
   "metadata": {
    "ExecuteTime": {
     "end_time": "2023-07-24T21:39:48.516073Z",
     "start_time": "2023-07-24T21:39:48.429973Z"
    }
   },
   "outputs": [],
   "source": [
    "# Population median\n",
    "\n"
   ]
  },
  {
   "cell_type": "code",
   "execution_count": null,
   "id": "4361fa07",
   "metadata": {
    "ExecuteTime": {
     "end_time": "2023-07-24T21:40:01.034358Z",
     "start_time": "2023-07-24T21:40:00.941757Z"
    }
   },
   "outputs": [],
   "source": [
    "# effect of coefficient on median population country\n",
    "\n"
   ]
  },
  {
   "cell_type": "markdown",
   "id": "751f1a71",
   "metadata": {},
   "source": [
    "The countries with a median average population add less than a day to their life expectancy.\n",
    "\n",
    "However..."
   ]
  },
  {
   "cell_type": "code",
   "execution_count": null,
   "id": "8f334f54",
   "metadata": {
    "ExecuteTime": {
     "end_time": "2023-07-24T21:40:21.132703Z",
     "start_time": "2023-07-24T21:40:21.038310Z"
    }
   },
   "outputs": [],
   "source": [
    "# Max population\n",
    "\n"
   ]
  },
  {
   "cell_type": "code",
   "execution_count": null,
   "id": "b8f60a86",
   "metadata": {
    "ExecuteTime": {
     "end_time": "2023-07-24T21:40:11.456257Z",
     "start_time": "2023-07-24T21:40:11.365527Z"
    }
   },
   "outputs": [],
   "source": [
    "# Effect of max population on target\n",
    "\n"
   ]
  },
  {
   "cell_type": "markdown",
   "id": "03d2522b",
   "metadata": {},
   "source": [
    "The country with the highest population adds 5 years as a result of the population size!"
   ]
  },
  {
   "cell_type": "markdown",
   "id": "9373cbf6",
   "metadata": {},
   "source": [
    "## Feature Importance\n",
    "\n",
    "**Feature importance does <span style=\"color:red\"> NOT </span> describe the relationship between features targets.**\n",
    "\n",
    "**It only describes what the model is focusing on to make its predictions.**\n",
    "\n",
    "**Think of the results as percentage weights on the features for how important they are.**"
   ]
  },
  {
   "cell_type": "code",
   "execution_count": null,
   "id": "d0d79dde",
   "metadata": {
    "ExecuteTime": {
     "end_time": "2023-07-24T21:37:30.970075Z",
     "start_time": "2023-07-24T21:37:30.886583Z"
    }
   },
   "outputs": [],
   "source": [
    "from sklearn.ensemble import RandomForestRegressor"
   ]
  },
  {
   "cell_type": "code",
   "execution_count": null,
   "id": "7a1b02eb",
   "metadata": {
    "ExecuteTime": {
     "end_time": "2023-07-24T21:37:37.018788Z",
     "start_time": "2023-07-24T21:37:30.971074Z"
    }
   },
   "outputs": [],
   "source": [
    "rf_reg = RandomForestRegressor()\n",
    "rf_reg.fit(X_train_df,y_train)\n",
    "evaluate_regression(rf_reg, X_train_df, y_train, \n",
    "                    X_test_df, y_test)"
   ]
  },
  {
   "cell_type": "markdown",
   "id": "418ccf35",
   "metadata": {},
   "source": [
    "> Using the models .feature_names_in_"
   ]
  },
  {
   "cell_type": "code",
   "execution_count": null,
   "id": "7e0a3f05",
   "metadata": {
    "ExecuteTime": {
     "end_time": "2023-07-24T21:37:37.122843Z",
     "start_time": "2023-07-24T21:37:37.020519Z"
    }
   },
   "outputs": [],
   "source": [
    "# Extract Feature Importances\n",
    "\n"
   ]
  },
  {
   "cell_type": "code",
   "execution_count": null,
   "id": "41adc56a",
   "metadata": {
    "ExecuteTime": {
     "end_time": "2023-07-24T21:37:37.218521Z",
     "start_time": "2023-07-24T21:37:37.123841Z"
    }
   },
   "outputs": [],
   "source": [
    "# create a function to extract importances\n",
    "\n"
   ]
  },
  {
   "cell_type": "code",
   "execution_count": null,
   "id": "0d9530a1",
   "metadata": {
    "ExecuteTime": {
     "end_time": "2023-07-24T21:37:37.587906Z",
     "start_time": "2023-07-24T21:37:37.219318Z"
    }
   },
   "outputs": [],
   "source": [
    "# Plot Importances\n",
    "\n",
    "\n"
   ]
  },
  {
   "cell_type": "markdown",
   "id": "6c7ad884",
   "metadata": {},
   "source": [
    "> **Q1:** What do these numbers mean?\n",
    "\n",
    "> **Q2:** What are the top 5 most important features?"
   ]
  },
  {
   "cell_type": "markdown",
   "id": "d7f18209",
   "metadata": {},
   "source": [
    "## Using joblib to Save our Model, Data, and Objects"
   ]
  },
  {
   "cell_type": "code",
   "execution_count": null,
   "id": "af9a0bc6",
   "metadata": {
    "ExecuteTime": {
     "end_time": "2023-07-24T21:37:37.698450Z",
     "start_time": "2023-07-24T21:37:37.589290Z"
    }
   },
   "outputs": [],
   "source": [
    "X_train.head()"
   ]
  },
  {
   "cell_type": "code",
   "execution_count": null,
   "id": "741496f5",
   "metadata": {
    "ExecuteTime": {
     "end_time": "2023-07-24T21:37:37.788164Z",
     "start_time": "2023-07-24T21:37:37.698450Z"
    }
   },
   "outputs": [],
   "source": [
    "evaluate_regression(lin_reg_drop, X_train_df, y_train, X_test_df, y_test)"
   ]
  },
  {
   "cell_type": "code",
   "execution_count": null,
   "id": "1335b748",
   "metadata": {
    "ExecuteTime": {
     "end_time": "2023-07-24T21:37:37.950893Z",
     "start_time": "2023-07-24T21:37:37.789161Z"
    }
   },
   "outputs": [],
   "source": [
    "evaluate_regression(rf_reg, X_train_df, y_train, X_test_df, y_test)"
   ]
  },
  {
   "cell_type": "code",
   "execution_count": null,
   "id": "ca1b9a8f",
   "metadata": {
    "ExecuteTime": {
     "end_time": "2023-07-24T21:37:38.037448Z",
     "start_time": "2023-07-24T21:37:37.951890Z"
    }
   },
   "outputs": [],
   "source": [
    "import joblib, os\n",
    "\n",
    "## creating a dictionary of all of the variables to save for later\n",
    "\n"
   ]
  },
  {
   "cell_type": "code",
   "execution_count": null,
   "id": "096c3ff6",
   "metadata": {
    "ExecuteTime": {
     "end_time": "2023-07-24T21:37:38.123493Z",
     "start_time": "2023-07-24T21:37:38.038476Z"
    }
   },
   "outputs": [],
   "source": [
    "# Create the folder to save it in\n",
    "\n"
   ]
  },
  {
   "cell_type": "code",
   "execution_count": null,
   "id": "192af338",
   "metadata": {
    "ExecuteTime": {
     "end_time": "2023-07-24T21:37:38.252078Z",
     "start_time": "2023-07-24T21:37:38.124443Z"
    }
   },
   "outputs": [],
   "source": [
    "# Save the models, data, and preprocessor\n",
    "\n"
   ]
  },
  {
   "cell_type": "code",
   "execution_count": null,
   "id": "d8bd7f5c",
   "metadata": {
    "ExecuteTime": {
     "end_time": "2023-07-24T21:37:38.401025Z",
     "start_time": "2023-07-24T21:37:38.253076Z"
    }
   },
   "outputs": [],
   "source": [
    "# try Loading again to make sure it works.\n",
    "\n"
   ]
  },
  {
   "cell_type": "markdown",
   "id": "ca53faa7",
   "metadata": {},
   "source": [
    "> We will continue working with this task and these models next class!"
   ]
  },
  {
   "cell_type": "markdown",
   "id": "895d1c9c",
   "metadata": {
    "ExecuteTime": {
     "end_time": "2023-01-13T19:13:59.215605Z",
     "start_time": "2023-01-13T19:13:59.172852Z"
    }
   },
   "source": [
    "# *Teaser* Shap (For Regression)"
   ]
  },
  {
   "cell_type": "code",
   "execution_count": null,
   "id": "2ec89e9d",
   "metadata": {
    "ExecuteTime": {
     "end_time": "2023-07-24T21:37:38.503789Z",
     "start_time": "2023-07-24T21:37:38.401976Z"
    }
   },
   "outputs": [],
   "source": [
    "# Import and init shap\n",
    "import shap\n",
    "shap.initjs()"
   ]
  },
  {
   "cell_type": "code",
   "execution_count": null,
   "id": "396f1dcc",
   "metadata": {
    "ExecuteTime": {
     "end_time": "2023-07-24T21:38:00.567320Z",
     "start_time": "2023-07-24T21:37:38.504759Z"
    }
   },
   "outputs": [],
   "source": [
    "# Take a sample of the training data\n",
    "X_shap = shap.sample(X_train_df,nsamples = 500,random_state=SEED)\n",
    "y_shap = y_train.loc[X_shap.index]\n",
    "\n",
    "# Instantiate a Model Explainer with the model\n",
    "explainer = shap.Explainer(rf_reg)\n",
    "\n",
    "## Get shap values form the explainer\n",
    "shap_values = explainer(X_shap,y_shap)"
   ]
  },
  {
   "cell_type": "code",
   "execution_count": null,
   "id": "0a6d21ed",
   "metadata": {
    "ExecuteTime": {
     "end_time": "2023-07-24T21:38:01.142058Z",
     "start_time": "2023-07-24T21:38:00.567320Z"
    }
   },
   "outputs": [],
   "source": [
    "shap.summary_plot(shap_values, features = X_shap)"
   ]
  },
  {
   "cell_type": "code",
   "execution_count": null,
   "id": "9f133eab",
   "metadata": {},
   "outputs": [],
   "source": []
  }
 ],
 "metadata": {
  "kernelspec": {
   "display_name": "Python (dojo-env)",
   "language": "python",
   "name": "dojo-env"
  },
  "language_info": {
   "codemirror_mode": {
    "name": "ipython",
    "version": 3
   },
   "file_extension": ".py",
   "mimetype": "text/x-python",
   "name": "python",
   "nbconvert_exporter": "python",
   "pygments_lexer": "ipython3",
   "version": "3.9.15"
  },
  "toc": {
   "base_numbering": 1,
   "nav_menu": {},
   "number_sections": false,
   "sideBar": true,
   "skip_h1_title": false,
   "title_cell": "Table of Contents",
   "title_sidebar": "Contents",
   "toc_cell": false,
   "toc_position": {
    "height": "calc(100% - 180px)",
    "left": "10px",
    "top": "150px",
    "width": "303.016px"
   },
   "toc_section_display": true,
   "toc_window_display": true
  }
 },
 "nbformat": 4,
 "nbformat_minor": 5
}
