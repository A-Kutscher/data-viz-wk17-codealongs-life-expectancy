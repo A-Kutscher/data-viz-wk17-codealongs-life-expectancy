{
 "cells": [
  {
   "cell_type": "markdown",
   "id": "0eba0efa",
   "metadata": {},
   "source": [
    "# Week 17, Lecture 01 CodeAlong\n",
    "- Coefficients & Feature Importance"
   ]
  },
  {
   "cell_type": "markdown",
   "id": "0fc21da5",
   "metadata": {},
   "source": [
    "## Lesson Objectives"
   ]
  },
  {
   "cell_type": "markdown",
   "id": "23a92cad",
   "metadata": {},
   "source": [
    "- By the end of this lesson, students will be able to:\n",
    "    - Extract feature names from sklearn v1.1 objects\n",
    "    - Extract and visualize coefficients\n",
    "    - Save models to a joblib file\n"
   ]
  },
  {
   "cell_type": "markdown",
   "id": "f442e2da",
   "metadata": {},
   "source": [
    "# Business Problem\n",
    "\n",
    "The World Health Organization is creating a task force to increase life expectancy around the world.  They want to to focus their efforts on areas where countries can change to help their people live longer.\n",
    "\n",
    "They have tasked you with identifying which statistics about each county have the greatest impact on life expectancy and how those could change in increase the lifespan of the population."
   ]
  },
  {
   "cell_type": "markdown",
   "id": "dc5c874e",
   "metadata": {},
   "source": [
    "### The Data\n",
    "\n",
    "Data comes from the World Health Organization.  It describes demographic, health, and economic data from countries around the world between 2000 and 2015. \n",
    "\n",
    "Each row is one country during one year."
   ]
  },
  {
   "cell_type": "markdown",
   "id": "031af932",
   "metadata": {},
   "source": [
    "> Task Inspired by: https://medium.com/@shanzehhaji/using-a-linear-regression-model-to-predict-life-expectancy-de3aef66ac21\n",
    "\n",
    "- Kaggle Dataset on Life Expectancy:\n",
    "    - https://www.kaggle.com/datasets/kumarajarshi/life-expectancy-who"
   ]
  },
  {
   "cell_type": "code",
   "execution_count": null,
   "id": "94a13e42",
   "metadata": {
    "ExecuteTime": {
     "end_time": "2023-08-21T19:31:53.860943Z",
     "start_time": "2023-08-21T19:31:52.308087Z"
    }
   },
   "outputs": [],
   "source": [
    "## Our standard imports\n",
    "import pandas as pd\n",
    "import numpy as np\n",
    "import matplotlib.pyplot as plt\n",
    "import seaborn as sns\n",
    "\n",
    "## Preprocessing tools\n",
    "from sklearn.model_selection import train_test_split\n",
    "from sklearn.compose import ColumnTransformer, make_column_selector\n",
    "from sklearn.pipeline import make_pipeline\n",
    "from sklearn.preprocessing import OneHotEncoder, StandardScaler\n",
    "from sklearn.impute import SimpleImputer\n",
    "\n",
    "## Models & evaluation metrics\n",
    "from sklearn import metrics\n",
    "from sklearn.linear_model import LinearRegression\n",
    "from sklearn.tree import DecisionTreeRegressor\n",
    "from sklearn.ensemble import RandomForestRegressor\n",
    "\n",
    "from sklearn import set_config\n",
    "set_config(transform_output='pandas')\n",
    "\n",
    "import joblib\n",
    "\n",
    "## setting random state for reproducibility\n",
    "SEED = 321\n",
    "np.random.seed(SEED)\n",
    "## Matplotlib style\n",
    "fav_style = ('ggplot','tableau-colorblind10')\n",
    "fav_context  ={'context':'notebook', 'font_scale':1.1}\n",
    "plt.style.use(fav_style)\n",
    "sns.set_context(**fav_context)\n",
    "plt.rcParams['savefig.transparent'] = False\n",
    "plt.rcParams['savefig.bbox'] = 'tight'"
   ]
  },
  {
   "cell_type": "code",
   "execution_count": null,
   "id": "8ae06358",
   "metadata": {
    "ExecuteTime": {
     "end_time": "2023-08-21T19:31:53.906817Z",
     "start_time": "2023-08-21T19:31:53.861944Z"
    }
   },
   "outputs": [],
   "source": [
    "df = pd.read_csv(\"Data/Life Expectancy Data.csv\")\n",
    "df.info()\n",
    "df.head(3)"
   ]
  },
  {
   "cell_type": "code",
   "execution_count": null,
   "id": "e06edec8",
   "metadata": {
    "ExecuteTime": {
     "end_time": "2023-08-21T19:12:16.111729Z",
     "start_time": "2023-08-21T19:12:16.091811Z"
    }
   },
   "outputs": [],
   "source": [
    "def evaluate_regression(model, X_train,y_train, X_test, y_test,for_slides=True): \n",
    "    \"\"\"Evaluates a scikit learn regression model using r-squared and RMSE\n",
    "    FOR SLIDES VERS DOES MULTIPLE PRINT STATEMENTS FOR VERTICAL DISPLAY OF INFO\"\"\"\n",
    "    \n",
    "    ## Training Data\n",
    "    y_pred_train = model.predict(X_train)\n",
    "    r2_train = metrics.r2_score(y_train, y_pred_train)\n",
    "    rmse_train = metrics.mean_squared_error(y_train, y_pred_train, \n",
    "                                            squared=False)\n",
    "    mae_train = metrics.mean_absolute_error(y_train, y_pred_train)\n",
    "    \n",
    "\n",
    "    ## Test Data\n",
    "    y_pred_test = model.predict(X_test)\n",
    "    r2_test = metrics.r2_score(y_test, y_pred_test)\n",
    "    rmse_test = metrics.mean_squared_error(y_test, y_pred_test, \n",
    "                                            squared=False)\n",
    "    mae_test = metrics.mean_absolute_error(y_test, y_pred_test)\n",
    "    \n",
    "    if for_slides:\n",
    "        df_version =[['Split','R^2','MAE','RMSE']]\n",
    "        df_version.append(['Train',r2_train, mae_train, rmse_train])\n",
    "        df_version.append(['Test',r2_test, mae_test, rmse_test])\n",
    "        df_results = pd.DataFrame(df_version[1:], columns=df_version[0])\n",
    "        df_results = df_results.round(2)\n",
    "        display(df_results.style.hide(axis='index').format(precision=2, thousands=','))\n",
    "        \n",
    "    else: \n",
    "        print(f\"Training Data:\\tR^2 = {r2_train:,.2f}\\tRMSE = {rmse_train:,.2f}\\tMAE = {mae_train:,.2f}\")\n",
    "        print(f\"Test Data:\\tR^2 = {r2_test:,.2f}\\tRMSE = {rmse_test:,.2f}\\tMAE = {mae_test:,.2f}\")\n",
    "\n"
   ]
  },
  {
   "cell_type": "code",
   "execution_count": null,
   "id": "ab78e1d4",
   "metadata": {
    "ExecuteTime": {
     "end_time": "2023-08-21T19:11:42.767254Z",
     "start_time": "2023-08-21T19:11:42.736458Z"
    }
   },
   "outputs": [],
   "source": [
    "# clean extra spaces\n",
    "df.columns = df.columns.str.strip()\n",
    "df"
   ]
  },
  {
   "cell_type": "code",
   "execution_count": null,
   "id": "91551518",
   "metadata": {
    "ExecuteTime": {
     "end_time": "2023-08-21T19:11:42.814651Z",
     "start_time": "2023-08-21T19:11:42.769247Z"
    }
   },
   "outputs": [],
   "source": [
    "pd.set_option('display.max_columns',0)\n",
    "df"
   ]
  },
  {
   "cell_type": "markdown",
   "id": "285bb58e",
   "metadata": {},
   "source": [
    "## EDA"
   ]
  },
  {
   "cell_type": "code",
   "execution_count": null,
   "id": "9971df12",
   "metadata": {
    "ExecuteTime": {
     "end_time": "2023-08-21T19:11:42.829907Z",
     "start_time": "2023-08-21T19:11:42.815649Z"
    }
   },
   "outputs": [],
   "source": [
    "df.isna().sum()"
   ]
  },
  {
   "cell_type": "markdown",
   "id": "c213c8ea",
   "metadata": {},
   "source": [
    "> Can't have null values for the target!"
   ]
  },
  {
   "cell_type": "code",
   "execution_count": null,
   "id": "66143982",
   "metadata": {
    "ExecuteTime": {
     "end_time": "2023-08-21T19:11:42.843263Z",
     "start_time": "2023-08-21T19:11:42.830904Z"
    }
   },
   "outputs": [],
   "source": [
    "# drop null values ONLY FROM TARGET\n",
    "df = df.dropna(subset=['Life expectancy'])"
   ]
  },
  {
   "cell_type": "code",
   "execution_count": null,
   "id": "e8118b61",
   "metadata": {
    "ExecuteTime": {
     "end_time": "2023-08-21T19:11:42.904997Z",
     "start_time": "2023-08-21T19:11:42.843263Z"
    }
   },
   "outputs": [],
   "source": [
    "df.describe()"
   ]
  },
  {
   "cell_type": "code",
   "execution_count": null,
   "id": "684f02f8",
   "metadata": {
    "ExecuteTime": {
     "end_time": "2023-08-21T19:11:43.197597Z",
     "start_time": "2023-08-21T19:11:42.905994Z"
    }
   },
   "outputs": [],
   "source": [
    "target = 'Life expectancy'\n",
    "\n",
    "grid_spec = {'height_ratios':[0.8,0.2]}\n",
    "fig, axes = plt.subplots(nrows=2, figsize=(6,5), gridspec_kw=grid_spec)\n",
    "\n",
    "sns.histplot(data=df, x=target,ax=axes[0])\n",
    "sns.boxplot(data=df, x=target, ax=axes[1]);"
   ]
  },
  {
   "cell_type": "markdown",
   "id": "150ae49f",
   "metadata": {},
   "source": [
    "## Preprocessing (with Sklearn v1.1+)"
   ]
  },
  {
   "cell_type": "code",
   "execution_count": null,
   "id": "a36a872a",
   "metadata": {
    "ExecuteTime": {
     "end_time": "2023-08-21T19:11:43.232296Z",
     "start_time": "2023-08-21T19:11:43.198599Z"
    }
   },
   "outputs": [],
   "source": [
    "# ### Train Test Split\n",
    "## Make x and y variables\n",
    "target = \"Life expectancy\"\n",
    "drop_feats = []\n",
    "\n",
    "y = df[target].copy()\n",
    "X = df.drop(columns=[target, *drop_feats]).copy()\n",
    "\n",
    "## train-test-split with random state for reproducibility\n",
    "X_train, X_test, y_train, y_test = train_test_split(X,y, random_state=SEED)\n",
    "X_train.head(3)"
   ]
  },
  {
   "cell_type": "markdown",
   "id": "3c76ea16",
   "metadata": {},
   "source": [
    "### Drop Country Columns\n",
    "\n",
    "We are going to drop the country columns.  Why?  3 reasons:\n",
    "\n",
    "1. The ultimate goal of the business problem is to focus on high impact areas of change.  A country cannot change what it is.  Zimbabwe cannot become Sweden!  Instead, we will focus on the features that CAN be changed.\n",
    "\n",
    "2. After one-hot encoding there are too many features to analyze.  We need to reduce our focus\n",
    "\n",
    "3. one-hot encoded countries add multi-collinearity to our features, reducing the reliability of our analysis."
   ]
  },
  {
   "cell_type": "code",
   "execution_count": null,
   "id": "ac512e5e",
   "metadata": {
    "ExecuteTime": {
     "end_time": "2023-08-21T19:11:43.248276Z",
     "start_time": "2023-08-21T19:11:43.234293Z"
    }
   },
   "outputs": [],
   "source": [
    "X_train = X_train.drop(columns='Country')\n",
    "X_test = X_test.drop(columns='Country')"
   ]
  },
  {
   "cell_type": "markdown",
   "id": "5dc39bea",
   "metadata": {},
   "source": [
    "### Categorical Processing Pipeline"
   ]
  },
  {
   "cell_type": "code",
   "execution_count": null,
   "id": "f77d893c",
   "metadata": {
    "ExecuteTime": {
     "end_time": "2023-08-21T19:11:43.260021Z",
     "start_time": "2023-08-21T19:11:43.249273Z"
    },
    "scrolled": true
   },
   "outputs": [],
   "source": [
    "## Make numeric preprocessing pipeline\n",
    "num_sel = make_column_selector(dtype_include='number')\n",
    "mean_imputer = SimpleImputer(strategy='mean')\n",
    "\n",
    "num_tuple = ('Numeric', mean_imputer, num_sel)"
   ]
  },
  {
   "cell_type": "markdown",
   "id": "c3ca985a",
   "metadata": {},
   "source": [
    "### Numeric Processing Pipeline"
   ]
  },
  {
   "cell_type": "markdown",
   "id": "d700672e",
   "metadata": {},
   "source": [
    "<center> <font color='red' size=5>Notice We Are Not Scaling!!! </font>\n",
    "    \n",
    "   **<center> Q: Why not? </center>**"
   ]
  },
  {
   "cell_type": "code",
   "execution_count": null,
   "id": "6c7bffdd",
   "metadata": {
    "ExecuteTime": {
     "end_time": "2023-08-21T19:11:43.275192Z",
     "start_time": "2023-08-21T19:11:43.264217Z"
    }
   },
   "outputs": [],
   "source": [
    "## Make categorical preprocessing pipeline\n",
    "## Drop one of the binary columns after OHE to reduce multicollinearity\n",
    "cat_sel = make_column_selector(dtype_include='object')\n",
    "\n",
    "cat_pipe = make_pipeline(SimpleImputer(strategy='constant',\n",
    "                                       fill_value='MISSING'),\n",
    "                         OneHotEncoder(handle_unknown='ignore', \n",
    "                                       sparse_output=False,\n",
    "                                       drop='if_binary'))\n",
    "\n",
    "cat_tuple = ('Categorical', cat_pipe, cat_sel)"
   ]
  },
  {
   "cell_type": "code",
   "execution_count": null,
   "id": "a4df81e7",
   "metadata": {
    "ExecuteTime": {
     "end_time": "2023-08-21T19:11:43.307134Z",
     "start_time": "2023-08-21T19:11:43.277187Z"
    }
   },
   "outputs": [],
   "source": [
    "## make the preprocessing column transformer\n",
    "preprocessor = ColumnTransformer([num_tuple, cat_tuple],\n",
    "                                verbose_feature_names_out=False)\n",
    "preprocessor"
   ]
  },
  {
   "cell_type": "markdown",
   "id": "1e7ede1e",
   "metadata": {},
   "source": [
    "### Creating Unscaled Processed df"
   ]
  },
  {
   "cell_type": "code",
   "execution_count": null,
   "id": "2af088ce",
   "metadata": {
    "ExecuteTime": {
     "end_time": "2023-08-21T19:12:12.112365Z",
     "start_time": "2023-08-21T19:12:12.043744Z"
    }
   },
   "outputs": [],
   "source": [
    "## fit preprocessor and transform data\n",
    "preprocessor.fit(X_train)\n",
    "X_train_proc = preprocessor.transform(X_train)\n",
    "X_test_proc = preprocessor.transform(X_test)\n",
    "X_train_proc.head()"
   ]
  },
  {
   "cell_type": "markdown",
   "id": "4f7809a0",
   "metadata": {},
   "source": [
    "# Modeling - Linear Regression"
   ]
  },
  {
   "cell_type": "markdown",
   "id": "1b2fa28b",
   "metadata": {},
   "source": [
    "### Linear Model Assumptions\n",
    "\n",
    "**Linearity:**\n",
    "That the input features have a linear relationship with the target.\n",
    "\n",
    "**Independence of Features:** (AKA Little-to-No Multicollinearity)\n",
    "That the features are not strongly related to other features.\n",
    "\n",
    "**Normality:**\n",
    "The model's residuals are approximately normally distributed.\n",
    "\n",
    "**Homoscedasticity:**\n",
    "The model residuals have equal variance across all predictions."
   ]
  },
  {
   "cell_type": "markdown",
   "id": "2354dcaa",
   "metadata": {},
   "source": [
    "## Model 1: LinReg"
   ]
  },
  {
   "cell_type": "code",
   "execution_count": null,
   "id": "98d32377",
   "metadata": {
    "ExecuteTime": {
     "end_time": "2023-08-21T19:12:20.451466Z",
     "start_time": "2023-08-21T19:12:20.363750Z"
    }
   },
   "outputs": [],
   "source": [
    "from sklearn.linear_model import LinearRegression\n",
    "lin_reg = LinearRegression()\n",
    "lin_reg.fit(X_train_proc, y_train)\n",
    "evaluate_regression(lin_reg, X_train_proc, y_train, \n",
    "                    X_test_proc, y_test)"
   ]
  },
  {
   "cell_type": "markdown",
   "id": "3cabe320",
   "metadata": {},
   "source": [
    "### Extracting and Visualizing Coefficients"
   ]
  },
  {
   "cell_type": "markdown",
   "id": "c4d32bf5",
   "metadata": {},
   "source": [
    "#### Extracting Coefficients from lin_reg"
   ]
  },
  {
   "cell_type": "code",
   "execution_count": null,
   "id": "6448751f",
   "metadata": {
    "ExecuteTime": {
     "end_time": "2023-08-21T19:12:23.244863Z",
     "start_time": "2023-08-21T19:12:23.227878Z"
    },
    "scrolled": true
   },
   "outputs": [],
   "source": [
    "# access the .coef_ \n",
    "\n"
   ]
  },
  {
   "cell_type": "code",
   "execution_count": null,
   "id": "b6cde4b6",
   "metadata": {
    "ExecuteTime": {
     "end_time": "2023-08-21T19:12:23.546497Z",
     "start_time": "2023-08-21T19:12:23.523796Z"
    }
   },
   "outputs": [],
   "source": [
    "# Intercept\n",
    "\n"
   ]
  },
  {
   "cell_type": "code",
   "execution_count": null,
   "id": "beaa5a79",
   "metadata": {
    "ExecuteTime": {
     "end_time": "2023-08-21T19:12:27.344162Z",
     "start_time": "2023-08-21T19:12:27.333203Z"
    },
    "scrolled": true
   },
   "outputs": [],
   "source": [
    "## Saving the coefficients\n",
    "\n"
   ]
  },
  {
   "cell_type": "markdown",
   "id": "948f56da",
   "metadata": {},
   "source": [
    "### def `get_coefficients`"
   ]
  },
  {
   "cell_type": "code",
   "execution_count": null,
   "id": "d9942674",
   "metadata": {
    "ExecuteTime": {
     "end_time": "2023-08-21T19:14:55.394162Z",
     "start_time": "2023-08-21T19:14:55.380167Z"
    }
   },
   "outputs": [],
   "source": [
    "## formatting numbers to not use , thousands sep, and 4 digits floats\n",
    "\n"
   ]
  },
  {
   "cell_type": "code",
   "execution_count": null,
   "id": "54659e65",
   "metadata": {
    "ExecuteTime": {
     "end_time": "2023-08-21T18:59:09.691440Z",
     "start_time": "2023-08-21T18:59:09.684459Z"
    }
   },
   "outputs": [],
   "source": [
    "## show coefs again\n",
    "\n"
   ]
  },
  {
   "cell_type": "code",
   "execution_count": null,
   "id": "74c07d8d",
   "metadata": {
    "ExecuteTime": {
     "end_time": "2023-08-21T19:12:52.192895Z",
     "start_time": "2023-08-21T19:12:52.187908Z"
    }
   },
   "outputs": [],
   "source": [
    "# Define get_coefficients function to extract LinReg coefficients\n",
    "\n"
   ]
  },
  {
   "cell_type": "markdown",
   "id": "fbeee9ca",
   "metadata": {},
   "source": [
    "## Visualizing Coefficients"
   ]
  },
  {
   "cell_type": "code",
   "execution_count": null,
   "id": "07a3fcfa",
   "metadata": {
    "ExecuteTime": {
     "end_time": "2023-08-21T19:13:32.676381Z",
     "start_time": "2023-08-21T19:13:32.420089Z"
    }
   },
   "outputs": [],
   "source": [
    "## Plot Coefficients\n",
    "\n"
   ]
  },
  {
   "cell_type": "code",
   "execution_count": null,
   "id": "2b2984c4",
   "metadata": {
    "ExecuteTime": {
     "end_time": "2023-08-21T19:14:50.507712Z",
     "start_time": "2023-08-21T19:14:50.491754Z"
    }
   },
   "outputs": [],
   "source": [
    "## Function for plotting coefficients\n",
    "\n",
    "def plot_coefficients(coefs):\n",
    "    ax = coefs.sort_values().plot(kind='barh', figsize=(5,5))\n",
    "    ax.axvline(0, color='k')\n",
    "    ax.set(xlabel='Life Expectancy', title=\"Coefficients\")\n",
    "    plt.show();"
   ]
  },
  {
   "cell_type": "markdown",
   "id": "74d86f33",
   "metadata": {},
   "source": [
    "> ***Q1: What do we notice about our coefficients? Is there anything odd that would be difficult to a stakeholder?***\n",
    "\n",
    "> ***Q2: What does that intercept represent?***\n",
    "\n",
    "> ***Q3: What would it mean if we did not use an intercept? (fit_intercept=False)***"
   ]
  },
  {
   "cell_type": "markdown",
   "id": "2c003980",
   "metadata": {},
   "source": [
    "# Understanding Coefficients"
   ]
  },
  {
   "cell_type": "code",
   "execution_count": null,
   "id": "6e561adc",
   "metadata": {
    "ExecuteTime": {
     "end_time": "2023-08-21T19:15:04.191286Z",
     "start_time": "2023-08-21T19:15:03.955744Z"
    }
   },
   "outputs": [],
   "source": [
    "## Display Coefficients\n",
    "\n",
    "## Plot sorted Coefficients\n",
    "\n"
   ]
  },
  {
   "cell_type": "markdown",
   "id": "9b534b3f",
   "metadata": {},
   "source": [
    "Why does GDP per Capita seem to have no effect on Life Expectancy?"
   ]
  },
  {
   "cell_type": "code",
   "execution_count": null,
   "id": "5113fe4e",
   "metadata": {
    "ExecuteTime": {
     "end_time": "2023-08-21T19:15:19.509185Z",
     "start_time": "2023-08-21T19:15:19.500208Z"
    }
   },
   "outputs": [],
   "source": [
    "# Median GDP\n",
    "\n"
   ]
  },
  {
   "cell_type": "markdown",
   "id": "31370cab",
   "metadata": {},
   "source": [
    "The median GDP per Capita in the dataset is $3,184 US."
   ]
  },
  {
   "cell_type": "code",
   "execution_count": null,
   "id": "0eb11ca3",
   "metadata": {
    "ExecuteTime": {
     "end_time": "2023-08-21T19:15:23.105605Z",
     "start_time": "2023-08-21T19:15:23.091643Z"
    }
   },
   "outputs": [],
   "source": [
    "# GDP Coefficient\n",
    "\n"
   ]
  },
  {
   "cell_type": "markdown",
   "id": "7f704b78",
   "metadata": {},
   "source": [
    "GDP per Capita adds 1 year of life for every 44,500 US Dollars of GDP per Capita.  "
   ]
  },
  {
   "cell_type": "code",
   "execution_count": null,
   "id": "85d3eb33",
   "metadata": {
    "ExecuteTime": {
     "end_time": "2023-08-21T19:15:43.523485Z",
     "start_time": "2023-08-21T19:15:43.516532Z"
    }
   },
   "outputs": [],
   "source": [
    "## Effect of median GDP on target\n",
    "\n"
   ]
  },
  {
   "cell_type": "markdown",
   "id": "3e9fcd63",
   "metadata": {},
   "source": [
    "Countries with the median average GDP per Capita add about 2 months of expected life from this feature."
   ]
  },
  {
   "cell_type": "code",
   "execution_count": null,
   "id": "fddd23d6",
   "metadata": {
    "ExecuteTime": {
     "end_time": "2023-08-21T19:15:46.189216Z",
     "start_time": "2023-08-21T19:15:46.179214Z"
    }
   },
   "outputs": [],
   "source": [
    "## Max GDP\n",
    "\n"
   ]
  },
  {
   "cell_type": "code",
   "execution_count": null,
   "id": "aa67f80d",
   "metadata": {
    "ExecuteTime": {
     "end_time": "2023-08-21T19:15:46.640683Z",
     "start_time": "2023-08-21T19:15:46.635697Z"
    }
   },
   "outputs": [],
   "source": [
    "# Effect: Max GDP times coefficient\n",
    "\n"
   ]
  },
  {
   "cell_type": "markdown",
   "id": "d6136cd0",
   "metadata": {},
   "source": [
    "The country with the highest GDP per Capita adds 5 years to life expectancy with this feature."
   ]
  },
  {
   "cell_type": "code",
   "execution_count": null,
   "id": "82363e38",
   "metadata": {
    "ExecuteTime": {
     "end_time": "2023-08-21T19:15:52.943630Z",
     "start_time": "2023-08-21T19:15:52.900425Z"
    }
   },
   "outputs": [],
   "source": [
    "# What country is that?\n",
    "\n",
    "\n"
   ]
  },
  {
   "cell_type": "markdown",
   "id": "4153fe69",
   "metadata": {},
   "source": [
    "What about Population?"
   ]
  },
  {
   "cell_type": "code",
   "execution_count": null,
   "id": "72a925a0",
   "metadata": {
    "ExecuteTime": {
     "end_time": "2023-08-21T19:15:58.053588Z",
     "start_time": "2023-08-21T19:15:58.043587Z"
    }
   },
   "outputs": [],
   "source": [
    "# Population coefficient\n",
    "\n"
   ]
  },
  {
   "cell_type": "code",
   "execution_count": null,
   "id": "7e1c769e",
   "metadata": {
    "ExecuteTime": {
     "end_time": "2023-08-21T19:15:58.378877Z",
     "start_time": "2023-08-21T19:15:58.363298Z"
    }
   },
   "outputs": [],
   "source": [
    "# Population median\n",
    "\n"
   ]
  },
  {
   "cell_type": "code",
   "execution_count": null,
   "id": "4361fa07",
   "metadata": {
    "ExecuteTime": {
     "end_time": "2023-08-21T19:15:58.676388Z",
     "start_time": "2023-08-21T19:15:58.660737Z"
    }
   },
   "outputs": [],
   "source": [
    "# effect of coefficient on median population country\n",
    "\n"
   ]
  },
  {
   "cell_type": "markdown",
   "id": "751f1a71",
   "metadata": {},
   "source": [
    "The countries with a median average population add less than a day to their life expectancy.\n",
    "\n",
    "However..."
   ]
  },
  {
   "cell_type": "code",
   "execution_count": null,
   "id": "8f334f54",
   "metadata": {
    "ExecuteTime": {
     "end_time": "2023-08-21T19:16:01.182213Z",
     "start_time": "2023-08-21T19:16:01.163264Z"
    }
   },
   "outputs": [],
   "source": [
    "# Max population\n",
    "\n"
   ]
  },
  {
   "cell_type": "code",
   "execution_count": null,
   "id": "b8f60a86",
   "metadata": {
    "ExecuteTime": {
     "end_time": "2023-08-21T19:16:01.491661Z",
     "start_time": "2023-08-21T19:16:01.475676Z"
    }
   },
   "outputs": [],
   "source": [
    "# Effect of max population on target\n",
    "\n"
   ]
  },
  {
   "cell_type": "markdown",
   "id": "03d2522b",
   "metadata": {},
   "source": [
    "The country with the highest population adds 5 years as a result of the population size!"
   ]
  },
  {
   "cell_type": "code",
   "execution_count": null,
   "id": "c935b53c",
   "metadata": {
    "ExecuteTime": {
     "end_time": "2023-08-21T19:16:04.004317Z",
     "start_time": "2023-08-21T19:16:03.971404Z"
    }
   },
   "outputs": [],
   "source": [
    "## What country is that?\n",
    "\n"
   ]
  },
  {
   "cell_type": "markdown",
   "id": "9373cbf6",
   "metadata": {},
   "source": [
    "## Feature Importance\n",
    "\n",
    "**Feature importance does <span style=\"color:red\"> NOT </span> describe the relationship between features targets.**\n",
    "\n",
    "**It only describes what the model is focusing on to make its predictions.**\n",
    "\n",
    "**Think of the results as percentage weights on the features for how important they are.**"
   ]
  },
  {
   "cell_type": "code",
   "execution_count": null,
   "id": "d0d79dde",
   "metadata": {
    "ExecuteTime": {
     "end_time": "2023-08-21T18:49:28.436335Z",
     "start_time": "2023-08-21T18:49:28.429717Z"
    }
   },
   "outputs": [],
   "source": [
    "from sklearn.ensemble import RandomForestRegressor"
   ]
  },
  {
   "cell_type": "code",
   "execution_count": null,
   "id": "7a1b02eb",
   "metadata": {
    "ExecuteTime": {
     "end_time": "2023-08-21T19:16:39.642784Z",
     "start_time": "2023-08-21T19:16:36.908400Z"
    }
   },
   "outputs": [],
   "source": [
    "rf_reg = RandomForestRegressor()\n",
    "rf_reg.fit(X_train_proc, y_train)\n",
    "evaluate_regression(rf_reg, X_train_proc, y_train, \n",
    "                    X_test_proc, y_test)"
   ]
  },
  {
   "cell_type": "markdown",
   "id": "418ccf35",
   "metadata": {},
   "source": [
    "> Using the models .feature_names_in_"
   ]
  },
  {
   "cell_type": "code",
   "execution_count": null,
   "id": "7e0a3f05",
   "metadata": {
    "ExecuteTime": {
     "end_time": "2023-08-21T19:16:42.188775Z",
     "start_time": "2023-08-21T19:16:42.163878Z"
    }
   },
   "outputs": [],
   "source": [
    "# Extract Feature Importances\n",
    "\n",
    "\n"
   ]
  },
  {
   "cell_type": "code",
   "execution_count": null,
   "id": "41adc56a",
   "metadata": {
    "ExecuteTime": {
     "end_time": "2023-08-21T19:16:44.337605Z",
     "start_time": "2023-08-21T19:16:44.323642Z"
    }
   },
   "outputs": [],
   "source": [
    "# create a function to extract importances\n",
    "\n",
    "\n"
   ]
  },
  {
   "cell_type": "code",
   "execution_count": null,
   "id": "d65965b8",
   "metadata": {
    "ExecuteTime": {
     "end_time": "2023-08-21T19:16:45.837636Z",
     "start_time": "2023-08-21T19:16:45.819684Z"
    }
   },
   "outputs": [],
   "source": [
    "# show importances Series\n",
    "\n"
   ]
  },
  {
   "cell_type": "code",
   "execution_count": null,
   "id": "0d9530a1",
   "metadata": {
    "ExecuteTime": {
     "end_time": "2023-08-21T19:16:48.403155Z",
     "start_time": "2023-08-21T19:16:48.155139Z"
    }
   },
   "outputs": [],
   "source": [
    "# Plot Importances\n",
    "\n",
    "\n"
   ]
  },
  {
   "cell_type": "markdown",
   "id": "6c7ad884",
   "metadata": {},
   "source": [
    "> **Q1:** What do these numbers mean?\n",
    "\n",
    "> **Q2:** What are the top 5 most important features?"
   ]
  },
  {
   "cell_type": "markdown",
   "id": "d7f18209",
   "metadata": {},
   "source": [
    "## Using joblib to Save our Model, Data, and Objects"
   ]
  },
  {
   "cell_type": "code",
   "execution_count": null,
   "id": "af9a0bc6",
   "metadata": {
    "ExecuteTime": {
     "end_time": "2023-08-21T19:17:06.487054Z",
     "start_time": "2023-08-21T19:17:06.451550Z"
    }
   },
   "outputs": [],
   "source": [
    "X_train.head()"
   ]
  },
  {
   "cell_type": "code",
   "execution_count": null,
   "id": "ca1b9a8f",
   "metadata": {
    "ExecuteTime": {
     "end_time": "2023-08-21T19:17:06.856438Z",
     "start_time": "2023-08-21T19:17:06.843446Z"
    }
   },
   "outputs": [],
   "source": [
    "import joblib, os\n",
    "\n",
    "## creating a dictionary of all of the variables to save for later\n",
    "\n",
    "\n"
   ]
  },
  {
   "cell_type": "code",
   "execution_count": null,
   "id": "096c3ff6",
   "metadata": {
    "ExecuteTime": {
     "end_time": "2023-08-21T19:17:10.656614Z",
     "start_time": "2023-08-21T19:17:10.651627Z"
    }
   },
   "outputs": [],
   "source": [
    "# Create the folder to save it in\n",
    "\n"
   ]
  },
  {
   "cell_type": "code",
   "execution_count": null,
   "id": "192af338",
   "metadata": {
    "ExecuteTime": {
     "end_time": "2023-08-21T19:17:11.641372Z",
     "start_time": "2023-08-21T19:17:11.587655Z"
    }
   },
   "outputs": [],
   "source": [
    "# Save the models, data, and preprocessor\n",
    "\n",
    "\n"
   ]
  },
  {
   "cell_type": "code",
   "execution_count": null,
   "id": "d8bd7f5c",
   "metadata": {
    "ExecuteTime": {
     "end_time": "2023-08-21T19:17:12.239061Z",
     "start_time": "2023-08-21T19:17:12.171280Z"
    }
   },
   "outputs": [],
   "source": [
    "# try loading again to make sure it works.\n",
    "\n",
    "\n"
   ]
  },
  {
   "cell_type": "markdown",
   "id": "ca53faa7",
   "metadata": {},
   "source": [
    "> We will continue working with this task and these models next class!"
   ]
  },
  {
   "cell_type": "markdown",
   "id": "895d1c9c",
   "metadata": {
    "ExecuteTime": {
     "end_time": "2023-01-13T19:13:59.215605Z",
     "start_time": "2023-01-13T19:13:59.172852Z"
    }
   },
   "source": [
    "# *Teaser* Shap (For Regression)"
   ]
  },
  {
   "cell_type": "code",
   "execution_count": null,
   "id": "2ec89e9d",
   "metadata": {
    "ExecuteTime": {
     "end_time": "2023-08-21T19:17:25.657418Z",
     "start_time": "2023-08-21T19:17:25.171635Z"
    }
   },
   "outputs": [],
   "source": [
    "# Import and init shap\n",
    "import shap\n",
    "shap.initjs()"
   ]
  },
  {
   "cell_type": "markdown",
   "id": "05ed832d",
   "metadata": {},
   "source": [
    "<font color='red'><center>We MUST preprocess the data ahead of time for SHAP</center></font>"
   ]
  },
  {
   "cell_type": "code",
   "execution_count": null,
   "id": "396f1dcc",
   "metadata": {
    "ExecuteTime": {
     "end_time": "2023-08-21T19:17:47.906894Z",
     "start_time": "2023-08-21T19:17:25.796204Z"
    }
   },
   "outputs": [],
   "source": [
    "# Take a sample of the training data\n",
    "X_shap = shap.sample(X_train_proc, nsamples = 500, random_state=SEED)\n",
    "y_shap = y_train.loc[X_shap.index]\n",
    "\n",
    "# Instantiate a Model Explainer with the model\n",
    "explainer = shap.Explainer(rf_reg)\n",
    "\n",
    "## Get shap values form the explainer\n",
    "shap_values = explainer(X_shap,y_shap)"
   ]
  },
  {
   "cell_type": "code",
   "execution_count": null,
   "id": "0a6d21ed",
   "metadata": {
    "ExecuteTime": {
     "end_time": "2023-08-21T19:17:48.434640Z",
     "start_time": "2023-08-21T19:17:47.908201Z"
    }
   },
   "outputs": [],
   "source": [
    "shap.summary_plot(shap_values, features = X_shap)"
   ]
  },
  {
   "cell_type": "code",
   "execution_count": null,
   "id": "9f133eab",
   "metadata": {},
   "outputs": [],
   "source": []
  }
 ],
 "metadata": {
  "kernelspec": {
   "display_name": "Python (dojo-env)",
   "language": "python",
   "name": "dojo-env"
  },
  "language_info": {
   "codemirror_mode": {
    "name": "ipython",
    "version": 3
   },
   "file_extension": ".py",
   "mimetype": "text/x-python",
   "name": "python",
   "nbconvert_exporter": "python",
   "pygments_lexer": "ipython3",
   "version": "3.10.10"
  },
  "toc": {
   "base_numbering": 1,
   "nav_menu": {},
   "number_sections": false,
   "sideBar": true,
   "skip_h1_title": false,
   "title_cell": "Table of Contents",
   "title_sidebar": "Contents",
   "toc_cell": false,
   "toc_position": {
    "height": "calc(100% - 180px)",
    "left": "10px",
    "top": "150px",
    "width": "303.016px"
   },
   "toc_section_display": true,
   "toc_window_display": false
  },
  "widgets": {
   "application/vnd.jupyter.widget-state+json": {
    "state": {},
    "version_major": 2,
    "version_minor": 0
   }
  }
 },
 "nbformat": 4,
 "nbformat_minor": 5
}
