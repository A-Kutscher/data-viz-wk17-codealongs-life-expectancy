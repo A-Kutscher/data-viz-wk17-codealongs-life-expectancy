{
 "cells": [
  {
   "cell_type": "markdown",
   "id": "0eba0efa",
   "metadata": {},
   "source": [
    "# Week 17, Lecture 02: CodeAlong\n"
   ]
  },
  {
   "cell_type": "markdown",
   "id": "d32c1b66",
   "metadata": {},
   "source": [
    "## **Part 2: Explaining Models with Model Explainers**"
   ]
  },
  {
   "cell_type": "markdown",
   "id": "0fc21da5",
   "metadata": {},
   "source": [
    "### Lesson Objectives"
   ]
  },
  {
   "cell_type": "markdown",
   "id": "23a92cad",
   "metadata": {},
   "source": [
    "- By the end of this lesson, students will be able to:\n",
    "    - Load variables and models from a joblib file into a new notebook.\n",
    "    - Apply permutation importance\n",
    "    - Apply shap analysis \n",
    "    - Visualize global and local explanations.\n"
   ]
  },
  {
   "cell_type": "markdown",
   "id": "dc5c874e",
   "metadata": {},
   "source": [
    "### Continuing with Life Expectancy Prediction"
   ]
  },
  {
   "cell_type": "markdown",
   "id": "031af932",
   "metadata": {},
   "source": [
    "> Task Inspired by: https://medium.com/@shanzehhaji/using-a-linear-regression-model-to-predict-life-expectancy-de3aef66ac21\n",
    "\n",
    "- Kaggle Dataset on Life Expectancy:\n",
    "    - https://www.kaggle.com/datasets/kumarajarshi/life-expectancy-who"
   ]
  },
  {
   "cell_type": "code",
   "execution_count": null,
   "id": "94a13e42",
   "metadata": {
    "ExecuteTime": {
     "end_time": "2023-07-11T20:45:29.880438Z",
     "start_time": "2023-07-11T20:45:28.317389Z"
    }
   },
   "outputs": [],
   "source": [
    "## Our standard imports\n",
    "import pandas as pd\n",
    "import numpy as np\n",
    "import matplotlib.pyplot as plt\n",
    "import seaborn as sns\n",
    "import missingno as miss\n",
    "\n",
    "## Preprocessing tools\n",
    "from sklearn.model_selection import train_test_split\n",
    "from sklearn.compose import make_column_transformer, make_column_selector\n",
    "from sklearn.pipeline import make_pipeline\n",
    "from sklearn.preprocessing import OneHotEncoder, StandardScaler\n",
    "from sklearn.impute import SimpleImputer\n",
    "\n",
    "## Models & evaluation metrics\n",
    "from sklearn import metrics\n",
    "from sklearn.linear_model import LinearRegression\n",
    "from sklearn.tree import DecisionTreeRegressor\n",
    "from sklearn.ensemble import RandomForestRegressor\n",
    "\n",
    "\n",
    "## setting random state for reproducibility\n",
    "SEED = 321\n",
    "np.random.seed(SEED)\n",
    "## Matplotlib style\n",
    "fav_style = ('ggplot','tableau-colorblind10')\n",
    "fav_context  ={'context':'notebook', 'font_scale':1.1}\n",
    "plt.style.use(fav_style)\n",
    "sns.set_context(**fav_context)\n",
    "plt.rcParams['savefig.transparent'] = False\n",
    "plt.rcParams['savefig.bbox'] = 'tight'\n",
    "\n",
    "\n",
    "import joblib, os"
   ]
  },
  {
   "cell_type": "code",
   "execution_count": null,
   "id": "d9919101",
   "metadata": {
    "ExecuteTime": {
     "end_time": "2023-07-11T20:45:30.235756Z",
     "start_time": "2023-07-11T20:45:29.881496Z"
    }
   },
   "outputs": [],
   "source": [
    "## Importing Custom Functions\n",
    "import sys,os\n",
    "# sys.path.append(os.path.abspath(\"../\"))\n",
    "%load_ext autoreload\n",
    "%autoreload 2\n",
    "from CODE import data_enrichment as de"
   ]
  },
  {
   "cell_type": "markdown",
   "id": "892ec81c",
   "metadata": {},
   "source": [
    "### Functionized Code From Part 1"
   ]
  },
  {
   "cell_type": "code",
   "execution_count": null,
   "id": "5e3950a4",
   "metadata": {
    "ExecuteTime": {
     "end_time": "2023-07-11T20:45:30.379075Z",
     "start_time": "2023-07-11T20:45:30.236698Z"
    }
   },
   "outputs": [],
   "source": [
    "def evaluate_regression(model, X_train,y_train, X_test, y_test,for_slides=True): \n",
    "    \"\"\"Evaluates a scikit learn regression model using r-squared and RMSE\n",
    "    FOR SLIDES VERS DOES MULTIPLE PRINT STATEMENTS FOR VERTICAL DISPLAY OF INFO\"\"\"\n",
    "    \n",
    "    ## Training Data\n",
    "    y_pred_train = model.predict(X_train)\n",
    "    r2_train = metrics.r2_score(y_train, y_pred_train)\n",
    "    rmse_train = metrics.mean_squared_error(y_train, y_pred_train, \n",
    "                                            squared=False)\n",
    "    mae_train = metrics.mean_absolute_error(y_train, y_pred_train)\n",
    "    \n",
    "\n",
    "    ## Test Data\n",
    "    y_pred_test = model.predict(X_test)\n",
    "    r2_test = metrics.r2_score(y_test, y_pred_test)\n",
    "    rmse_test = metrics.mean_squared_error(y_test, y_pred_test, \n",
    "                                            squared=False)\n",
    "    mae_test = metrics.mean_absolute_error(y_test, y_pred_test)\n",
    "    \n",
    "    if for_slides:\n",
    "        df_version =[['Split','R^2','MAE','RMSE']]\n",
    "        df_version.append(['Train',r2_train, mae_train, rmse_train])\n",
    "        df_version.append(['Test',r2_test, mae_test, rmse_test])\n",
    "        df_results = pd.DataFrame(df_version[1:], columns=df_version[0])\n",
    "        df_results = df_results.round(2)\n",
    "        display(df_results.style.hide(axis='index').format(precision=2, thousands=','))\n",
    "        \n",
    "    else: \n",
    "        print(f\"Training Data:\\tR^2 = {r2_train:,.2f}\\tRMSE = {rmse_train:,.2f}\\tMAE = {mae_train:,.2f}\")\n",
    "        print(f\"Test Data:\\tR^2 = {r2_test:,.2f}\\tRMSE = {rmse_test:,.2f}\\tMAE = {mae_test:,.2f}\")\n",
    "\n",
    "def get_coefficients(lin_reg):\n",
    "    coeffs = pd.Series(lin_reg.coef_, index= lin_reg.feature_names_in_)\n",
    "    coeffs.loc['intercept'] = lin_reg.intercept_\n",
    "    return coeffs\n",
    "\n",
    "def plot_coefficients(coeffs, sort_values=True, top_n=None, figsize=(6,4),\n",
    "                     title=\"Linear Regression Coefficients\", xlabel='Coefficient'):\n",
    "    \"\"\"Plots a Series of coefficients as horizotal bar chart, with option to sort\n",
    "    and to only keep top_n coefficients\"\"\"\n",
    "        \n",
    "    if top_n is not None:\n",
    "        top_n = coeffs.abs().rank().sort_values(ascending=False).head(top_n)\n",
    "        coeffs = coeffs.loc[top_n.index]\n",
    "        \n",
    "    if sort_values:\n",
    "        coeffs = coeffs.sort_values()\n",
    "\n",
    "        \n",
    "        \n",
    "    ax = coeffs.plot(kind='barh', figsize=figsize)\n",
    "    ax.axvline(0, color='k')\n",
    "    ax.set(xlabel=xlabel, title=title);\n",
    "    plt.show()\n",
    "    return ax\n",
    "\n",
    "\n",
    "def get_importances(rf_reg):\n",
    "    importances = pd.Series(rf_reg.feature_importances_, index= rf_reg.feature_names_in_)\n",
    "    return importances\n",
    "\n",
    "\n",
    "def plot_importances(importances, sort_values=True, top_n=None, figsize=(6,4),\n",
    "                     title=\"Feature Importance\", xlabel='Importance'):\n",
    "    if sort_values:\n",
    "        importances = importances.sort_values()\n",
    "        \n",
    "    if top_n is not None:\n",
    "        importances = importances.tail(top_n)\n",
    "        \n",
    "        \n",
    "    ax = importances.plot(kind='barh', figsize=figsize)\n",
    "    ax.axvline(0, color='k')\n",
    "    ax.set(xlabel=xlabel, title=title);\n",
    "    plt.show()\n",
    "    return ax"
   ]
  },
  {
   "cell_type": "markdown",
   "id": "ace76747",
   "metadata": {},
   "source": [
    "##  🕹️ Loading Objects from a Joblib"
   ]
  },
  {
   "cell_type": "code",
   "execution_count": null,
   "id": "82a652ab",
   "metadata": {
    "ExecuteTime": {
     "end_time": "2023-07-11T20:45:30.521028Z",
     "start_time": "2023-07-11T20:45:30.381083Z"
    }
   },
   "outputs": [],
   "source": [
    "## Load the joblib file stored in the models folder\n",
    "fname = \"Models/wk1-lect01-codealong.joblib\"\n",
    "\n",
    "loaded = joblib.load(fname)\n",
    "# Preview the contents of the loaded joblib objects\n",
    "loaded.keys()"
   ]
  },
  {
   "cell_type": "code",
   "execution_count": null,
   "id": "caff7e71",
   "metadata": {
    "ExecuteTime": {
     "end_time": "2023-07-11T20:45:30.612278Z",
     "start_time": "2023-07-11T20:45:30.522028Z"
    }
   },
   "outputs": [],
   "source": [
    "## Saving the loaded objects as separate varaibles\n",
    "\n",
    "## Saving the loaded objects as separate varaibles\n",
    "\n",
    "X_train = loaded['X_train']\n",
    "X_test = loaded['X_test']\n",
    "y_train = loaded['y_train']\n",
    "y_test = loaded['y_test']\n",
    "\n",
    "preprocessor = loaded['preprocessor']\n",
    "lin_reg_final = loaded['LinearRegression']\n",
    "rf_reg = loaded['RandomForestRegressor']\n",
    "\n",
    "X_train.head()"
   ]
  },
  {
   "cell_type": "markdown",
   "id": "f7f846f6",
   "metadata": {},
   "source": [
    "> Let's evaluate our models to prove they saved correctly."
   ]
  },
  {
   "cell_type": "code",
   "execution_count": null,
   "id": "3fd0c9ac",
   "metadata": {
    "ExecuteTime": {
     "end_time": "2023-07-11T20:45:31.093601Z",
     "start_time": "2023-07-11T20:45:30.613281Z"
    }
   },
   "outputs": [],
   "source": [
    "## Use our evaluate_regression function to evalaute the linear regression\n",
    "\n",
    "evaluate_regression(lin_reg_final,X_train,y_train, X_test, y_test)"
   ]
  },
  {
   "cell_type": "markdown",
   "id": "5224fbba",
   "metadata": {},
   "source": [
    "> ***Q: What is my error?***"
   ]
  },
  {
   "cell_type": "markdown",
   "id": "e4a2a943",
   "metadata": {},
   "source": [
    "### Re-Creating X_train_df & X_test_df"
   ]
  },
  {
   "cell_type": "code",
   "execution_count": null,
   "id": "cbade8af",
   "metadata": {
    "ExecuteTime": {
     "end_time": "2023-07-11T20:46:02.032175Z",
     "start_time": "2023-07-11T20:46:01.932074Z"
    }
   },
   "outputs": [],
   "source": [
    "## Get feature names from already-fit preprocessor\n",
    "\n",
    "feature_names = preprocessor.get_feature_names_out()\n",
    "\n",
    "## Use the preprocessor to transform X_train into X_train_df\n",
    "X_train_df = pd.DataFrame(preprocessor.transform(X_train),\n",
    "                          index=X_train.index,\n",
    "                          columns=feature_names)\n",
    "\n",
    "\n",
    "## Use the preprocessor to transform X_test into X_test_df \n",
    "\n",
    "X_test_df = pd.DataFrame(preprocessor.transform(X_test),\n",
    "                         index=X_test.index,\n",
    "                         columns=feature_names)\n",
    "X_train_df.head()\n"
   ]
  },
  {
   "cell_type": "markdown",
   "id": "967787a6",
   "metadata": {},
   "source": [
    "### Evaluating Our LinearRegression"
   ]
  },
  {
   "cell_type": "code",
   "execution_count": null,
   "id": "97280615",
   "metadata": {
    "ExecuteTime": {
     "end_time": "2023-07-11T20:46:02.187517Z",
     "start_time": "2023-07-11T20:46:02.034142Z"
    }
   },
   "outputs": [],
   "source": [
    "## Use our evaluate_regression function to evalaute the linear regression\n",
    "evaluate_regression(lin_reg_final, X_train_df, y_train, X_test_df, y_test)"
   ]
  },
  {
   "cell_type": "markdown",
   "id": "90a3d11d",
   "metadata": {},
   "source": [
    "### Evaluating Our Random Forest"
   ]
  },
  {
   "cell_type": "code",
   "execution_count": null,
   "id": "670e5af1",
   "metadata": {
    "ExecuteTime": {
     "end_time": "2023-07-11T20:46:02.334306Z",
     "start_time": "2023-07-11T20:46:02.189511Z"
    }
   },
   "outputs": [],
   "source": [
    "## evaluate the random forest\n",
    "evaluate_regression(rf_reg,X_train_df,y_train, X_test_df, y_test)"
   ]
  },
  {
   "cell_type": "markdown",
   "id": "bea49fdb",
   "metadata": {},
   "source": [
    "## 🕹️  Permutation Importance"
   ]
  },
  {
   "cell_type": "code",
   "execution_count": null,
   "id": "0b5e3f8f",
   "metadata": {
    "ExecuteTime": {
     "end_time": "2023-07-11T20:46:02.426955Z",
     "start_time": "2023-07-11T20:46:02.336273Z"
    }
   },
   "outputs": [],
   "source": [
    "from sklearn.inspection import permutation_importance"
   ]
  },
  {
   "cell_type": "markdown",
   "id": "eb8cc834",
   "metadata": {},
   "source": [
    "### RandomForest Permutation Importance"
   ]
  },
  {
   "cell_type": "markdown",
   "id": "b85652ce",
   "metadata": {},
   "source": [
    ">  Apply permutation importance to the random forest"
   ]
  },
  {
   "cell_type": "code",
   "execution_count": null,
   "id": "d0eceb08",
   "metadata": {
    "ExecuteTime": {
     "end_time": "2023-07-11T20:46:02.678475Z",
     "start_time": "2023-07-11T20:46:02.427902Z"
    }
   },
   "outputs": [],
   "source": [
    "## run performatation_importance on the rf  using the test data and random_state=SEED\n"
   ]
  },
  {
   "cell_type": "code",
   "execution_count": null,
   "id": "f3b29f18",
   "metadata": {
    "ExecuteTime": {
     "end_time": "2023-07-11T20:46:02.756895Z",
     "start_time": "2023-07-11T20:46:02.679473Z"
    }
   },
   "outputs": [],
   "source": [
    "## save the average importances as a Series\n",
    "\n"
   ]
  },
  {
   "cell_type": "code",
   "execution_count": null,
   "id": "26db5a6c",
   "metadata": {
    "ExecuteTime": {
     "end_time": "2023-07-11T20:46:03.103559Z",
     "start_time": "2023-07-11T20:46:02.757898Z"
    }
   },
   "outputs": [],
   "source": [
    "# Use our plot_importances function, but change title to \"Permutation Importance\"\n"
   ]
  },
  {
   "cell_type": "markdown",
   "id": "75d4c598",
   "metadata": {},
   "source": [
    "> Permutation Importance Can Be Applied to ANY Model!"
   ]
  },
  {
   "cell_type": "markdown",
   "id": "ed09fb6b",
   "metadata": {},
   "source": [
    "# 🕹️Global Model Explanations"
   ]
  },
  {
   "cell_type": "markdown",
   "id": "895d1c9c",
   "metadata": {
    "ExecuteTime": {
     "end_time": "2023-01-13T19:13:59.215605Z",
     "start_time": "2023-01-13T19:13:59.172852Z"
    }
   },
   "source": [
    "##  Applying Shap"
   ]
  },
  {
   "cell_type": "code",
   "execution_count": null,
   "id": "2ec89e9d",
   "metadata": {
    "ExecuteTime": {
     "end_time": "2023-07-11T20:46:03.720158Z",
     "start_time": "2023-07-11T20:46:03.267064Z"
    }
   },
   "outputs": [],
   "source": [
    "# Import and init shap\n",
    "import shap\n",
    "shap.initjs()\n"
   ]
  },
  {
   "cell_type": "markdown",
   "id": "5e41405c",
   "metadata": {},
   "source": [
    "### Gather a small random sample to speed the process"
   ]
  },
  {
   "cell_type": "code",
   "execution_count": null,
   "id": "9a10976a",
   "metadata": {
    "ExecuteTime": {
     "end_time": "2023-07-11T20:46:03.813344Z",
     "start_time": "2023-07-11T20:46:03.721121Z"
    }
   },
   "outputs": [],
   "source": [
    "# Take a sample of the training data (nsamples=500, use random_state=SEED)\n"
   ]
  },
  {
   "cell_type": "markdown",
   "id": "daf32ca7",
   "metadata": {},
   "source": [
    "## <center> SHAP Model Usage\n",
    "\n",
    "![shap usage by model](Data/SHAPcheatsheet.png)"
   ]
  },
  {
   "cell_type": "markdown",
   "id": "df311373",
   "metadata": {},
   "source": [
    "### Create SHAP explainers for LinearRegression and RandomForestRegressor"
   ]
  },
  {
   "cell_type": "code",
   "execution_count": null,
   "id": "396f1dcc",
   "metadata": {
    "ExecuteTime": {
     "end_time": "2023-07-11T20:46:26.082832Z",
     "start_time": "2023-07-11T20:46:03.814379Z"
    }
   },
   "outputs": [],
   "source": [
    "# Instantiate a Model Explainer with the model\n",
    "\n",
    "## Get shap values from the explainer\n",
    "\n"
   ]
  },
  {
   "cell_type": "code",
   "execution_count": null,
   "id": "c6a945fd",
   "metadata": {
    "ExecuteTime": {
     "end_time": "2023-07-11T20:46:26.287393Z",
     "start_time": "2023-07-11T20:46:26.176999Z"
    }
   },
   "outputs": [],
   "source": [
    "## Create an explainer for the lin_reg\n",
    "\n",
    "\n",
    "## get shap values for linreg\n",
    "\n"
   ]
  },
  {
   "cell_type": "markdown",
   "id": "84d2d8b0",
   "metadata": {},
   "source": [
    "### Summary Bar Plots"
   ]
  },
  {
   "cell_type": "markdown",
   "id": "5ff91780",
   "metadata": {},
   "source": [
    "The `show=False` flag will allow us to manipulate the figure using matplotlib."
   ]
  },
  {
   "cell_type": "code",
   "execution_count": null,
   "id": "aa51c363",
   "metadata": {
    "ExecuteTime": {
     "end_time": "2023-07-11T20:46:26.696280Z",
     "start_time": "2023-07-11T20:46:26.288392Z"
    },
    "scrolled": false
   },
   "outputs": [],
   "source": [
    "## create a summary plot (bar version)\n",
    "\n"
   ]
  },
  {
   "cell_type": "code",
   "execution_count": null,
   "id": "7806a13f",
   "metadata": {
    "ExecuteTime": {
     "end_time": "2023-07-11T20:46:27.064819Z",
     "start_time": "2023-07-11T20:46:26.697298Z"
    }
   },
   "outputs": [],
   "source": [
    "## create a summary plot (bar version)\n",
    "\n"
   ]
  },
  {
   "cell_type": "code",
   "execution_count": null,
   "id": "c09b7473",
   "metadata": {
    "ExecuteTime": {
     "end_time": "2023-07-11T20:46:27.896183Z",
     "start_time": "2023-07-11T20:46:27.064819Z"
    }
   },
   "outputs": [],
   "source": [
    "## create a summary plot (bar version)\n",
    "\n"
   ]
  },
  {
   "cell_type": "code",
   "execution_count": null,
   "id": "0a6d21ed",
   "metadata": {
    "ExecuteTime": {
     "end_time": "2023-07-11T20:46:28.631686Z",
     "start_time": "2023-07-11T20:46:27.897228Z"
    }
   },
   "outputs": [],
   "source": [
    "## create a summary plot (dot/default version)\n",
    "## create a summary plot (bar version)\n",
    "\n"
   ]
  },
  {
   "cell_type": "markdown",
   "id": "c13f3f32",
   "metadata": {},
   "source": [
    "> So why is our LinReg predicting a high life expectancy when infant deaths are high?"
   ]
  },
  {
   "cell_type": "markdown",
   "id": "54472c7e",
   "metadata": {},
   "source": [
    "## Local Explanations"
   ]
  },
  {
   "cell_type": "code",
   "execution_count": null,
   "id": "0e86cf18",
   "metadata": {
    "ExecuteTime": {
     "end_time": "2023-07-11T20:46:28.811256Z",
     "start_time": "2023-07-11T20:46:28.714753Z"
    }
   },
   "outputs": [],
   "source": [
    "## Making a vers of shap vars with 0-based integer index \n",
    "# so what it matches the index for the shap_vallues\n",
    "\n"
   ]
  },
  {
   "cell_type": "code",
   "execution_count": null,
   "id": "a7713527",
   "metadata": {
    "ExecuteTime": {
     "end_time": "2023-07-11T20:46:28.906406Z",
     "start_time": "2023-07-11T20:46:28.812254Z"
    }
   },
   "outputs": [],
   "source": [
    "\n"
   ]
  },
  {
   "cell_type": "code",
   "execution_count": null,
   "id": "2edb5613",
   "metadata": {
    "ExecuteTime": {
     "end_time": "2023-07-11T20:46:29.001246Z",
     "start_time": "2023-07-11T20:46:28.907331Z"
    }
   },
   "outputs": [],
   "source": [
    "\n"
   ]
  },
  {
   "cell_type": "markdown",
   "id": "76c48dd2",
   "metadata": {},
   "source": [
    "### Finding a Meaningful  Example to Explain"
   ]
  },
  {
   "cell_type": "code",
   "execution_count": null,
   "id": "9fccabfa",
   "metadata": {
    "ExecuteTime": {
     "end_time": "2023-07-11T20:46:29.096234Z",
     "start_time": "2023-07-11T20:46:29.002271Z"
    }
   },
   "outputs": [],
   "source": [
    "\n"
   ]
  },
  {
   "cell_type": "markdown",
   "id": "c96054b5",
   "metadata": {},
   "source": [
    "- Let's find the example with the most infant deaths."
   ]
  },
  {
   "cell_type": "code",
   "execution_count": null,
   "id": "337221dc",
   "metadata": {
    "ExecuteTime": {
     "end_time": "2023-07-11T20:46:29.195911Z",
     "start_time": "2023-07-11T20:46:29.097245Z"
    }
   },
   "outputs": [],
   "source": [
    "# what is the max/range of infant deaths\n",
    "X_shap_local['infant deaths'].describe()"
   ]
  },
  {
   "cell_type": "code",
   "execution_count": null,
   "id": "1addcfb6",
   "metadata": {
    "ExecuteTime": {
     "end_time": "2023-07-11T20:46:29.282330Z",
     "start_time": "2023-07-11T20:46:29.196936Z"
    }
   },
   "outputs": [],
   "source": [
    "## saving the index of the most deaths\n",
    "\n"
   ]
  },
  {
   "cell_type": "code",
   "execution_count": null,
   "id": "afe4ad89",
   "metadata": {
    "ExecuteTime": {
     "end_time": "2023-07-11T20:46:29.375540Z",
     "start_time": "2023-07-11T20:46:29.283571Z"
    }
   },
   "outputs": [],
   "source": [
    "# checking the feature values for selected example\n",
    "\n"
   ]
  },
  {
   "cell_type": "code",
   "execution_count": null,
   "id": "1c08bd4b",
   "metadata": {
    "ExecuteTime": {
     "end_time": "2023-07-11T20:46:29.468566Z",
     "start_time": "2023-07-11T20:46:29.376579Z"
    }
   },
   "outputs": [],
   "source": [
    "## what was the actual life expectancy?\n",
    "\n"
   ]
  },
  {
   "cell_type": "markdown",
   "id": "a190a517",
   "metadata": {},
   "source": [
    "## Shap Force Plots"
   ]
  },
  {
   "cell_type": "markdown",
   "id": "65431250",
   "metadata": {},
   "source": [
    "### Force Plot - Linear Reg explanation"
   ]
  },
  {
   "cell_type": "code",
   "execution_count": null,
   "id": "9685d4e6",
   "metadata": {
    "ExecuteTime": {
     "end_time": "2023-07-11T20:46:29.565764Z",
     "start_time": "2023-07-11T20:46:29.472593Z"
    }
   },
   "outputs": [],
   "source": [
    "\n",
    "\n",
    "\n",
    "## plotting example force plot for most inf.deaths (from linreg)\n",
    "\n",
    "\n"
   ]
  },
  {
   "cell_type": "markdown",
   "id": "454b298b",
   "metadata": {},
   "source": [
    "### Force Plot - RandomForest explanation"
   ]
  },
  {
   "cell_type": "code",
   "execution_count": null,
   "id": "6e15191c",
   "metadata": {
    "ExecuteTime": {
     "end_time": "2023-07-11T20:46:29.663335Z",
     "start_time": "2023-07-11T20:46:29.566676Z"
    }
   },
   "outputs": [],
   "source": [
    "## plotting example force plot for most inf.deaths (from rf)\n",
    "\n",
    "\n",
    "\n"
   ]
  },
  {
   "cell_type": "markdown",
   "id": "d0e24b14",
   "metadata": {},
   "source": [
    "> ***Q: What do you notice when comparing the lin reg and rf reg force plots?***"
   ]
  },
  {
   "cell_type": "markdown",
   "id": "d9b5d9e9",
   "metadata": {},
   "source": [
    "# LIME"
   ]
  },
  {
   "cell_type": "code",
   "execution_count": null,
   "id": "bbdf4560",
   "metadata": {
    "ExecuteTime": {
     "end_time": "2023-07-11T20:46:29.763630Z",
     "start_time": "2023-07-11T20:46:29.664347Z"
    }
   },
   "outputs": [],
   "source": [
    "from lime.lime_tabular import LimeTabularExplainer\n",
    "\n",
    "## Create a lime explainer with X_shap_local with regression as the mode\n",
    "## Don't need to show it the model yet.\n",
    "lime_explainer = ##\n",
    "\n",
    "lime_explainer\n"
   ]
  },
  {
   "cell_type": "code",
   "execution_count": null,
   "id": "d5c39ccd",
   "metadata": {
    "ExecuteTime": {
     "end_time": "2023-07-11T20:46:29.996923Z",
     "start_time": "2023-07-11T20:46:29.765624Z"
    }
   },
   "outputs": [],
   "source": [
    "## Use the lime explainer to explain the selected example used above \n",
    "\n",
    "exp = ##\n",
    "exp.show_in_notebook()\n"
   ]
  },
  {
   "cell_type": "markdown",
   "id": "359d682d",
   "metadata": {},
   "source": [
    "___\n",
    "# APPENDIX"
   ]
  },
  {
   "cell_type": "markdown",
   "id": "5575346e",
   "metadata": {},
   "source": [
    "### Global Force Plots"
   ]
  },
  {
   "cell_type": "code",
   "execution_count": null,
   "id": "0c94b6fe",
   "metadata": {
    "ExecuteTime": {
     "end_time": "2023-07-11T20:46:30.324050Z",
     "start_time": "2023-07-11T20:46:29.998919Z"
    }
   },
   "outputs": [],
   "source": [
    "shap.force_plot(linreg_explainer.expected_value,linreg_shap_values.values,X_shap_local,)"
   ]
  },
  {
   "cell_type": "code",
   "execution_count": null,
   "id": "dfb88a7f",
   "metadata": {
    "ExecuteTime": {
     "end_time": "2023-07-11T20:50:10.875833Z",
     "start_time": "2023-07-11T20:50:10.200884Z"
    },
    "scrolled": false
   },
   "outputs": [],
   "source": [
    "shap.force_plot(rf_explainer.expected_value, rf_shap_values.values,X_shap_local)"
   ]
  },
  {
   "cell_type": "markdown",
   "id": "0652cd63",
   "metadata": {},
   "source": [
    "Try changing the X and Y axis features"
   ]
  },
  {
   "cell_type": "code",
   "execution_count": null,
   "id": "9d075a8e",
   "metadata": {},
   "outputs": [],
   "source": []
  }
 ],
 "metadata": {
  "kernelspec": {
   "display_name": "Python (dojo-env)",
   "language": "python",
   "name": "dojo-env"
  },
  "language_info": {
   "codemirror_mode": {
    "name": "ipython",
    "version": 3
   },
   "file_extension": ".py",
   "mimetype": "text/x-python",
   "name": "python",
   "nbconvert_exporter": "python",
   "pygments_lexer": "ipython3",
   "version": "3.9.15"
  },
  "toc": {
   "base_numbering": 1,
   "nav_menu": {},
   "number_sections": false,
   "sideBar": true,
   "skip_h1_title": false,
   "title_cell": "Table of Contents",
   "title_sidebar": "Contents",
   "toc_cell": false,
   "toc_position": {
    "height": "calc(100% - 180px)",
    "left": "10px",
    "top": "150px",
    "width": "247.997px"
   },
   "toc_section_display": true,
   "toc_window_display": false
  },
  "widgets": {
   "application/vnd.jupyter.widget-state+json": {
    "state": {},
    "version_major": 2,
    "version_minor": 0
   }
  }
 },
 "nbformat": 4,
 "nbformat_minor": 5
}
