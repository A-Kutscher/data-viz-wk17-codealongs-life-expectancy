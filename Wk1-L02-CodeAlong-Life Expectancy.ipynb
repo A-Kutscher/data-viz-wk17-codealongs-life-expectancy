{
 "cells": [
  {
   "cell_type": "markdown",
   "id": "0eba0efa",
   "metadata": {},
   "source": [
    "# Week 17, Lecture 02: CodeAlong\n"
   ]
  },
  {
   "cell_type": "markdown",
   "id": "d32c1b66",
   "metadata": {},
   "source": [
    "## **Part 2: Explaining Models with Model Explainers**"
   ]
  },
  {
   "cell_type": "markdown",
   "id": "0fc21da5",
   "metadata": {},
   "source": [
    "### Lesson Objectives"
   ]
  },
  {
   "cell_type": "markdown",
   "id": "23a92cad",
   "metadata": {},
   "source": [
    "- By the end of this lesson, students will be able to:\n",
    "    - Load variables and models from a joblib file into a new notebook.\n",
    "    - Apply permutation importance\n",
    "    - Apply shap analysis \n",
    "    - Visualize global and local explanations.\n"
   ]
  },
  {
   "cell_type": "markdown",
   "id": "dc5c874e",
   "metadata": {},
   "source": [
    "### Continuing with Life Expectancy Prediction"
   ]
  },
  {
   "cell_type": "markdown",
   "id": "031af932",
   "metadata": {},
   "source": [
    "> Task Inspired by: https://medium.com/@shanzehhaji/using-a-linear-regression-model-to-predict-life-expectancy-de3aef66ac21\n",
    "\n",
    "- Kaggle Dataset on Life Expectancy:\n",
    "    - https://www.kaggle.com/datasets/kumarajarshi/life-expectancy-who"
   ]
  },
  {
   "cell_type": "code",
   "execution_count": 1,
   "id": "94a13e42",
   "metadata": {
    "ExecuteTime": {
     "end_time": "2023-06-28T22:27:41.785718Z",
     "start_time": "2023-06-28T22:27:39.173199Z"
    }
   },
   "outputs": [],
   "source": [
    "## Our standard imports\n",
    "import pandas as pd\n",
    "import numpy as np\n",
    "import matplotlib.pyplot as plt\n",
    "import seaborn as sns\n",
    "import missingno as miss\n",
    "\n",
    "## Preprocessing tools\n",
    "from sklearn.model_selection import train_test_split\n",
    "from sklearn.compose import make_column_transformer, make_column_selector\n",
    "from sklearn.pipeline import make_pipeline\n",
    "from sklearn.preprocessing import OneHotEncoder, StandardScaler\n",
    "from sklearn.impute import SimpleImputer\n",
    "\n",
    "## Models & evaluation metrics\n",
    "from sklearn import metrics\n",
    "from sklearn.linear_model import LinearRegression\n",
    "from sklearn.tree import DecisionTreeRegressor\n",
    "from sklearn.ensemble import RandomForestRegressor\n",
    "\n",
    "\n",
    "## setting random state for reproducibility\n",
    "SEED = 321\n",
    "np.random.seed(SEED)\n",
    "## Matplotlib style\n",
    "fav_style = ('ggplot','tableau-colorblind10')\n",
    "fav_context  ={'context':'notebook', 'font_scale':1.1}\n",
    "plt.style.use(fav_style)\n",
    "sns.set_context(**fav_context)\n",
    "plt.rcParams['savefig.transparent'] = False\n",
    "plt.rcParams['savefig.bbox'] = 'tight'\n",
    "\n",
    "\n",
    "import joblib, os"
   ]
  },
  {
   "cell_type": "code",
   "execution_count": 2,
   "id": "d9919101",
   "metadata": {
    "ExecuteTime": {
     "end_time": "2023-06-28T22:27:42.410396Z",
     "start_time": "2023-06-28T22:27:41.787712Z"
    }
   },
   "outputs": [],
   "source": [
    "## Importing Custom Functions\n",
    "import sys,os\n",
    "# sys.path.append(os.path.abspath(\"../\"))\n",
    "%load_ext autoreload\n",
    "%autoreload 2\n",
    "from CODE import data_enrichment as de"
   ]
  },
  {
   "cell_type": "markdown",
   "id": "892ec81c",
   "metadata": {},
   "source": [
    "### Functionized Code From Part 1"
   ]
  },
  {
   "cell_type": "code",
   "execution_count": 3,
   "id": "5e3950a4",
   "metadata": {
    "ExecuteTime": {
     "end_time": "2023-06-28T22:27:42.552297Z",
     "start_time": "2023-06-28T22:27:42.411396Z"
    }
   },
   "outputs": [],
   "source": [
    "def evaluate_regression(model, X_train,y_train, X_test, y_test,for_slides=True): \n",
    "    \"\"\"Evaluates a scikit learn regression model using r-squared and RMSE\n",
    "    FOR SLIDES VERS DOES MULTIPLE PRINT STATEMENTS FOR VERTICAL DISPLAY OF INFO\"\"\"\n",
    "    \n",
    "    ## Training Data\n",
    "    y_pred_train = model.predict(X_train)\n",
    "    r2_train = metrics.r2_score(y_train, y_pred_train)\n",
    "    rmse_train = metrics.mean_squared_error(y_train, y_pred_train, \n",
    "                                            squared=False)\n",
    "    mae_train = metrics.mean_absolute_error(y_train, y_pred_train)\n",
    "    \n",
    "\n",
    "    ## Test Data\n",
    "    y_pred_test = model.predict(X_test)\n",
    "    r2_test = metrics.r2_score(y_test, y_pred_test)\n",
    "    rmse_test = metrics.mean_squared_error(y_test, y_pred_test, \n",
    "                                            squared=False)\n",
    "    mae_test = metrics.mean_absolute_error(y_test, y_pred_test)\n",
    "    \n",
    "    if for_slides:\n",
    "        df_version =[['Split','R^2','MAE','RMSE']]\n",
    "        df_version.append(['Train',r2_train, mae_train, rmse_train])\n",
    "        df_version.append(['Test',r2_test, mae_test, rmse_test])\n",
    "        df_results = pd.DataFrame(df_version[1:], columns=df_version[0])\n",
    "        df_results = df_results.round(2)\n",
    "        display(df_results.style.hide(axis='index').format(precision=2, thousands=','))\n",
    "        \n",
    "    else: \n",
    "        print(f\"Training Data:\\tR^2 = {r2_train:,.2f}\\tRMSE = {rmse_train:,.2f}\\tMAE = {mae_train:,.2f}\")\n",
    "        print(f\"Test Data:\\tR^2 = {r2_test:,.2f}\\tRMSE = {rmse_test:,.2f}\\tMAE = {mae_test:,.2f}\")\n",
    "\n",
    "def get_coefficients(lin_reg):\n",
    "    coeffs = pd.Series(lin_reg.coef_, index= lin_reg.feature_names_in_)\n",
    "    coeffs.loc['intercept'] = lin_reg.intercept_\n",
    "    return coeffs\n",
    "\n",
    "def plot_coefficients(coeffs, sort_values=True, top_n=None, figsize=(6,4),\n",
    "                     title=\"Linear Regression Coefficients\", xlabel='Coefficient'):\n",
    "    \"\"\"Plots a Series of coefficients as horizotal bar chart, with option to sort\n",
    "    and to only keep top_n coefficients\"\"\"\n",
    "        \n",
    "    if top_n is not None:\n",
    "        top_n = coeffs.abs().rank().sort_values(ascending=False).head(top_n)\n",
    "        coeffs = coeffs.loc[top_n.index]\n",
    "        \n",
    "    if sort_values:\n",
    "        coeffs = coeffs.sort_values()\n",
    "\n",
    "        \n",
    "        \n",
    "    ax = coeffs.plot(kind='barh', figsize=figsize)\n",
    "    ax.axvline(0, color='k')\n",
    "    ax.set(xlabel=xlabel, title=title);\n",
    "    plt.show()\n",
    "    return ax\n",
    "\n",
    "\n",
    "def get_importances(rf_reg):\n",
    "    importances = pd.Series(rf_reg.feature_importances_, index= rf_reg.feature_names_in_)\n",
    "    return importances\n",
    "\n",
    "\n",
    "def plot_importances(importances, sort_values=True, top_n=None, figsize=(6,4),\n",
    "                     title=\"Feature Importance\", xlabel='Importance'):\n",
    "    if sort_values:\n",
    "        importances = importances.sort_values()\n",
    "        \n",
    "    if top_n is not None:\n",
    "        importances = importances.tail(top_n)\n",
    "        \n",
    "        \n",
    "    ax = importances.plot(kind='barh', figsize=figsize)\n",
    "    ax.axvline(0, color='k')\n",
    "    ax.set(xlabel=xlabel, title=title);\n",
    "    plt.show()\n",
    "    return ax"
   ]
  },
  {
   "cell_type": "markdown",
   "id": "ace76747",
   "metadata": {},
   "source": [
    "##  🕹️ Loading Objects from a Joblib"
   ]
  },
  {
   "cell_type": "code",
   "execution_count": 4,
   "id": "82a652ab",
   "metadata": {
    "ExecuteTime": {
     "end_time": "2023-06-28T22:27:42.694240Z",
     "start_time": "2023-06-28T22:27:42.554294Z"
    }
   },
   "outputs": [
    {
     "data": {
      "text/plain": [
       "dict_keys(['X_train', 'y_train', 'X_test', 'y_test', 'preprocessor', 'LinearRegression', 'RandomForestRegressor'])"
      ]
     },
     "execution_count": 4,
     "metadata": {},
     "output_type": "execute_result"
    }
   ],
   "source": [
    "## Load the joblib file stored in the models folder\n",
    "fname = \"Models/wk1-lect01-codealong.joblib\"\n",
    "\n",
    "loaded = joblib.load(fname)\n",
    "# Preview the contents of the loaded joblib objects\n",
    "loaded.keys()"
   ]
  },
  {
   "cell_type": "code",
   "execution_count": 5,
   "id": "caff7e71",
   "metadata": {
    "ExecuteTime": {
     "end_time": "2023-06-28T22:27:42.801073Z",
     "start_time": "2023-06-28T22:27:42.695267Z"
    }
   },
   "outputs": [
    {
     "data": {
      "text/html": [
       "<div>\n",
       "<style scoped>\n",
       "    .dataframe tbody tr th:only-of-type {\n",
       "        vertical-align: middle;\n",
       "    }\n",
       "\n",
       "    .dataframe tbody tr th {\n",
       "        vertical-align: top;\n",
       "    }\n",
       "\n",
       "    .dataframe thead th {\n",
       "        text-align: right;\n",
       "    }\n",
       "</style>\n",
       "<table border=\"1\" class=\"dataframe\">\n",
       "  <thead>\n",
       "    <tr style=\"text-align: right;\">\n",
       "      <th></th>\n",
       "      <th>Year</th>\n",
       "      <th>Status</th>\n",
       "      <th>Adult Mortality</th>\n",
       "      <th>infant deaths</th>\n",
       "      <th>Alcohol</th>\n",
       "      <th>percentage expenditure</th>\n",
       "      <th>Hepatitis B</th>\n",
       "      <th>Measles</th>\n",
       "      <th>BMI</th>\n",
       "      <th>under-five deaths</th>\n",
       "      <th>Polio</th>\n",
       "      <th>Total expenditure</th>\n",
       "      <th>Diphtheria</th>\n",
       "      <th>HIV/AIDS</th>\n",
       "      <th>GDP</th>\n",
       "      <th>Population</th>\n",
       "      <th>thinness  1-19 years</th>\n",
       "      <th>thinness 5-9 years</th>\n",
       "      <th>Income composition of resources</th>\n",
       "      <th>Schooling</th>\n",
       "    </tr>\n",
       "  </thead>\n",
       "  <tbody>\n",
       "    <tr>\n",
       "      <th>2414</th>\n",
       "      <td>2010</td>\n",
       "      <td>Developing</td>\n",
       "      <td>359.0</td>\n",
       "      <td>27</td>\n",
       "      <td>NaN</td>\n",
       "      <td>0.000000</td>\n",
       "      <td>NaN</td>\n",
       "      <td>0</td>\n",
       "      <td>NaN</td>\n",
       "      <td>41</td>\n",
       "      <td>NaN</td>\n",
       "      <td>NaN</td>\n",
       "      <td>NaN</td>\n",
       "      <td>4.0</td>\n",
       "      <td>1562.239346</td>\n",
       "      <td>167192.0</td>\n",
       "      <td>NaN</td>\n",
       "      <td>NaN</td>\n",
       "      <td>0.000</td>\n",
       "      <td>0.0</td>\n",
       "    </tr>\n",
       "    <tr>\n",
       "      <th>1576</th>\n",
       "      <td>2009</td>\n",
       "      <td>Developing</td>\n",
       "      <td>491.0</td>\n",
       "      <td>36</td>\n",
       "      <td>1.16</td>\n",
       "      <td>7.915071</td>\n",
       "      <td>93.0</td>\n",
       "      <td>21</td>\n",
       "      <td>17.3</td>\n",
       "      <td>56</td>\n",
       "      <td>93.0</td>\n",
       "      <td>1.18</td>\n",
       "      <td>93.0</td>\n",
       "      <td>14.9</td>\n",
       "      <td>42.737966</td>\n",
       "      <td>1471462.0</td>\n",
       "      <td>6.9</td>\n",
       "      <td>6.8</td>\n",
       "      <td>0.415</td>\n",
       "      <td>9.9</td>\n",
       "    </tr>\n",
       "    <tr>\n",
       "      <th>2559</th>\n",
       "      <td>2009</td>\n",
       "      <td>Developing</td>\n",
       "      <td>174.0</td>\n",
       "      <td>10</td>\n",
       "      <td>0.30</td>\n",
       "      <td>35.716138</td>\n",
       "      <td>93.0</td>\n",
       "      <td>0</td>\n",
       "      <td>35.9</td>\n",
       "      <td>12</td>\n",
       "      <td>93.0</td>\n",
       "      <td>5.93</td>\n",
       "      <td>93.0</td>\n",
       "      <td>0.2</td>\n",
       "      <td>666.345857</td>\n",
       "      <td>7472819.0</td>\n",
       "      <td>3.7</td>\n",
       "      <td>3.8</td>\n",
       "      <td>0.601</td>\n",
       "      <td>11.1</td>\n",
       "    </tr>\n",
       "    <tr>\n",
       "      <th>1524</th>\n",
       "      <td>2013</td>\n",
       "      <td>Developed</td>\n",
       "      <td>178.0</td>\n",
       "      <td>0</td>\n",
       "      <td>15.04</td>\n",
       "      <td>1968.816817</td>\n",
       "      <td>93.0</td>\n",
       "      <td>35</td>\n",
       "      <td>61.4</td>\n",
       "      <td>0</td>\n",
       "      <td>93.0</td>\n",
       "      <td>6.59</td>\n",
       "      <td>93.0</td>\n",
       "      <td>0.1</td>\n",
       "      <td>15712.823760</td>\n",
       "      <td>2957689.0</td>\n",
       "      <td>2.7</td>\n",
       "      <td>2.7</td>\n",
       "      <td>0.834</td>\n",
       "      <td>16.4</td>\n",
       "    </tr>\n",
       "    <tr>\n",
       "      <th>33</th>\n",
       "      <td>2014</td>\n",
       "      <td>Developing</td>\n",
       "      <td>11.0</td>\n",
       "      <td>21</td>\n",
       "      <td>0.01</td>\n",
       "      <td>54.237318</td>\n",
       "      <td>95.0</td>\n",
       "      <td>0</td>\n",
       "      <td>58.4</td>\n",
       "      <td>24</td>\n",
       "      <td>95.0</td>\n",
       "      <td>7.21</td>\n",
       "      <td>95.0</td>\n",
       "      <td>0.1</td>\n",
       "      <td>547.851700</td>\n",
       "      <td>39113313.0</td>\n",
       "      <td>6.0</td>\n",
       "      <td>5.8</td>\n",
       "      <td>0.741</td>\n",
       "      <td>14.4</td>\n",
       "    </tr>\n",
       "  </tbody>\n",
       "</table>\n",
       "</div>"
      ],
      "text/plain": [
       "      Year      Status  Adult Mortality  infant deaths  Alcohol  \\\n",
       "2414  2010  Developing            359.0             27      NaN   \n",
       "1576  2009  Developing            491.0             36     1.16   \n",
       "2559  2009  Developing            174.0             10     0.30   \n",
       "1524  2013   Developed            178.0              0    15.04   \n",
       "33    2014  Developing             11.0             21     0.01   \n",
       "\n",
       "      percentage expenditure  Hepatitis B  Measles   BMI  under-five deaths  \\\n",
       "2414                0.000000          NaN        0   NaN                 41   \n",
       "1576                7.915071         93.0       21  17.3                 56   \n",
       "2559               35.716138         93.0        0  35.9                 12   \n",
       "1524             1968.816817         93.0       35  61.4                  0   \n",
       "33                 54.237318         95.0        0  58.4                 24   \n",
       "\n",
       "      Polio  Total expenditure  Diphtheria  HIV/AIDS           GDP  \\\n",
       "2414    NaN                NaN         NaN       4.0   1562.239346   \n",
       "1576   93.0               1.18        93.0      14.9     42.737966   \n",
       "2559   93.0               5.93        93.0       0.2    666.345857   \n",
       "1524   93.0               6.59        93.0       0.1  15712.823760   \n",
       "33     95.0               7.21        95.0       0.1    547.851700   \n",
       "\n",
       "      Population  thinness  1-19 years  thinness 5-9 years  \\\n",
       "2414    167192.0                   NaN                 NaN   \n",
       "1576   1471462.0                   6.9                 6.8   \n",
       "2559   7472819.0                   3.7                 3.8   \n",
       "1524   2957689.0                   2.7                 2.7   \n",
       "33    39113313.0                   6.0                 5.8   \n",
       "\n",
       "      Income composition of resources  Schooling  \n",
       "2414                            0.000        0.0  \n",
       "1576                            0.415        9.9  \n",
       "2559                            0.601       11.1  \n",
       "1524                            0.834       16.4  \n",
       "33                              0.741       14.4  "
      ]
     },
     "execution_count": 5,
     "metadata": {},
     "output_type": "execute_result"
    }
   ],
   "source": [
    "## Saving the loaded objects as separate varaibles\n",
    "\n",
    "## Saving the loaded objects as separate varaibles\n",
    "\n",
    "X_train = loaded['X_train']\n",
    "X_test = loaded['X_test']\n",
    "y_train = loaded['y_train']\n",
    "y_test = loaded['y_test']\n",
    "\n",
    "preprocessor = loaded['preprocessor']\n",
    "lin_reg_final = loaded['LinearRegression']\n",
    "rf_reg = loaded['RandomForestRegressor']\n",
    "\n",
    "X_train.head()"
   ]
  },
  {
   "cell_type": "markdown",
   "id": "f7f846f6",
   "metadata": {},
   "source": [
    "> Let's evaluate our models to prove they saved correctly."
   ]
  },
  {
   "cell_type": "code",
   "execution_count": 6,
   "id": "3fd0c9ac",
   "metadata": {
    "ExecuteTime": {
     "end_time": "2023-06-28T22:27:43.317075Z",
     "start_time": "2023-06-28T22:27:42.801992Z"
    }
   },
   "outputs": [
    {
     "name": "stderr",
     "output_type": "stream",
     "text": [
      "C:\\Users\\caell\\anaconda3\\envs\\dojo-env\\lib\\site-packages\\sklearn\\base.py:493: FutureWarning: The feature names should match those that were passed during fit. Starting version 1.2, an error will be raised.\n",
      "Feature names unseen at fit time:\n",
      "- Status\n",
      "Feature names seen at fit time, yet now missing:\n",
      "- Status_Developing\n",
      "\n",
      "  warnings.warn(message, FutureWarning)\n"
     ]
    },
    {
     "ename": "ValueError",
     "evalue": "could not convert string to float: 'Developing'",
     "output_type": "error",
     "traceback": [
      "\u001b[1;31m---------------------------------------------------------------------------\u001b[0m",
      "\u001b[1;31mValueError\u001b[0m                                Traceback (most recent call last)",
      "\u001b[1;32m~\\AppData\\Local\\Temp\\ipykernel_23220\\2212547628.py\u001b[0m in \u001b[0;36m?\u001b[1;34m()\u001b[0m\n\u001b[1;32m----> 3\u001b[1;33m \u001b[1;31m## Use our evaluate_regression function to evalaute the linear regression\u001b[0m\u001b[1;33m\u001b[0m\u001b[1;33m\u001b[0m\u001b[0m\n\u001b[0m\u001b[0;32m      4\u001b[0m \u001b[1;33m\u001b[0m\u001b[0m\n\u001b[0;32m      5\u001b[0m \u001b[0mevaluate_regression\u001b[0m\u001b[1;33m(\u001b[0m\u001b[0mlin_reg_final\u001b[0m\u001b[1;33m,\u001b[0m\u001b[0mX_train\u001b[0m\u001b[1;33m,\u001b[0m\u001b[0my_train\u001b[0m\u001b[1;33m,\u001b[0m \u001b[0mX_test\u001b[0m\u001b[1;33m,\u001b[0m \u001b[0my_test\u001b[0m\u001b[1;33m)\u001b[0m\u001b[1;33m\u001b[0m\u001b[1;33m\u001b[0m\u001b[0m\n",
      "\u001b[1;32m~\\AppData\\Local\\Temp\\ipykernel_23220\\3403713453.py\u001b[0m in \u001b[0;36m?\u001b[1;34m(model, X_train, y_train, X_test, y_test, for_slides)\u001b[0m\n\u001b[0;32m      2\u001b[0m     \"\"\"Evaluates a scikit learn regression model using r-squared and RMSE\n\u001b[0;32m      3\u001b[0m     FOR SLIDES VERS DOES MULTIPLE PRINT STATEMENTS FOR VERTICAL DISPLAY OF INFO\"\"\"\n\u001b[0;32m      4\u001b[0m \u001b[1;33m\u001b[0m\u001b[0m\n\u001b[0;32m      5\u001b[0m     \u001b[1;31m## Training Data\u001b[0m\u001b[1;33m\u001b[0m\u001b[1;33m\u001b[0m\u001b[0m\n\u001b[1;32m----> 6\u001b[1;33m     \u001b[0my_pred_train\u001b[0m \u001b[1;33m=\u001b[0m \u001b[0mmodel\u001b[0m\u001b[1;33m.\u001b[0m\u001b[0mpredict\u001b[0m\u001b[1;33m(\u001b[0m\u001b[0mX_train\u001b[0m\u001b[1;33m)\u001b[0m\u001b[1;33m\u001b[0m\u001b[1;33m\u001b[0m\u001b[0m\n\u001b[0m\u001b[0;32m      7\u001b[0m     \u001b[0mr2_train\u001b[0m \u001b[1;33m=\u001b[0m \u001b[0mmetrics\u001b[0m\u001b[1;33m.\u001b[0m\u001b[0mr2_score\u001b[0m\u001b[1;33m(\u001b[0m\u001b[0my_train\u001b[0m\u001b[1;33m,\u001b[0m \u001b[0my_pred_train\u001b[0m\u001b[1;33m)\u001b[0m\u001b[1;33m\u001b[0m\u001b[1;33m\u001b[0m\u001b[0m\n\u001b[0;32m      8\u001b[0m     rmse_train = metrics.mean_squared_error(y_train, y_pred_train, \n\u001b[0;32m      9\u001b[0m                                             squared=False)\n",
      "\u001b[1;32m~\\anaconda3\\envs\\dojo-env\\lib\\site-packages\\sklearn\\linear_model\\_base.py\u001b[0m in \u001b[0;36m?\u001b[1;34m(self, X)\u001b[0m\n\u001b[0;32m    382\u001b[0m         \u001b[1;33m-\u001b[0m\u001b[1;33m-\u001b[0m\u001b[1;33m-\u001b[0m\u001b[1;33m-\u001b[0m\u001b[1;33m-\u001b[0m\u001b[1;33m-\u001b[0m\u001b[1;33m-\u001b[0m\u001b[1;33m\u001b[0m\u001b[1;33m\u001b[0m\u001b[0m\n\u001b[0;32m    383\u001b[0m         \u001b[0mC\u001b[0m \u001b[1;33m:\u001b[0m \u001b[0marray\u001b[0m\u001b[1;33m,\u001b[0m \u001b[0mshape\u001b[0m \u001b[1;33m(\u001b[0m\u001b[0mn_samples\u001b[0m\u001b[1;33m,\u001b[0m\u001b[1;33m)\u001b[0m\u001b[1;33m\u001b[0m\u001b[1;33m\u001b[0m\u001b[0m\n\u001b[0;32m    384\u001b[0m             \u001b[0mReturns\u001b[0m \u001b[0mpredicted\u001b[0m \u001b[0mvalues\u001b[0m\u001b[1;33m.\u001b[0m\u001b[1;33m\u001b[0m\u001b[1;33m\u001b[0m\u001b[0m\n\u001b[0;32m    385\u001b[0m         \"\"\"\n\u001b[1;32m--> 386\u001b[1;33m         \u001b[1;32mreturn\u001b[0m \u001b[0mself\u001b[0m\u001b[1;33m.\u001b[0m\u001b[0m_decision_function\u001b[0m\u001b[1;33m(\u001b[0m\u001b[0mX\u001b[0m\u001b[1;33m)\u001b[0m\u001b[1;33m\u001b[0m\u001b[1;33m\u001b[0m\u001b[0m\n\u001b[0m",
      "\u001b[1;32m~\\anaconda3\\envs\\dojo-env\\lib\\site-packages\\sklearn\\linear_model\\_base.py\u001b[0m in \u001b[0;36m?\u001b[1;34m(self, X)\u001b[0m\n\u001b[0;32m    366\u001b[0m     \u001b[1;32mdef\u001b[0m \u001b[0m_decision_function\u001b[0m\u001b[1;33m(\u001b[0m\u001b[0mself\u001b[0m\u001b[1;33m,\u001b[0m \u001b[0mX\u001b[0m\u001b[1;33m)\u001b[0m\u001b[1;33m:\u001b[0m\u001b[1;33m\u001b[0m\u001b[1;33m\u001b[0m\u001b[0m\n\u001b[0;32m    367\u001b[0m         \u001b[0mcheck_is_fitted\u001b[0m\u001b[1;33m(\u001b[0m\u001b[0mself\u001b[0m\u001b[1;33m)\u001b[0m\u001b[1;33m\u001b[0m\u001b[1;33m\u001b[0m\u001b[0m\n\u001b[0;32m    368\u001b[0m \u001b[1;33m\u001b[0m\u001b[0m\n\u001b[1;32m--> 369\u001b[1;33m         \u001b[0mX\u001b[0m \u001b[1;33m=\u001b[0m \u001b[0mself\u001b[0m\u001b[1;33m.\u001b[0m\u001b[0m_validate_data\u001b[0m\u001b[1;33m(\u001b[0m\u001b[0mX\u001b[0m\u001b[1;33m,\u001b[0m \u001b[0maccept_sparse\u001b[0m\u001b[1;33m=\u001b[0m\u001b[1;33m[\u001b[0m\u001b[1;34m\"csr\"\u001b[0m\u001b[1;33m,\u001b[0m \u001b[1;34m\"csc\"\u001b[0m\u001b[1;33m,\u001b[0m \u001b[1;34m\"coo\"\u001b[0m\u001b[1;33m]\u001b[0m\u001b[1;33m,\u001b[0m \u001b[0mreset\u001b[0m\u001b[1;33m=\u001b[0m\u001b[1;32mFalse\u001b[0m\u001b[1;33m)\u001b[0m\u001b[1;33m\u001b[0m\u001b[1;33m\u001b[0m\u001b[0m\n\u001b[0m\u001b[0;32m    370\u001b[0m         \u001b[1;32mreturn\u001b[0m \u001b[0msafe_sparse_dot\u001b[0m\u001b[1;33m(\u001b[0m\u001b[0mX\u001b[0m\u001b[1;33m,\u001b[0m \u001b[0mself\u001b[0m\u001b[1;33m.\u001b[0m\u001b[0mcoef_\u001b[0m\u001b[1;33m.\u001b[0m\u001b[0mT\u001b[0m\u001b[1;33m,\u001b[0m \u001b[0mdense_output\u001b[0m\u001b[1;33m=\u001b[0m\u001b[1;32mTrue\u001b[0m\u001b[1;33m)\u001b[0m \u001b[1;33m+\u001b[0m \u001b[0mself\u001b[0m\u001b[1;33m.\u001b[0m\u001b[0mintercept_\u001b[0m\u001b[1;33m\u001b[0m\u001b[1;33m\u001b[0m\u001b[0m\n",
      "\u001b[1;32m~\\anaconda3\\envs\\dojo-env\\lib\\site-packages\\sklearn\\base.py\u001b[0m in \u001b[0;36m?\u001b[1;34m(self, X, y, reset, validate_separately, **check_params)\u001b[0m\n\u001b[0;32m    573\u001b[0m \u001b[1;33m\u001b[0m\u001b[0m\n\u001b[0;32m    574\u001b[0m         \u001b[1;32mif\u001b[0m \u001b[0mno_val_X\u001b[0m \u001b[1;32mand\u001b[0m \u001b[0mno_val_y\u001b[0m\u001b[1;33m:\u001b[0m\u001b[1;33m\u001b[0m\u001b[1;33m\u001b[0m\u001b[0m\n\u001b[0;32m    575\u001b[0m             \u001b[1;32mraise\u001b[0m \u001b[0mValueError\u001b[0m\u001b[1;33m(\u001b[0m\u001b[1;34m\"Validation should be done on X, y or both.\"\u001b[0m\u001b[1;33m)\u001b[0m\u001b[1;33m\u001b[0m\u001b[1;33m\u001b[0m\u001b[0m\n\u001b[0;32m    576\u001b[0m         \u001b[1;32melif\u001b[0m \u001b[1;32mnot\u001b[0m \u001b[0mno_val_X\u001b[0m \u001b[1;32mand\u001b[0m \u001b[0mno_val_y\u001b[0m\u001b[1;33m:\u001b[0m\u001b[1;33m\u001b[0m\u001b[1;33m\u001b[0m\u001b[0m\n\u001b[1;32m--> 577\u001b[1;33m             \u001b[0mX\u001b[0m \u001b[1;33m=\u001b[0m \u001b[0mcheck_array\u001b[0m\u001b[1;33m(\u001b[0m\u001b[0mX\u001b[0m\u001b[1;33m,\u001b[0m \u001b[0minput_name\u001b[0m\u001b[1;33m=\u001b[0m\u001b[1;34m\"X\"\u001b[0m\u001b[1;33m,\u001b[0m \u001b[1;33m**\u001b[0m\u001b[0mcheck_params\u001b[0m\u001b[1;33m)\u001b[0m\u001b[1;33m\u001b[0m\u001b[1;33m\u001b[0m\u001b[0m\n\u001b[0m\u001b[0;32m    578\u001b[0m             \u001b[0mout\u001b[0m \u001b[1;33m=\u001b[0m \u001b[0mX\u001b[0m\u001b[1;33m\u001b[0m\u001b[1;33m\u001b[0m\u001b[0m\n\u001b[0;32m    579\u001b[0m         \u001b[1;32melif\u001b[0m \u001b[0mno_val_X\u001b[0m \u001b[1;32mand\u001b[0m \u001b[1;32mnot\u001b[0m \u001b[0mno_val_y\u001b[0m\u001b[1;33m:\u001b[0m\u001b[1;33m\u001b[0m\u001b[1;33m\u001b[0m\u001b[0m\n\u001b[0;32m    580\u001b[0m             \u001b[0my\u001b[0m \u001b[1;33m=\u001b[0m \u001b[0m_check_y\u001b[0m\u001b[1;33m(\u001b[0m\u001b[0my\u001b[0m\u001b[1;33m,\u001b[0m \u001b[1;33m**\u001b[0m\u001b[0mcheck_params\u001b[0m\u001b[1;33m)\u001b[0m\u001b[1;33m\u001b[0m\u001b[1;33m\u001b[0m\u001b[0m\n",
      "\u001b[1;32m~\\anaconda3\\envs\\dojo-env\\lib\\site-packages\\sklearn\\utils\\validation.py\u001b[0m in \u001b[0;36m?\u001b[1;34m(array, accept_sparse, accept_large_sparse, dtype, order, copy, force_all_finite, ensure_2d, allow_nd, ensure_min_samples, ensure_min_features, estimator, input_name)\u001b[0m\n\u001b[0;32m    854\u001b[0m                     \u001b[0marray\u001b[0m \u001b[1;33m=\u001b[0m \u001b[0marray\u001b[0m\u001b[1;33m.\u001b[0m\u001b[0mastype\u001b[0m\u001b[1;33m(\u001b[0m\u001b[0mdtype\u001b[0m\u001b[1;33m,\u001b[0m \u001b[0mcasting\u001b[0m\u001b[1;33m=\u001b[0m\u001b[1;34m\"unsafe\"\u001b[0m\u001b[1;33m,\u001b[0m \u001b[0mcopy\u001b[0m\u001b[1;33m=\u001b[0m\u001b[1;32mFalse\u001b[0m\u001b[1;33m)\u001b[0m\u001b[1;33m\u001b[0m\u001b[1;33m\u001b[0m\u001b[0m\n\u001b[0;32m    855\u001b[0m                 \u001b[1;32melse\u001b[0m\u001b[1;33m:\u001b[0m\u001b[1;33m\u001b[0m\u001b[1;33m\u001b[0m\u001b[0m\n\u001b[0;32m    856\u001b[0m                     \u001b[0marray\u001b[0m \u001b[1;33m=\u001b[0m \u001b[0mnp\u001b[0m\u001b[1;33m.\u001b[0m\u001b[0masarray\u001b[0m\u001b[1;33m(\u001b[0m\u001b[0marray\u001b[0m\u001b[1;33m,\u001b[0m \u001b[0morder\u001b[0m\u001b[1;33m=\u001b[0m\u001b[0morder\u001b[0m\u001b[1;33m,\u001b[0m \u001b[0mdtype\u001b[0m\u001b[1;33m=\u001b[0m\u001b[0mdtype\u001b[0m\u001b[1;33m)\u001b[0m\u001b[1;33m\u001b[0m\u001b[1;33m\u001b[0m\u001b[0m\n\u001b[0;32m    857\u001b[0m             \u001b[1;32mexcept\u001b[0m \u001b[0mComplexWarning\u001b[0m \u001b[1;32mas\u001b[0m \u001b[0mcomplex_warning\u001b[0m\u001b[1;33m:\u001b[0m\u001b[1;33m\u001b[0m\u001b[1;33m\u001b[0m\u001b[0m\n\u001b[1;32m--> 858\u001b[1;33m                 raise ValueError(\n\u001b[0m\u001b[0;32m    859\u001b[0m                     \u001b[1;34m\"Complex data not supported\\n{}\\n\"\u001b[0m\u001b[1;33m.\u001b[0m\u001b[0mformat\u001b[0m\u001b[1;33m(\u001b[0m\u001b[0marray\u001b[0m\u001b[1;33m)\u001b[0m\u001b[1;33m\u001b[0m\u001b[1;33m\u001b[0m\u001b[0m\n\u001b[0;32m    860\u001b[0m                 ) from complex_warning\n\u001b[0;32m    861\u001b[0m \u001b[1;33m\u001b[0m\u001b[0m\n",
      "\u001b[1;32m~\\anaconda3\\envs\\dojo-env\\lib\\site-packages\\pandas\\core\\generic.py\u001b[0m in \u001b[0;36m?\u001b[1;34m(self, dtype)\u001b[0m\n\u001b[0;32m   2069\u001b[0m     \u001b[1;32mdef\u001b[0m \u001b[0m__array__\u001b[0m\u001b[1;33m(\u001b[0m\u001b[0mself\u001b[0m\u001b[1;33m,\u001b[0m \u001b[0mdtype\u001b[0m\u001b[1;33m:\u001b[0m \u001b[0mnpt\u001b[0m\u001b[1;33m.\u001b[0m\u001b[0mDTypeLike\u001b[0m \u001b[1;33m|\u001b[0m \u001b[1;32mNone\u001b[0m \u001b[1;33m=\u001b[0m \u001b[1;32mNone\u001b[0m\u001b[1;33m)\u001b[0m \u001b[1;33m->\u001b[0m \u001b[0mnp\u001b[0m\u001b[1;33m.\u001b[0m\u001b[0mndarray\u001b[0m\u001b[1;33m:\u001b[0m\u001b[1;33m\u001b[0m\u001b[1;33m\u001b[0m\u001b[0m\n\u001b[1;32m-> 2070\u001b[1;33m         \u001b[1;32mreturn\u001b[0m \u001b[0mnp\u001b[0m\u001b[1;33m.\u001b[0m\u001b[0masarray\u001b[0m\u001b[1;33m(\u001b[0m\u001b[0mself\u001b[0m\u001b[1;33m.\u001b[0m\u001b[0m_values\u001b[0m\u001b[1;33m,\u001b[0m \u001b[0mdtype\u001b[0m\u001b[1;33m=\u001b[0m\u001b[0mdtype\u001b[0m\u001b[1;33m)\u001b[0m\u001b[1;33m\u001b[0m\u001b[1;33m\u001b[0m\u001b[0m\n\u001b[0m",
      "\u001b[1;31mValueError\u001b[0m: could not convert string to float: 'Developing'"
     ]
    }
   ],
   "source": [
    "## Use our evaluate_regression function to evalaute the linear regression\n",
    "\n",
    "evaluate_regression(lin_reg_final,X_train,y_train, X_test, y_test)"
   ]
  },
  {
   "cell_type": "markdown",
   "id": "5224fbba",
   "metadata": {},
   "source": [
    "> ***Q: What is my error?***"
   ]
  },
  {
   "cell_type": "markdown",
   "id": "e4a2a943",
   "metadata": {},
   "source": [
    "### Re-Creating X_train_df & X_test_df"
   ]
  },
  {
   "cell_type": "code",
   "execution_count": 7,
   "id": "cbade8af",
   "metadata": {
    "ExecuteTime": {
     "end_time": "2023-06-28T22:28:18.280647Z",
     "start_time": "2023-06-28T22:28:18.172048Z"
    }
   },
   "outputs": [
    {
     "data": {
      "text/html": [
       "<div>\n",
       "<style scoped>\n",
       "    .dataframe tbody tr th:only-of-type {\n",
       "        vertical-align: middle;\n",
       "    }\n",
       "\n",
       "    .dataframe tbody tr th {\n",
       "        vertical-align: top;\n",
       "    }\n",
       "\n",
       "    .dataframe thead th {\n",
       "        text-align: right;\n",
       "    }\n",
       "</style>\n",
       "<table border=\"1\" class=\"dataframe\">\n",
       "  <thead>\n",
       "    <tr style=\"text-align: right;\">\n",
       "      <th></th>\n",
       "      <th>Year</th>\n",
       "      <th>Adult Mortality</th>\n",
       "      <th>infant deaths</th>\n",
       "      <th>Alcohol</th>\n",
       "      <th>percentage expenditure</th>\n",
       "      <th>Hepatitis B</th>\n",
       "      <th>Measles</th>\n",
       "      <th>BMI</th>\n",
       "      <th>under-five deaths</th>\n",
       "      <th>Polio</th>\n",
       "      <th>Total expenditure</th>\n",
       "      <th>Diphtheria</th>\n",
       "      <th>HIV/AIDS</th>\n",
       "      <th>GDP</th>\n",
       "      <th>Population</th>\n",
       "      <th>thinness  1-19 years</th>\n",
       "      <th>thinness 5-9 years</th>\n",
       "      <th>Income composition of resources</th>\n",
       "      <th>Schooling</th>\n",
       "      <th>Status_Developing</th>\n",
       "    </tr>\n",
       "  </thead>\n",
       "  <tbody>\n",
       "    <tr>\n",
       "      <th>2414</th>\n",
       "      <td>2010.0</td>\n",
       "      <td>359.0</td>\n",
       "      <td>27.0</td>\n",
       "      <td>4.580078</td>\n",
       "      <td>0.000000</td>\n",
       "      <td>81.438929</td>\n",
       "      <td>0.0</td>\n",
       "      <td>38.113041</td>\n",
       "      <td>41.0</td>\n",
       "      <td>82.490834</td>\n",
       "      <td>5.931982</td>\n",
       "      <td>82.451879</td>\n",
       "      <td>4.0</td>\n",
       "      <td>1562.239346</td>\n",
       "      <td>167192.0</td>\n",
       "      <td>4.811567</td>\n",
       "      <td>4.819493</td>\n",
       "      <td>0.000</td>\n",
       "      <td>0.0</td>\n",
       "      <td>1.0</td>\n",
       "    </tr>\n",
       "    <tr>\n",
       "      <th>1576</th>\n",
       "      <td>2009.0</td>\n",
       "      <td>491.0</td>\n",
       "      <td>36.0</td>\n",
       "      <td>1.160000</td>\n",
       "      <td>7.915071</td>\n",
       "      <td>93.000000</td>\n",
       "      <td>21.0</td>\n",
       "      <td>17.300000</td>\n",
       "      <td>56.0</td>\n",
       "      <td>93.000000</td>\n",
       "      <td>1.180000</td>\n",
       "      <td>93.000000</td>\n",
       "      <td>14.9</td>\n",
       "      <td>42.737966</td>\n",
       "      <td>1471462.0</td>\n",
       "      <td>6.900000</td>\n",
       "      <td>6.800000</td>\n",
       "      <td>0.415</td>\n",
       "      <td>9.9</td>\n",
       "      <td>1.0</td>\n",
       "    </tr>\n",
       "    <tr>\n",
       "      <th>2559</th>\n",
       "      <td>2009.0</td>\n",
       "      <td>174.0</td>\n",
       "      <td>10.0</td>\n",
       "      <td>0.300000</td>\n",
       "      <td>35.716138</td>\n",
       "      <td>93.000000</td>\n",
       "      <td>0.0</td>\n",
       "      <td>35.900000</td>\n",
       "      <td>12.0</td>\n",
       "      <td>93.000000</td>\n",
       "      <td>5.930000</td>\n",
       "      <td>93.000000</td>\n",
       "      <td>0.2</td>\n",
       "      <td>666.345857</td>\n",
       "      <td>7472819.0</td>\n",
       "      <td>3.700000</td>\n",
       "      <td>3.800000</td>\n",
       "      <td>0.601</td>\n",
       "      <td>11.1</td>\n",
       "      <td>1.0</td>\n",
       "    </tr>\n",
       "    <tr>\n",
       "      <th>1524</th>\n",
       "      <td>2013.0</td>\n",
       "      <td>178.0</td>\n",
       "      <td>0.0</td>\n",
       "      <td>15.040000</td>\n",
       "      <td>1968.816817</td>\n",
       "      <td>93.000000</td>\n",
       "      <td>35.0</td>\n",
       "      <td>61.400000</td>\n",
       "      <td>0.0</td>\n",
       "      <td>93.000000</td>\n",
       "      <td>6.590000</td>\n",
       "      <td>93.000000</td>\n",
       "      <td>0.1</td>\n",
       "      <td>15712.823760</td>\n",
       "      <td>2957689.0</td>\n",
       "      <td>2.700000</td>\n",
       "      <td>2.700000</td>\n",
       "      <td>0.834</td>\n",
       "      <td>16.4</td>\n",
       "      <td>0.0</td>\n",
       "    </tr>\n",
       "    <tr>\n",
       "      <th>33</th>\n",
       "      <td>2014.0</td>\n",
       "      <td>11.0</td>\n",
       "      <td>21.0</td>\n",
       "      <td>0.010000</td>\n",
       "      <td>54.237318</td>\n",
       "      <td>95.000000</td>\n",
       "      <td>0.0</td>\n",
       "      <td>58.400000</td>\n",
       "      <td>24.0</td>\n",
       "      <td>95.000000</td>\n",
       "      <td>7.210000</td>\n",
       "      <td>95.000000</td>\n",
       "      <td>0.1</td>\n",
       "      <td>547.851700</td>\n",
       "      <td>39113313.0</td>\n",
       "      <td>6.000000</td>\n",
       "      <td>5.800000</td>\n",
       "      <td>0.741</td>\n",
       "      <td>14.4</td>\n",
       "      <td>1.0</td>\n",
       "    </tr>\n",
       "  </tbody>\n",
       "</table>\n",
       "</div>"
      ],
      "text/plain": [
       "        Year  Adult Mortality  infant deaths    Alcohol  \\\n",
       "2414  2010.0            359.0           27.0   4.580078   \n",
       "1576  2009.0            491.0           36.0   1.160000   \n",
       "2559  2009.0            174.0           10.0   0.300000   \n",
       "1524  2013.0            178.0            0.0  15.040000   \n",
       "33    2014.0             11.0           21.0   0.010000   \n",
       "\n",
       "      percentage expenditure  Hepatitis B  Measles        BMI  \\\n",
       "2414                0.000000    81.438929      0.0  38.113041   \n",
       "1576                7.915071    93.000000     21.0  17.300000   \n",
       "2559               35.716138    93.000000      0.0  35.900000   \n",
       "1524             1968.816817    93.000000     35.0  61.400000   \n",
       "33                 54.237318    95.000000      0.0  58.400000   \n",
       "\n",
       "      under-five deaths      Polio  Total expenditure  Diphtheria  HIV/AIDS  \\\n",
       "2414               41.0  82.490834           5.931982   82.451879       4.0   \n",
       "1576               56.0  93.000000           1.180000   93.000000      14.9   \n",
       "2559               12.0  93.000000           5.930000   93.000000       0.2   \n",
       "1524                0.0  93.000000           6.590000   93.000000       0.1   \n",
       "33                 24.0  95.000000           7.210000   95.000000       0.1   \n",
       "\n",
       "               GDP  Population  thinness  1-19 years  thinness 5-9 years  \\\n",
       "2414   1562.239346    167192.0              4.811567            4.819493   \n",
       "1576     42.737966   1471462.0              6.900000            6.800000   \n",
       "2559    666.345857   7472819.0              3.700000            3.800000   \n",
       "1524  15712.823760   2957689.0              2.700000            2.700000   \n",
       "33      547.851700  39113313.0              6.000000            5.800000   \n",
       "\n",
       "      Income composition of resources  Schooling  Status_Developing  \n",
       "2414                            0.000        0.0                1.0  \n",
       "1576                            0.415        9.9                1.0  \n",
       "2559                            0.601       11.1                1.0  \n",
       "1524                            0.834       16.4                0.0  \n",
       "33                              0.741       14.4                1.0  "
      ]
     },
     "execution_count": 7,
     "metadata": {},
     "output_type": "execute_result"
    }
   ],
   "source": [
    "## Get feature names from already-fit preprocessor\n",
    "\n",
    "feature_names = preprocessor.get_feature_names_out()\n",
    "\n",
    "## Use the preprocessor to transform X_train into X_train_df\n",
    "X_train_df = pd.DataFrame(preprocessor.transform(X_train),\n",
    "                          index=X_train.index,\n",
    "                          columns=feature_names)\n",
    "\n",
    "\n",
    "## Use the preprocessor to transform X_test into X_test_df \n",
    "\n",
    "X_test_df = pd.DataFrame(preprocessor.transform(X_test),\n",
    "                         index=X_test.index,\n",
    "                          columns=feature_names)\n",
    "X_train_df.head()\n"
   ]
  },
  {
   "cell_type": "markdown",
   "id": "967787a6",
   "metadata": {},
   "source": [
    "### Evaluating Our LinearRegression"
   ]
  },
  {
   "cell_type": "code",
   "execution_count": 8,
   "id": "97280615",
   "metadata": {
    "ExecuteTime": {
     "end_time": "2023-06-28T22:28:18.471200Z",
     "start_time": "2023-06-28T22:28:18.282614Z"
    }
   },
   "outputs": [
    {
     "data": {
      "text/html": [
       "<style type=\"text/css\">\n",
       "</style>\n",
       "<table id=\"T_5c3f3\">\n",
       "  <thead>\n",
       "    <tr>\n",
       "      <th id=\"T_5c3f3_level0_col0\" class=\"col_heading level0 col0\" >Split</th>\n",
       "      <th id=\"T_5c3f3_level0_col1\" class=\"col_heading level0 col1\" >R^2</th>\n",
       "      <th id=\"T_5c3f3_level0_col2\" class=\"col_heading level0 col2\" >MAE</th>\n",
       "      <th id=\"T_5c3f3_level0_col3\" class=\"col_heading level0 col3\" >RMSE</th>\n",
       "    </tr>\n",
       "  </thead>\n",
       "  <tbody>\n",
       "    <tr>\n",
       "      <td id=\"T_5c3f3_row0_col0\" class=\"data row0 col0\" >Train</td>\n",
       "      <td id=\"T_5c3f3_row0_col1\" class=\"data row0 col1\" >0.82</td>\n",
       "      <td id=\"T_5c3f3_row0_col2\" class=\"data row0 col2\" >3.01</td>\n",
       "      <td id=\"T_5c3f3_row0_col3\" class=\"data row0 col3\" >4.03</td>\n",
       "    </tr>\n",
       "    <tr>\n",
       "      <td id=\"T_5c3f3_row1_col0\" class=\"data row1 col0\" >Test</td>\n",
       "      <td id=\"T_5c3f3_row1_col1\" class=\"data row1 col1\" >0.82</td>\n",
       "      <td id=\"T_5c3f3_row1_col2\" class=\"data row1 col2\" >3.05</td>\n",
       "      <td id=\"T_5c3f3_row1_col3\" class=\"data row1 col3\" >4.12</td>\n",
       "    </tr>\n",
       "  </tbody>\n",
       "</table>\n"
      ],
      "text/plain": [
       "<pandas.io.formats.style.Styler at 0x1dde4f9e3d0>"
      ]
     },
     "metadata": {},
     "output_type": "display_data"
    }
   ],
   "source": [
    "## Use our evaluate_regression function to evalaute the linear regression\n",
    "evaluate_regression(lin_reg_final, X_train_df, y_train, X_test_df, y_test)"
   ]
  },
  {
   "cell_type": "markdown",
   "id": "90a3d11d",
   "metadata": {},
   "source": [
    "### Evaluating Our Random Forest"
   ]
  },
  {
   "cell_type": "code",
   "execution_count": 9,
   "id": "670e5af1",
   "metadata": {
    "ExecuteTime": {
     "end_time": "2023-06-28T22:28:18.626894Z",
     "start_time": "2023-06-28T22:28:18.473194Z"
    }
   },
   "outputs": [
    {
     "data": {
      "text/html": [
       "<style type=\"text/css\">\n",
       "</style>\n",
       "<table id=\"T_f0977\">\n",
       "  <thead>\n",
       "    <tr>\n",
       "      <th id=\"T_f0977_level0_col0\" class=\"col_heading level0 col0\" >Split</th>\n",
       "      <th id=\"T_f0977_level0_col1\" class=\"col_heading level0 col1\" >R^2</th>\n",
       "      <th id=\"T_f0977_level0_col2\" class=\"col_heading level0 col2\" >MAE</th>\n",
       "      <th id=\"T_f0977_level0_col3\" class=\"col_heading level0 col3\" >RMSE</th>\n",
       "    </tr>\n",
       "  </thead>\n",
       "  <tbody>\n",
       "    <tr>\n",
       "      <td id=\"T_f0977_row0_col0\" class=\"data row0 col0\" >Train</td>\n",
       "      <td id=\"T_f0977_row0_col1\" class=\"data row0 col1\" >0.99</td>\n",
       "      <td id=\"T_f0977_row0_col2\" class=\"data row0 col2\" >0.45</td>\n",
       "      <td id=\"T_f0977_row0_col3\" class=\"data row0 col3\" >0.71</td>\n",
       "    </tr>\n",
       "    <tr>\n",
       "      <td id=\"T_f0977_row1_col0\" class=\"data row1 col0\" >Test</td>\n",
       "      <td id=\"T_f0977_row1_col1\" class=\"data row1 col1\" >0.97</td>\n",
       "      <td id=\"T_f0977_row1_col2\" class=\"data row1 col2\" >1.11</td>\n",
       "      <td id=\"T_f0977_row1_col3\" class=\"data row1 col3\" >1.75</td>\n",
       "    </tr>\n",
       "  </tbody>\n",
       "</table>\n"
      ],
      "text/plain": [
       "<pandas.io.formats.style.Styler at 0x1dde39ebd90>"
      ]
     },
     "metadata": {},
     "output_type": "display_data"
    }
   ],
   "source": [
    "## evaluate the random forest\n",
    "evaluate_regression(rf_reg,X_train_df,y_train, X_test_df, y_test)"
   ]
  },
  {
   "cell_type": "markdown",
   "id": "bea49fdb",
   "metadata": {},
   "source": [
    "## 🕹️  Permutation Importance"
   ]
  },
  {
   "cell_type": "code",
   "execution_count": 10,
   "id": "0b5e3f8f",
   "metadata": {
    "ExecuteTime": {
     "end_time": "2023-06-28T22:28:18.722006Z",
     "start_time": "2023-06-28T22:28:18.628568Z"
    }
   },
   "outputs": [],
   "source": [
    "from sklearn.inspection import permutation_importance"
   ]
  },
  {
   "cell_type": "markdown",
   "id": "eb8cc834",
   "metadata": {},
   "source": [
    "### RandomForest Permutation Importance"
   ]
  },
  {
   "cell_type": "markdown",
   "id": "b85652ce",
   "metadata": {},
   "source": [
    ">  Apply permutation importance to the random forest"
   ]
  },
  {
   "cell_type": "code",
   "execution_count": 11,
   "id": "d0eceb08",
   "metadata": {
    "ExecuteTime": {
     "end_time": "2023-06-28T22:28:19.238714Z",
     "start_time": "2023-06-28T22:28:18.722969Z"
    }
   },
   "outputs": [
    {
     "ename": "NameError",
     "evalue": "name 'result' is not defined",
     "output_type": "error",
     "traceback": [
      "\u001b[1;31m---------------------------------------------------------------------------\u001b[0m",
      "\u001b[1;31mNameError\u001b[0m                                 Traceback (most recent call last)",
      "Cell \u001b[1;32mIn[11], line 3\u001b[0m\n\u001b[0;32m      1\u001b[0m \u001b[38;5;66;03m## run performatation_importance on the rf  using the test data and random_state=SEED\u001b[39;00m\n\u001b[1;32m----> 3\u001b[0m \u001b[43mresult\u001b[49m\u001b[38;5;241m.\u001b[39mkeys()\n",
      "\u001b[1;31mNameError\u001b[0m: name 'result' is not defined"
     ]
    }
   ],
   "source": [
    "## run performatation_importance on the rf  using the test data and random_state=SEED\n",
    "\n",
    "result.keys()"
   ]
  },
  {
   "cell_type": "code",
   "execution_count": null,
   "id": "f3b29f18",
   "metadata": {
    "ExecuteTime": {
     "end_time": "2023-06-28T22:28:19.240709Z",
     "start_time": "2023-06-28T22:28:19.240709Z"
    }
   },
   "outputs": [],
   "source": [
    "## save the average importances as a Series\n",
    "\n"
   ]
  },
  {
   "cell_type": "code",
   "execution_count": null,
   "id": "26db5a6c",
   "metadata": {
    "ExecuteTime": {
     "end_time": "2023-06-28T22:28:19.242705Z",
     "start_time": "2023-06-28T22:28:19.242705Z"
    }
   },
   "outputs": [],
   "source": [
    "# Use our plot_importances function, but change title to \"Permutation Importance\"\n"
   ]
  },
  {
   "cell_type": "markdown",
   "id": "75d4c598",
   "metadata": {},
   "source": [
    "> Permutation Importance Can Be Applied to ANY Model!"
   ]
  },
  {
   "cell_type": "markdown",
   "id": "e211bb1a",
   "metadata": {},
   "source": [
    "### LinearRegression Permutation Importance"
   ]
  },
  {
   "cell_type": "code",
   "execution_count": null,
   "id": "b5b2375c",
   "metadata": {
    "ExecuteTime": {
     "end_time": "2023-06-28T22:28:19.243701Z",
     "start_time": "2023-06-28T22:28:19.243701Z"
    }
   },
   "outputs": [],
   "source": [
    "## run performatation_importance on the lin_reg  using the test data and random_state=SEED\n"
   ]
  },
  {
   "cell_type": "code",
   "execution_count": null,
   "id": "316fbfe6",
   "metadata": {
    "ExecuteTime": {
     "end_time": "2023-06-28T22:28:19.244698Z",
     "start_time": "2023-06-28T22:28:19.244698Z"
    }
   },
   "outputs": [],
   "source": [
    "## Make into a series called perm_importances_linreg\n"
   ]
  },
  {
   "cell_type": "markdown",
   "id": "ed09fb6b",
   "metadata": {},
   "source": [
    "# 🕹️Global Model Explanations"
   ]
  },
  {
   "cell_type": "markdown",
   "id": "895d1c9c",
   "metadata": {
    "ExecuteTime": {
     "end_time": "2023-01-13T19:13:59.215605Z",
     "start_time": "2023-01-13T19:13:59.172852Z"
    }
   },
   "source": [
    "##  Applying Shap"
   ]
  },
  {
   "cell_type": "code",
   "execution_count": null,
   "id": "2ec89e9d",
   "metadata": {
    "ExecuteTime": {
     "end_time": "2023-06-28T22:28:19.245696Z",
     "start_time": "2023-06-28T22:28:19.245696Z"
    }
   },
   "outputs": [],
   "source": [
    "# Import and init shap\n",
    "import shap\n",
    "shap.initjs()\n"
   ]
  },
  {
   "cell_type": "markdown",
   "id": "5e41405c",
   "metadata": {},
   "source": [
    "### Gather a small random sample to speed the process"
   ]
  },
  {
   "cell_type": "code",
   "execution_count": null,
   "id": "9a10976a",
   "metadata": {
    "ExecuteTime": {
     "end_time": "2023-06-28T22:28:19.246693Z",
     "start_time": "2023-06-28T22:28:19.246693Z"
    }
   },
   "outputs": [],
   "source": [
    "# Take a sample of the training data (nsampel=500, use random_state=SEED)\n",
    "\n"
   ]
  },
  {
   "cell_type": "markdown",
   "id": "daf32ca7",
   "metadata": {},
   "source": [
    "## <center> SHAP Model Usage\n",
    "\n",
    "![shap usage by model](Data/SHAPcheatsheet.png)"
   ]
  },
  {
   "cell_type": "markdown",
   "id": "df311373",
   "metadata": {},
   "source": [
    "### Create SHAP explainers for LinearRegression and RandomForestRegressor"
   ]
  },
  {
   "cell_type": "code",
   "execution_count": null,
   "id": "396f1dcc",
   "metadata": {
    "ExecuteTime": {
     "end_time": "2023-06-28T22:28:19.247690Z",
     "start_time": "2023-06-28T22:28:19.247690Z"
    }
   },
   "outputs": [],
   "source": [
    "# Instantiate a Model Explainer with the model\n",
    "\n",
    "## Get shap values from the explainer\n"
   ]
  },
  {
   "cell_type": "code",
   "execution_count": null,
   "id": "c6a945fd",
   "metadata": {
    "ExecuteTime": {
     "end_time": "2023-06-28T22:28:19.248687Z",
     "start_time": "2023-06-28T22:28:19.248687Z"
    }
   },
   "outputs": [],
   "source": [
    "## Create an explainer for the lin_reg\n",
    "\n",
    "## get shap values for linreg\n"
   ]
  },
  {
   "cell_type": "markdown",
   "id": "84d2d8b0",
   "metadata": {},
   "source": [
    "### Summary Bar Plots"
   ]
  },
  {
   "cell_type": "markdown",
   "id": "5ff91780",
   "metadata": {},
   "source": [
    "The `show=False` flag will allow us to manipulate the figure using matplotlib."
   ]
  },
  {
   "cell_type": "code",
   "execution_count": null,
   "id": "aa51c363",
   "metadata": {
    "ExecuteTime": {
     "end_time": "2023-06-28T22:28:19.250683Z",
     "start_time": "2023-06-28T22:28:19.250683Z"
    }
   },
   "outputs": [],
   "source": [
    "## create a summary plot (bar version)\n"
   ]
  },
  {
   "cell_type": "code",
   "execution_count": null,
   "id": "7806a13f",
   "metadata": {
    "ExecuteTime": {
     "end_time": "2023-06-28T22:28:19.251680Z",
     "start_time": "2023-06-28T22:28:19.251680Z"
    }
   },
   "outputs": [],
   "source": [
    "## create a summary plot (bar version)\n"
   ]
  },
  {
   "cell_type": "code",
   "execution_count": null,
   "id": "c09b7473",
   "metadata": {
    "ExecuteTime": {
     "end_time": "2023-06-28T22:28:19.252678Z",
     "start_time": "2023-06-28T22:28:19.252678Z"
    }
   },
   "outputs": [],
   "source": [
    "## create a summary plot (bar version)\n"
   ]
  },
  {
   "cell_type": "code",
   "execution_count": null,
   "id": "0a6d21ed",
   "metadata": {
    "ExecuteTime": {
     "end_time": "2023-06-28T22:28:19.254672Z",
     "start_time": "2023-06-28T22:28:19.254672Z"
    }
   },
   "outputs": [],
   "source": [
    "## create a summary plot (dot/default version)\n"
   ]
  },
  {
   "cell_type": "code",
   "execution_count": null,
   "id": "0e77507e",
   "metadata": {
    "ExecuteTime": {
     "end_time": "2023-06-28T22:28:19.255670Z",
     "start_time": "2023-06-28T22:28:19.255670Z"
    }
   },
   "outputs": [],
   "source": [
    "## create a summary plot (dot/default version)\n"
   ]
  },
  {
   "cell_type": "markdown",
   "id": "c13f3f32",
   "metadata": {},
   "source": [
    "> So why is our LinReg predicting a high life expectancy when infant deaths are high?"
   ]
  },
  {
   "cell_type": "markdown",
   "id": "54472c7e",
   "metadata": {},
   "source": [
    "## Local Explanations"
   ]
  },
  {
   "cell_type": "code",
   "execution_count": null,
   "id": "0e86cf18",
   "metadata": {
    "ExecuteTime": {
     "end_time": "2023-06-28T22:28:19.257664Z",
     "start_time": "2023-06-28T22:28:19.257664Z"
    }
   },
   "outputs": [],
   "source": [
    "## Making a vers of shap vars with 0-based integer index \n",
    "# so what it matches the index for the shap_vallues\n",
    "\n"
   ]
  },
  {
   "cell_type": "markdown",
   "id": "76c48dd2",
   "metadata": {},
   "source": [
    "### Finding a Meaningful  Example to Explain"
   ]
  },
  {
   "cell_type": "markdown",
   "id": "c96054b5",
   "metadata": {},
   "source": [
    "- Let's find the example with the most infant deaths."
   ]
  },
  {
   "cell_type": "code",
   "execution_count": null,
   "id": "337221dc",
   "metadata": {
    "ExecuteTime": {
     "end_time": "2023-06-28T22:28:19.258662Z",
     "start_time": "2023-06-28T22:28:19.258662Z"
    }
   },
   "outputs": [],
   "source": [
    "# what is the max/range of infant deaths\n"
   ]
  },
  {
   "cell_type": "code",
   "execution_count": null,
   "id": "1addcfb6",
   "metadata": {
    "ExecuteTime": {
     "end_time": "2023-06-28T22:28:19.260657Z",
     "start_time": "2023-06-28T22:28:19.260657Z"
    }
   },
   "outputs": [],
   "source": [
    "## saving the index of the most deaths\n"
   ]
  },
  {
   "cell_type": "code",
   "execution_count": null,
   "id": "afe4ad89",
   "metadata": {
    "ExecuteTime": {
     "end_time": "2023-06-28T22:28:19.261653Z",
     "start_time": "2023-06-28T22:28:19.261653Z"
    }
   },
   "outputs": [],
   "source": [
    "# checking the feature values for selected example\n"
   ]
  },
  {
   "cell_type": "code",
   "execution_count": null,
   "id": "1c08bd4b",
   "metadata": {
    "ExecuteTime": {
     "end_time": "2023-06-28T22:28:19.262652Z",
     "start_time": "2023-06-28T22:28:19.262652Z"
    }
   },
   "outputs": [],
   "source": [
    "## what was the actual life expectancy?\n"
   ]
  },
  {
   "cell_type": "markdown",
   "id": "a190a517",
   "metadata": {},
   "source": [
    "## Shap Force Plots"
   ]
  },
  {
   "cell_type": "markdown",
   "id": "65431250",
   "metadata": {},
   "source": [
    "### Force Plot - Linear Reg explanation"
   ]
  },
  {
   "cell_type": "code",
   "execution_count": null,
   "id": "9685d4e6",
   "metadata": {
    "ExecuteTime": {
     "end_time": "2023-06-28T22:28:19.264645Z",
     "start_time": "2023-06-28T22:28:19.264645Z"
    }
   },
   "outputs": [],
   "source": [
    "\n",
    "\n",
    "## plotting example force plot for most inf.deaths (from linreg)\n",
    "\n"
   ]
  },
  {
   "cell_type": "markdown",
   "id": "454b298b",
   "metadata": {},
   "source": [
    "### Force Plot - RandomForest explanation"
   ]
  },
  {
   "cell_type": "code",
   "execution_count": null,
   "id": "6e15191c",
   "metadata": {
    "ExecuteTime": {
     "end_time": "2023-06-28T22:28:19.265643Z",
     "start_time": "2023-06-28T22:28:19.265643Z"
    }
   },
   "outputs": [],
   "source": [
    "## plotting example force plot for most inf.deaths (from rf)\n",
    "\n",
    "\n",
    "\n"
   ]
  },
  {
   "cell_type": "markdown",
   "id": "d0e24b14",
   "metadata": {},
   "source": [
    "> ***Q: What do you notice when comparing the lin reg and rf reg force plots?***"
   ]
  },
  {
   "cell_type": "markdown",
   "id": "d9b5d9e9",
   "metadata": {},
   "source": [
    "# LIME"
   ]
  },
  {
   "cell_type": "code",
   "execution_count": null,
   "id": "bbdf4560",
   "metadata": {
    "ExecuteTime": {
     "end_time": "2023-06-28T22:28:19.267638Z",
     "start_time": "2023-06-28T22:28:19.267638Z"
    }
   },
   "outputs": [],
   "source": [
    "from lime.lime_tabular import LimeTabularExplainer\n",
    "\n",
    "## Create a lime explainer with X_shap_local with regression as the mode\n",
    "\n"
   ]
  },
  {
   "cell_type": "code",
   "execution_count": null,
   "id": "d5c39ccd",
   "metadata": {
    "ExecuteTime": {
     "end_time": "2023-06-28T22:28:19.268634Z",
     "start_time": "2023-06-28T22:28:19.268634Z"
    }
   },
   "outputs": [],
   "source": [
    "## Use the lime explainer to explain the selected example used above \n",
    "\n",
    "\n"
   ]
  },
  {
   "cell_type": "markdown",
   "id": "359d682d",
   "metadata": {},
   "source": [
    "___\n",
    "# APPENDIX"
   ]
  },
  {
   "cell_type": "markdown",
   "id": "5575346e",
   "metadata": {},
   "source": [
    "### Global Force Plots"
   ]
  },
  {
   "cell_type": "code",
   "execution_count": null,
   "id": "0c94b6fe",
   "metadata": {
    "ExecuteTime": {
     "end_time": "2023-06-28T22:28:19.269632Z",
     "start_time": "2023-06-28T22:28:19.269632Z"
    }
   },
   "outputs": [],
   "source": [
    "shap.force_plot(explainer_linreg.expected_value,shap_values.values,X_shap_local,)"
   ]
  },
  {
   "cell_type": "code",
   "execution_count": null,
   "id": "dfb88a7f",
   "metadata": {
    "ExecuteTime": {
     "end_time": "2023-06-28T22:28:19.271627Z",
     "start_time": "2023-06-28T22:28:19.271627Z"
    },
    "scrolled": false
   },
   "outputs": [],
   "source": [
    "shap.force_plot(explainer.expected_value,shap_values.values,X_shap_local)"
   ]
  }
 ],
 "metadata": {
  "kernelspec": {
   "display_name": "Python (dojo-env)",
   "language": "python",
   "name": "dojo-env"
  },
  "language_info": {
   "codemirror_mode": {
    "name": "ipython",
    "version": 3
   },
   "file_extension": ".py",
   "mimetype": "text/x-python",
   "name": "python",
   "nbconvert_exporter": "python",
   "pygments_lexer": "ipython3",
   "version": "3.9.15"
  },
  "toc": {
   "base_numbering": 1,
   "nav_menu": {},
   "number_sections": false,
   "sideBar": true,
   "skip_h1_title": false,
   "title_cell": "Table of Contents",
   "title_sidebar": "Contents",
   "toc_cell": false,
   "toc_position": {
    "height": "calc(100% - 180px)",
    "left": "10px",
    "top": "150px",
    "width": "247.997px"
   },
   "toc_section_display": true,
   "toc_window_display": true
  },
  "widgets": {
   "application/vnd.jupyter.widget-state+json": {
    "state": {},
    "version_major": 2,
    "version_minor": 0
   }
  }
 },
 "nbformat": 4,
 "nbformat_minor": 5
}
